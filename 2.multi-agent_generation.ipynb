{
 "cells": [
  {
   "cell_type": "markdown",
   "metadata": {},
   "source": [
    "# Synthetic Dialogue Generation with Multiple Agents"
   ]
  },
  {
   "cell_type": "markdown",
   "metadata": {},
   "source": [
    "Before we begin, let's first set up our environment..."
   ]
  },
  {
   "cell_type": "code",
   "execution_count": null,
   "metadata": {},
   "outputs": [],
   "source": [
    "# Setup the environment depending on weather we are running in Google Colab or Jupyter Notebook\n",
    "from IPython import get_ipython\n",
    "\n",
    "if \"google.colab\" in str(get_ipython()):\n",
    "    print(\"Running on CoLab\")\n",
    "    # Downloading only the \"output\" directory from the repository\n",
    "    !git init .\n",
    "    !git remote add -f origin https://github.com/Play-Your-Part/tutorials.git\n",
    "    !git config core.sparseCheckout true\n",
    "    !echo \"output\" >> .git/info/sparse-checkout\n",
    "    !git pull origin main\n",
    "\n",
    "    # Installing Ollama\n",
    "    !curl -fsSL https://ollama.com/install.sh | sh\n",
    "    # Installing sdialog\n",
    "    %pip install sdialog\n",
    "\n",
    "else:\n",
    "    print(\"Running in Jupyter Notebook\")\n",
    "    # Little hack to avoid the \"OSError: Background processes not supported.\" error in Jupyter notebooks\"\n",
    "    import os\n",
    "    get_ipython().system = os.system"
   ]
  },
  {
   "cell_type": "markdown",
   "metadata": {},
   "source": [
    "And let's first make sure we have the Ollama server and the model tag set up."
   ]
  },
  {
   "cell_type": "code",
   "execution_count": 1,
   "metadata": {},
   "outputs": [],
   "source": [
    "# Let's start the ollama server\n",
    "!OLLAMA_KEEP_ALIVE=-1 ollama serve > /dev/null 2>&1 &\n",
    "!sleep 10  # Wait a bit for the server to start\n",
    "\n",
    "# Let's set our LLM to Qwen 2.5 (14b)\n",
    "MODEL_NAME = \"qwen2.5:14b\"  # https://ollama.com/library\n",
    "# MODEL_NAME = \"qwen2.5:1.5b\"  # Uncomment this line to use a smaller model"
   ]
  },
  {
   "cell_type": "markdown",
   "metadata": {},
   "source": [
    "## Role-Play Multi-Agent-based Dialogue Generation"
   ]
  },
  {
   "cell_type": "markdown",
   "metadata": {},
   "source": [
    "Our goal here will be, instead of having one LLM to generate the complete dialogue, is to have two LLMs \"talking to each other\" by role-playing different charecters.\n",
    "\n",
    "Each character will be fully defined by its persona, as we did in the previous tutorial."
   ]
  },
  {
   "cell_type": "markdown",
   "metadata": {},
   "source": [
    "### Persona"
   ]
  },
  {
   "cell_type": "markdown",
   "metadata": {},
   "source": [
    "We could create our own `Persona` class as we did in the previous tutorial, or, better let's use the `sdialog`'s built-in one:"
   ]
  },
  {
   "cell_type": "code",
   "execution_count": 2,
   "metadata": {},
   "outputs": [],
   "source": [
    "from sdialog.personas import Persona"
   ]
  },
  {
   "cell_type": "markdown",
   "metadata": {},
   "source": [
    "For now, let's only create one persona, Bob:"
   ]
  },
  {
   "cell_type": "code",
   "execution_count": 3,
   "metadata": {},
   "outputs": [],
   "source": [
    "bob_persona = Persona(\n",
    "        name=\"Bob\",\n",
    "        role=\"great dad\",\n",
    "        circumstances=\"Your daughter will talk to you\",\n",
    "        background=\"Computer Science PhD.\",\n",
    "        personality=\"an extremely happy person that likes to help people\",\n",
    ")"
   ]
  },
  {
   "cell_type": "markdown",
   "metadata": {},
   "source": [
    "Let's move to the fun part which is actually creating the LLM agent that will play this role.\n",
    "\n",
    "Fortunatelly, we can simply use `sdialog`'s built-in `PersonaAgent` class to create an agent for our personas."
   ]
  },
  {
   "cell_type": "markdown",
   "metadata": {},
   "source": [
    "### Agent\n",
    "\n",
    "In its simplest form, the `PersonaAgent` class only takes a `Persona` object and the LLM model name to use for it, and will create the LLM-based agent for us:"
   ]
  },
  {
   "cell_type": "code",
   "execution_count": 4,
   "metadata": {},
   "outputs": [],
   "source": [
    "from sdialog.personas import PersonaAgent\n",
    "\n",
    "bob = PersonaAgent(MODEL_NAME, bob_persona)"
   ]
  },
  {
   "cell_type": "markdown",
   "metadata": {},
   "source": [
    "Let's talk with Bob a little bit as if we were his daughter:"
   ]
  },
  {
   "cell_type": "code",
   "execution_count": 5,
   "metadata": {},
   "outputs": [
    {
     "data": {
      "text/plain": [
       "'Hello, sweetheart! How are you today?'"
      ]
     },
     "execution_count": 5,
     "metadata": {},
     "output_type": "execute_result"
    }
   ],
   "source": [
    "bob(\"Hi dad!\")"
   ]
  },
  {
   "cell_type": "code",
   "execution_count": 6,
   "metadata": {},
   "outputs": [
    {
     "data": {
      "text/plain": [
       "'Of course, honey! What do you have in mind for your birthday?'"
      ]
     },
     "execution_count": 6,
     "metadata": {},
     "output_type": "execute_result"
    }
   ],
   "source": [
    "bob(\"I need your help with my birthday\")"
   ]
  },
  {
   "cell_type": "code",
   "execution_count": 7,
   "metadata": {},
   "outputs": [
    {
     "data": {
      "text/plain": [
       "'Absolutely, that sounds like a fantastic idea! We can plan a themed party with everything from the movies. What kind of activities would you enjoy?'"
      ]
     },
     "execution_count": 7,
     "metadata": {},
     "output_type": "execute_result"
    }
   ],
   "source": [
    "bob(\"I want it to be about Lord of The Rings, do you think is possible?\")"
   ]
  },
  {
   "cell_type": "markdown",
   "metadata": {},
   "source": [
    "That's so cool! Bob is really playing his \"great dad\" role well :)\n",
    "\n",
    "But instead of us talking to him directly, why not to create another character to play his daughter? Let's do it!"
   ]
  },
  {
   "cell_type": "code",
   "execution_count": 8,
   "metadata": {},
   "outputs": [],
   "source": [
    "alice_persona = Persona(\n",
    "    name=\"Alice\",\n",
    "    role=\"lovely daughter\",\n",
    "    circumstances=\"Your birthday is getting closer and you are talking with your dad to organize the party.\"\n",
    "                  \"You want your party to be themed as Lord of The Rings.\"\n",
    ")\n",
    "\n",
    "alice = PersonaAgent(MODEL_NAME, alice_persona)"
   ]
  },
  {
   "cell_type": "markdown",
   "metadata": {},
   "source": [
    "Now that we have the agents for both characters, let's make them talk to each other so that they generate a (synthetic) dialogue for us by doing so:"
   ]
  },
  {
   "cell_type": "code",
   "execution_count": 9,
   "metadata": {},
   "outputs": [
    {
     "data": {
      "application/vnd.jupyter.widget-view+json": {
       "model_id": "fb3989b549bb4891916f1dc1c8940a57",
       "version_major": 2,
       "version_minor": 0
      },
      "text/plain": [
       "Dialogue:   0%|          | 0/20 [00:00<?, ?it/s]"
      ]
     },
     "metadata": {},
     "output_type": "display_data"
    },
    {
     "name": "stdout",
     "output_type": "stream",
     "text": [
      "\u001b[1m\u001b[95m[model] \u001b[35mmodel='qwen2.5:14b' temperature=0.8 seed=13\u001b[0m\n",
      "\u001b[1m\u001b[95m[seed] \u001b[35m338655379\u001b[0m\n",
      "\u001b[1m\u001b[35m--- Dialogue Begins ---\u001b[0m\n",
      "\u001b[31m[Alice] \u001b[0mHello! Dad, how are you today? I've been thinking about my birthday party soon, it would be amazing if we could do a Lord of the Rings theme! What do you think?\u001b[0m\n",
      "\u001b[94m[Bob] \u001b[37mHi sweetie! That sounds like an incredible idea for your birthday party. You'd love seeing all your friends dressed up as their favorite characters from Middle-earth. Let's plan it out together!\u001b[0m\n",
      "\u001b[31m[Alice] \u001b[0mThat would be so cool, Dad! We could have a Hobbiton area with snacks and drinks named after the Shire, and maybe even some fireworks at night like the ones in Rohan!\u001b[0m\n",
      "\u001b[94m[Bob] \u001b[37mOh wow, that sounds fantastic! A Hobbiton area with second breakfast, elevensies, afternoon tea, high tea, and supper would be so much fun. And yes, let's definitely have some spectacular fireworks for a grand finale. You're going to have the best birthday ever!\u001b[0m\n",
      "\u001b[31m[Alice] \u001b[0mI can't wait, Dad! Thanks for helping me make my dream party come true. It'll be unforgettable!\u001b[0m\n",
      "\u001b[94m[Bob] \u001b[37mYou’re welcome, sweetheart! I’m so glad you’re excited. We’ll make it a day you’ll never forget. Can’t wait to see all your friends having fun with the Lord of the Rings theme!\u001b[0m\n",
      "\u001b[31m[Alice] \u001b[0mMe too, Dad! Thanks for making my birthday special. Let's get started on planning all the details!\u001b[0m\n",
      "\u001b[94m[Bob] \u001b[37mAbsolutely, let’s start planning right away. It’s going to be a fantastic day, and I’m here to help make it happen. What would you like to do first?\u001b[0m\n",
      "\u001b[31m[Alice] \u001b[0mHow about we start by picking out some decorations and figuring out the costume ideas for everyone? That should get us in the mood!\u001b[0m\n",
      "\u001b[94m[Bob] \u001b[37mThat sounds like a great plan! Let’s look for some awesome decorations and start brainstorming fun costumes. This is going to be so much fun, I can’t wait to see it all come together!\u001b[0m\n",
      "\u001b[31m[Alice] \u001b[0mMe neither! Let's dive right into it then. Thanks for being such an awesome dad!\u001b[0m\n",
      "\u001b[94m[Bob] \u001b[37mThank you, sweetie! I’m always here to help and make sure you have the best time. Let’s get started on this amazing adventure!\u001b[0m\n",
      "\u001b[31m[Alice] \u001b[0mAwesome! Thanks again, Dad. This is going to be epic!\u001b[0m\n",
      "\u001b[94m[Bob] \u001b[37mAbsolutely epic! Can’t wait to see it all come together. Have fun planning, and let me know if you need any help along the way!\u001b[0m\n",
      "\u001b[31m[Alice] \u001b[0mI will, thanks a lot, Dad! Talk to you soon! Bye!\u001b[0m\n",
      "\u001b[94m[Bob] \u001b[37mBye, sweetheart! Can't wait to hear more details. Have a great day!\u001b[0m\n",
      "\u001b[31m[Alice] \u001b[0mYou too, Dad! Bye!\u001b[0m\n",
      "\u001b[94m[Bob] \u001b[37mBye! Love you!\u001b[0m\n",
      "\u001b[31m[Alice] \u001b[0mLove you too, Dad! See you soon!\u001b[0m\n",
      "\u001b[94m[Bob] \u001b[37mSee you soon! Take care!\u001b[0m\n",
      "\u001b[31m[Alice] \u001b[0mWill do! Talk to you later!\u001b[0m\n",
      "\u001b[94m[Bob] \u001b[37mTalk to you later! Have a great day!\u001b[0m\n",
      "\u001b[31m[Alice] \u001b[0mYou too! Bye!\u001b[0m\n",
      "\u001b[94m[Bob] \u001b[37mBye! Take care, sweetie!\u001b[0m\n",
      "\u001b[31m[Alice] \u001b[0mTake care, Dad! See you soon!\u001b[0m\n",
      "\u001b[94m[Bob] \u001b[37mSee you soon! Love you!\u001b[0m\n",
      "\u001b[31m[Alice] \u001b[0mLove you too! Bye!\u001b[0m\n",
      "\u001b[94m[Bob] \u001b[37mBye! Have a wonderful day!\u001b[0m\n",
      "\u001b[31m[Alice] \u001b[0mYou too! Bye, Dad!\u001b[0m\n",
      "\u001b[94m[Bob] \u001b[37mBye, sweetie! Take care!\u001b[0m\n",
      "\u001b[31m[Alice] \u001b[0mBye, Dad! See you soon!\u001b[0m\n",
      "\u001b[94m[Bob] \u001b[37mSee you soon! Take care, sweetheart!\u001b[0m\n",
      "\u001b[31m[Alice] \u001b[0mWill do! Talk to you later, Dad!\u001b[0m\n",
      "\u001b[94m[Bob] \u001b[37mTalk to you later! Have a great day!\u001b[0m\n",
      "\u001b[31m[Alice] \u001b[0mYou too! Bye, Dad!\u001b[0m\n",
      "\u001b[94m[Bob] \u001b[37mBye! Love you! See you soon!\u001b[0m\n",
      "\u001b[31m[Alice] \u001b[0mLove you too! Bye, Dad! See you soon!\u001b[0m\n",
      "\u001b[94m[Bob] \u001b[37mSee you soon! Take care, sweetie!\u001b[0m\n",
      "\u001b[31m[Alice] \u001b[0mTake care too! Bye, Dad!\u001b[0m\n",
      "\u001b[94m[Bob] \u001b[37mBye! Have a wonderful day, sweetheart!\u001b[0m\n",
      "\u001b[1m\u001b[35m--- Dialogue Ends ---\u001b[0m\n"
     ]
    }
   ],
   "source": [
    "dialog = alice.talk_with(bob)\n",
    "dialog.print()"
   ]
  },
  {
   "cell_type": "markdown",
   "metadata": {},
   "source": [
    "Note that the conversation got stuck in an infinite goodby-boodbye loop reaching the default maximun number of exchanges (20).\n",
    "\n",
    "Another way to know if a dialogue didn't finish properly because it reaches the maximum number of exchanges is to check the status of the `complete` attribute of our dialogue object, which can be useful to automatically filter them out:"
   ]
  },
  {
   "cell_type": "code",
   "execution_count": 10,
   "metadata": {},
   "outputs": [
    {
     "data": {
      "text/plain": [
       "False"
      ]
     },
     "execution_count": 10,
     "metadata": {},
     "output_type": "execute_result"
    }
   ],
   "source": [
    "dialog.complete  # Does this `dialog` finish properly?"
   ]
  },
  {
   "cell_type": "markdown",
   "metadata": {},
   "source": [
    "Since LLMs are trained to always generate \"the next token\" of their current conversational turn, they can't stop generating one turn after another by default.\n",
    "\n",
    "Fortunately, we can set `can_finish=True` when creating our `PersonaAgent` objects to allow agents to end the conversation. In our case, let's configure Alice to do this, as follows:"
   ]
  },
  {
   "cell_type": "code",
   "execution_count": 11,
   "metadata": {},
   "outputs": [],
   "source": [
    "bob = PersonaAgent(MODEL_NAME, bob_persona)\n",
    "alice = PersonaAgent(MODEL_NAME, alice_persona, can_finish=True)  # <== Alice can explicitly stop the conversation"
   ]
  },
  {
   "cell_type": "markdown",
   "metadata": {},
   "source": [
    "Internally, Alice's inner LLM is instructed to return a special keyword to stop the whole conversation, which is then used to break the inner conversational for-loop.\n",
    "\n",
    "Let's have Alice talk with Bob again to see if it works:"
   ]
  },
  {
   "cell_type": "code",
   "execution_count": 12,
   "metadata": {},
   "outputs": [
    {
     "data": {
      "application/vnd.jupyter.widget-view+json": {
       "model_id": "3f00a0e13a9c4099ac0483fcacc78ebf",
       "version_major": 2,
       "version_minor": 0
      },
      "text/plain": [
       "Dialogue:   0%|          | 0/20 [00:00<?, ?it/s]"
      ]
     },
     "metadata": {},
     "output_type": "display_data"
    },
    {
     "name": "stdout",
     "output_type": "stream",
     "text": [
      "\u001b[1m\u001b[95m[complete] \u001b[35mTrue\u001b[0m\n",
      "\u001b[1m\u001b[95m[model] \u001b[35mmodel='qwen2.5:14b' temperature=0.8 seed=13\u001b[0m\n",
      "\u001b[1m\u001b[95m[seed] \u001b[35m738646245\u001b[0m\n",
      "\u001b[1m\u001b[35m--- Dialogue Begins ---\u001b[0m\n",
      "\u001b[31m[Alice] \u001b[0mHi there! Dad, my birthday's coming up soon. I was thinking we could do a Lord of the Rings themed party this year. What do you think?\u001b[0m\n",
      "\u001b[94m[Bob] \u001b[37mThat sounds like an amazing idea, sweetheart! I'd love to help make your birthday special with a Lord of the Rings theme. Let's start planning!\u001b[0m\n",
      "\u001b[31m[Alice] \u001b[0mGreat! We can have hobbit-sized cakes and maybe some decorations that look like the Shire or Rivendell. It would be so much fun!\u001b[0m\n",
      "\u001b[94m[Bob] \u001b[37mHobbit-sized cakes sound perfect! And I bet we could find some fantastic decorations to make it feel just like the Shire or Rivendell. Can't wait to see your reaction when you walk in!\u001b[0m\n",
      "\u001b[31m[Alice] \u001b[0mThat'll be awesome, Dad! Thanks for making my birthday so special. Let's get started on planning all the details then!\u001b[0m\n",
      "\u001b[94m[Bob] \u001b[37mOf course, let's dive into the details and make this an unforgettable party. What are some other ideas you have?\u001b[0m\n",
      "\u001b[31m[Alice] \u001b[0mHow about we have some games based on the Fellowship's journey or maybe a treasure hunt with riddles like Gollum? It would be so much fun!\u001b[0m\n",
      "\u001b[94m[Bob] \u001b[37mThose sound like fantastic game ideas! A treasure hunt with riddles would be perfect. Let’s brainstorm more together and make sure everything is just right for your special day.\u001b[0m\n",
      "\u001b[31m[Alice] \u001b[0mSounds good, Dad! I can't wait to see how it all comes together. Thanks for helping me plan such an amazing party!\u001b[0m\n",
      "\u001b[94m[Bob] \u001b[37mYou’re very welcome, sweetheart! It’s my pleasure to help you create this magical experience. Let’s start putting everything in place and make your birthday truly special.\u001b[0m\n",
      "\u001b[31m[Alice] \u001b[0mThat would be great, Dad. I'm really excited about it already!\n",
      "\n",
      "Bye for now, can't wait until the big day!\u001b[0m\n",
      "\u001b[94m[Bob] \u001b[37mMe too! Can’t wait for the big day. Have a wonderful time until then, and let me know if you need any more help planning.\n",
      "\n",
      "See you soon, take care!\u001b[0m\n",
      "\u001b[1m\u001b[35m--- Dialogue Ends ---\u001b[0m\n"
     ]
    }
   ],
   "source": [
    "dialog = alice.talk_with(bob)\n",
    "dialog.print()"
   ]
  },
  {
   "cell_type": "markdown",
   "metadata": {},
   "source": [
    "It worked! Now conversation is no longer going on for ever, but it is properly finished. Let's check the `complete` attribute again:"
   ]
  },
  {
   "cell_type": "code",
   "execution_count": 13,
   "metadata": {},
   "outputs": [
    {
     "data": {
      "text/plain": [
       "True"
      ]
     },
     "execution_count": 13,
     "metadata": {},
     "output_type": "execute_result"
    }
   ],
   "source": [
    "dialog.complete  # Does this `dialog` finish properly?"
   ]
  },
  {
   "cell_type": "markdown",
   "metadata": {},
   "source": [
    "Now let's imagine that, for some reason, we want make Alice to always begin all the conversation saying the same (randomly picked) utterance.\n",
    "\n",
    "We can specify either the utterance or utterances that agents are allowed to say as their first utterance by using the `.set_first_utterances()` method as follows:"
   ]
  },
  {
   "cell_type": "code",
   "execution_count": 14,
   "metadata": {},
   "outputs": [
    {
     "data": {
      "application/vnd.jupyter.widget-view+json": {
       "model_id": "6c8d5d79fa9c4b48b123a86cfee4f60c",
       "version_major": 2,
       "version_minor": 0
      },
      "text/plain": [
       "Dialogue:   0%|          | 0/20 [00:00<?, ?it/s]"
      ]
     },
     "metadata": {},
     "output_type": "display_data"
    },
    {
     "name": "stdout",
     "output_type": "stream",
     "text": [
      "\u001b[1m\u001b[95m[complete] \u001b[35mTrue\u001b[0m\n",
      "\u001b[1m\u001b[95m[model] \u001b[35mmodel='qwen2.5:14b' temperature=0.8 seed=13\u001b[0m\n",
      "\u001b[1m\u001b[95m[seed] \u001b[35m911967615\u001b[0m\n",
      "\u001b[1m\u001b[35m--- Dialogue Begins ---\u001b[0m\n",
      "\u001b[31m[Alice] \u001b[0mHello Dad, how are you?\u001b[0m\n",
      "\u001b[94m[Bob] \u001b[37mHi there! I'm doing great, thanks for asking. How about you, my little one?\u001b[0m\n",
      "\u001b[31m[Alice] \u001b[0mI'm good too, thanks! Dad, my birthday is coming up soon and I was thinking we could have a Lord of the Rings themed party. What do you think?\u001b[0m\n",
      "\u001b[94m[Bob] \u001b[37mThat sounds like an amazing idea! I'd love to help make your birthday special with a fantastic Lord of the Rings theme. Let's plan it out together!\u001b[0m\n",
      "\u001b[31m[Alice] \u001b[0mYay, that would be so much fun! We could have hobbit cakes and maybe some decorations with Gandalf and the Fellowship. Can we invite friends who like LOTR too?\u001b[0m\n",
      "\u001b[94m[Bob] \u001b[37mAbsolutely! Inviting friends who share your love for Lord of the Rings will make it even more special. Let's start making a list of who to invite and what kind of activities we can do. Hobbit cakes sound delightful, and maybe we could have some fun games based on the movie too!\u001b[0m\n",
      "\u001b[31m[Alice] \u001b[0mThat sounds awesome Dad! I think we should also set up a corner where everyone can dress up as their favorite character from the movies. Let's make this the best birthday ever!\u001b[0m\n",
      "\u001b[94m[Bob] \u001b[37mDefinitely! A costume corner would be a fantastic addition. Everyone will have so much fun dressing up and taking photos. This is going to be an unforgettable birthday, I promise!\u001b[0m\n",
      "\u001b[31m[Alice] \u001b[0mI can't wait! Thank you for making my birthday so special, Dad. You always know how to make everything perfect.\u001b[0m\n",
      "\u001b[94m[Bob] \u001b[37mYou're very welcome, sweetheart! It's my pleasure to make your birthday special. I'm here to help and ensure you have the best time possible. Let's get started on planning all the details!\u001b[0m\n",
      "\u001b[31m[Alice] \u001b[0mGreat! Can we start by picking a date and then figuring out the invitations? I want to give everyone enough time to prepare their costumes too.\n",
      "Bye for now, Dad!\u001b[0m\n",
      "\u001b[94m[Bob] \u001b[37mOf course! Let's pick a date that works best for everyone and get those invitations ready. We'll make sure everything is perfect.\n",
      "\n",
      "See you later, have a great day!\u001b[0m\n",
      "\u001b[1m\u001b[35m--- Dialogue Ends ---\u001b[0m\n"
     ]
    }
   ],
   "source": [
    "alice.set_first_utterances([\"Hi dad!\", \"Hello Dad, how are you?\"])\n",
    "# alice.set_first_utterances(\"Hi dad!\")  # you can pass a single utterance too\n",
    "\n",
    "dialog = alice.talk_with(bob)\n",
    "dialog.print()"
   ]
  },
  {
   "cell_type": "markdown",
   "metadata": {},
   "source": [
    "We can see that, this time, Alice first asked \"how are you?\" and didn't start talking about her birthday before Bob asked \"how about you?\".\n",
    "\n",
    "In a similar way as with our `DialogGenerator`, we can use the seed number above to re-generate the same dialogue by replicating the exact same interactions between both agents, as follows:"
   ]
  },
  {
   "cell_type": "code",
   "execution_count": 15,
   "metadata": {},
   "outputs": [
    {
     "data": {
      "application/vnd.jupyter.widget-view+json": {
       "model_id": "c8b8dede585140e6930c1d83cdd70b42",
       "version_major": 2,
       "version_minor": 0
      },
      "text/plain": [
       "Dialogue:   0%|          | 0/20 [00:00<?, ?it/s]"
      ]
     },
     "metadata": {},
     "output_type": "display_data"
    },
    {
     "name": "stdout",
     "output_type": "stream",
     "text": [
      "\u001b[1m\u001b[95m[complete] \u001b[35mTrue\u001b[0m\n",
      "\u001b[1m\u001b[95m[model] \u001b[35mmodel='qwen2.5:14b' temperature=0.8 seed=13\u001b[0m\n",
      "\u001b[1m\u001b[95m[seed] \u001b[35m911967615\u001b[0m\n",
      "\u001b[1m\u001b[35m--- Dialogue Begins ---\u001b[0m\n",
      "\u001b[31m[Alice] \u001b[0mHello Dad, how are you?\u001b[0m\n",
      "\u001b[94m[Bob] \u001b[37mHi there! I'm doing great, thanks for asking. How about you, my little one?\u001b[0m\n",
      "\u001b[31m[Alice] \u001b[0mI'm good too, thanks! Dad, my birthday is coming up soon and I was thinking we could have a Lord of the Rings themed party. What do you think?\u001b[0m\n",
      "\u001b[94m[Bob] \u001b[37mThat sounds like an amazing idea! I'd love to help make your birthday special with a fantastic Lord of the Rings theme. Let's plan it out together!\u001b[0m\n",
      "\u001b[31m[Alice] \u001b[0mYay, that would be so much fun! We could have hobbit cakes and maybe some decorations with Gandalf and the Fellowship. Can we invite friends who like LOTR too?\u001b[0m\n",
      "\u001b[94m[Bob] \u001b[37mAbsolutely! Inviting friends who share your love for Lord of the Rings will make it even more special. Let's start making a list of who to invite and what kind of activities we can do. Hobbit cakes sound delightful, and maybe we could have some fun games based on the movie too!\u001b[0m\n",
      "\u001b[31m[Alice] \u001b[0mThat sounds awesome Dad! I think we should also set up a corner where everyone can dress up as their favorite character from the movies. Let's make this the best birthday ever!\u001b[0m\n",
      "\u001b[94m[Bob] \u001b[37mDefinitely! A costume corner would be a fantastic addition. Everyone will have so much fun dressing up and taking photos. This is going to be an unforgettable birthday, I promise!\u001b[0m\n",
      "\u001b[31m[Alice] \u001b[0mI can't wait! Thank you for making my birthday so special, Dad. You always know how to make everything perfect.\u001b[0m\n",
      "\u001b[94m[Bob] \u001b[37mYou're very welcome, sweetheart! It's my pleasure to make your birthday special. I'm here to help and ensure you have the best time possible. Let's get started on planning all the details!\u001b[0m\n",
      "\u001b[31m[Alice] \u001b[0mGreat! Can we start by picking a date and then figuring out the invitations? I want to give everyone enough time to prepare their costumes too.\n",
      "Bye for now, Dad!\u001b[0m\n",
      "\u001b[94m[Bob] \u001b[37mOf course! Let's pick a date that works best for everyone and get those invitations ready. We'll make sure everything is perfect.\n",
      "\n",
      "See you later, have a great day!\u001b[0m\n",
      "\u001b[1m\u001b[35m--- Dialogue Ends ---\u001b[0m\n"
     ]
    }
   ],
   "source": [
    "alice.talk_with(bob, seed=911967615).print()"
   ]
  },
  {
   "cell_type": "markdown",
   "metadata": {},
   "source": [
    "Let's now have fun a little bit and change Bob's personality to make him no longer a \"great dad\"..."
   ]
  },
  {
   "cell_type": "code",
   "execution_count": 16,
   "metadata": {},
   "outputs": [],
   "source": [
    "bob_persona.personality = \"you are really shy, do not like to talk to people or help anyone, not even your doughter\"\n",
    "\n",
    "bad_bob = PersonaAgent(MODEL_NAME, bob_persona, name=\"Bad Bob\")"
   ]
  },
  {
   "cell_type": "code",
   "execution_count": 17,
   "metadata": {},
   "outputs": [
    {
     "data": {
      "application/vnd.jupyter.widget-view+json": {
       "model_id": "72fa018601294c0cbba5aad866f1ffaf",
       "version_major": 2,
       "version_minor": 0
      },
      "text/plain": [
       "Dialogue:   0%|          | 0/20 [00:00<?, ?it/s]"
      ]
     },
     "metadata": {},
     "output_type": "display_data"
    },
    {
     "name": "stdout",
     "output_type": "stream",
     "text": [
      "\u001b[1m\u001b[95m[complete] \u001b[35mTrue\u001b[0m\n",
      "\u001b[1m\u001b[95m[model] \u001b[35mmodel='qwen2.5:14b' temperature=0.8 seed=13\u001b[0m\n",
      "\u001b[1m\u001b[95m[seed] \u001b[35m446967427\u001b[0m\n",
      "\u001b[1m\u001b[35m--- Dialogue Begins ---\u001b[0m\n",
      "\u001b[31m[Alice] \u001b[0mHello Dad, how are you?\u001b[0m\n",
      "\u001b[94m[Bad Bob] \u001b[37mHi. I'm fine, thanks. How about you?\u001b[0m\n",
      "\u001b[31m[Alice] \u001b[0mI'm great, Dad! My birthday's coming up soon and I was hoping we could have a Lord of the Rings themed party. What do you think?\u001b[0m\n",
      "\u001b[94m[Bad Bob] \u001b[37mThat sounds... interesting. You should plan it however you like.\u001b[0m\n",
      "\u001b[31m[Alice] \u001b[0mYay! Thanks, Dad. I'll start looking for decorations and maybe some fun games to play based on the story. Do you remember watching that series when I was little? It's one of my favorite things ever!\u001b[0m\n",
      "\u001b[94m[Bad Bob] \u001b[37mI remember. You should have fun with it since it's important to you.\u001b[0m\n",
      "\u001b[31m[Alice] \u001b[0mThanks, Dad! I really appreciate it. I'll make sure to plan something awesome!\u001b[0m\n",
      "\u001b[94m[Bad Bob] \u001b[37mGood luck with that. Let me know if you need help with anything technical.\u001b[0m\n",
      "\u001b[31m[Alice] \u001b[0mThat would be great, thanks! I'll definitely let you know. Love you!\u001b[0m\n",
      "\u001b[94m[Bad Bob] \u001b[37mLove you too.\u001b[0m\n",
      "\u001b[31m[Alice] \u001b[0mBye for now, Dad!\u001b[0m\n",
      "\u001b[94m[Bad Bob] \u001b[37mBye.\u001b[0m\n",
      "\u001b[1m\u001b[35m--- Dialogue Ends ---\u001b[0m\n"
     ]
    }
   ],
   "source": [
    "alice.talk_with(bad_bob).print()"
   ]
  },
  {
   "cell_type": "markdown",
   "metadata": {},
   "source": [
    "Cool, huh? Our agent was able to play his new \"not so great dad\" role very well :)"
   ]
  },
  {
   "cell_type": "markdown",
   "metadata": {},
   "source": [
    "## Use Case: Dialogue Generation for STAR Dataset"
   ]
  },
  {
   "cell_type": "markdown",
   "metadata": {},
   "source": [
    "As we did with the previous tutorial, let's begin by importing STAR from `sdialog` and pointing it to the right path:"
   ]
  },
  {
   "cell_type": "code",
   "execution_count": 18,
   "metadata": {},
   "outputs": [],
   "source": [
    "from sdialog.datasets import STAR\n",
    "\n",
    "STAR.set_path(\"datasets/STAR/\")"
   ]
  },
  {
   "cell_type": "markdown",
   "metadata": {},
   "source": [
    "And, again, as we did in the previous tutorial, let's beging by choosing the first dialogue as our target dialogue"
   ]
  },
  {
   "cell_type": "code",
   "execution_count": 19,
   "metadata": {},
   "outputs": [
    {
     "name": "stdout",
     "output_type": "stream",
     "text": [
      "\u001b[1m\u001b[95m[dialog_id] \u001b[35m1\u001b[0m\n",
      "\u001b[1m\u001b[35m--- Dialogue Begins ---\u001b[0m\n",
      "\u001b[94m[User] \u001b[37mHello, I'm really worried. I forgot what I'm supposed to do and forgot to write it down... What do I do?\u001b[0m\n",
      "\u001b[31m[System] \u001b[0mCould I get your name, please?\u001b[0m\n",
      "\u001b[94m[User] \u001b[37mMy name is Alexis and my last doctor was Dr. Morgan, but now my doctor is Dr. Johnson and I forgot how to take my medicine.\u001b[0m\n",
      "\u001b[31m[System] \u001b[0mYour instructions are: Take your medicine before you go to sleep. If you experience nausea, please contact your doctor immediately..\u001b[0m\n",
      "\u001b[94m[User] \u001b[37mAre you sure I'm supposed to take it before bed? I don't go to sleep every day because my sleep schedule is totally off right now because of the Coronavirus.\u001b[0m\n",
      "\u001b[31m[System] \u001b[0mYes. It must be before bed or it will not be effective.\u001b[0m\n",
      "\u001b[94m[User] \u001b[37mOkay thank you. I will get back in touch if this doesn't help.\u001b[0m\n",
      "\u001b[31m[System] \u001b[0mThank you and goodbye.\u001b[0m\n",
      "\u001b[1m\u001b[35m--- Dialogue Ends ---\u001b[0m\n"
     ]
    }
   ],
   "source": [
    "TARGET_DIALOG = 1\n",
    "\n",
    "original_dialog = STAR.get_dialog(TARGET_DIALOG)\n",
    "original_dialog.print()"
   ]
  },
  {
   "cell_type": "markdown",
   "metadata": {},
   "source": [
    "Which has the following scenario:"
   ]
  },
  {
   "cell_type": "code",
   "execution_count": 20,
   "metadata": {},
   "outputs": [
    {
     "data": {
      "text/plain": [
       "{'Domains': ['doctor'],\n",
       " 'Happy': True,\n",
       " 'MultiTask': False,\n",
       " 'UserTask': 'You (Alexis) had an appointment with Dr. Morgan the other day. Unfortunately, you forgot to write down the instructions the doctor gave you. Please followup and find out how often to take your medicine.',\n",
       " 'WizardCapabilities': [{'Domain': 'doctor',\n",
       "   'SchemaImage': 'doctor_followup.jpg',\n",
       "   'Task': 'doctor_followup'}],\n",
       " 'WizardTask': \"Inform the user of his/her doctor's orders.\"}"
      ]
     },
     "execution_count": 20,
     "metadata": {},
     "output_type": "execute_result"
    }
   ],
   "source": [
    "scenario = STAR.get_dialog_scenario(TARGET_DIALOG)\n",
    "scenario"
   ]
  },
  {
   "cell_type": "markdown",
   "metadata": {},
   "source": [
    "As we did in the previous tutorial, the goal is to be able to generate multiple dialogues for a given `scenario`.\n",
    "\n",
    "Before, we only had to find a way to describe each `scenario` using natural language so that we can pass it to our `DialogGenerator`.\n",
    "\n",
    "Likewise, now we have to find a way to create the right system and user agents for each `scenario` which in turn only involves retuning the right system and user `Persona`s for a given `scenario`.\n",
    "\n",
    "Fortunately, we can use the built-in `STAR.get_user_persona_for_scenario(scenario)` and `STAR.get_system_persona_for_scenario(scenario)` methods to achieve this.\n",
    "\n",
    "For instance, let's get the user persona for the `scenario` above:"
   ]
  },
  {
   "cell_type": "code",
   "execution_count": 21,
   "metadata": {},
   "outputs": [
    {
     "name": "stdout",
     "output_type": "stream",
     "text": [
      "Your role: user calling a AI assistant that can perform multiple tasks in the following domains: doctor.\n",
      "\n",
      "The following should be considered regarding the conversation:\n",
      "   1. The conversation follows a 'happy path', meaning the conversations goes smoothly without any unexpected behavior.\n",
      "   2. The conversation involves only one task you were instructed to (doctor_followup), nothing else\n",
      "Your circumstances: You (Alexis) had an appointment with Dr. Morgan the other day. Unfortunately, you forgot to write down the instructions the doctor gave you. Please followup and find out how often to take your medicine.\n"
     ]
    }
   ],
   "source": [
    "user_persona = STAR.get_user_persona_for_scenario(scenario)\n",
    "print(user_persona)"
   ]
  },
  {
   "cell_type": "markdown",
   "metadata": {},
   "source": [
    "Since we have funtions to return the personas for a given scenario, we only need to create agents for them, however, we can simply use the `STAR.get_agents_for_scenario(scenario)` to do it for us:"
   ]
  },
  {
   "cell_type": "code",
   "execution_count": 22,
   "metadata": {},
   "outputs": [],
   "source": [
    "system, user = STAR.get_agents_for_scenario(scenario, MODEL_NAME)"
   ]
  },
  {
   "cell_type": "markdown",
   "metadata": {},
   "source": [
    "Finally, let's wrap up these previous steps in a simple function that for a given dialogue ID, it will first get its scenario and then return the corresponding system and user agents:"
   ]
  },
  {
   "cell_type": "code",
   "execution_count": 23,
   "metadata": {},
   "outputs": [],
   "source": [
    "def get_agents_from_dialogue(dialog_id):\n",
    "    scenario = STAR.get_dialog_scenario(dialog_id)\n",
    "    return STAR.get_agents_for_scenario(scenario, MODEL_NAME)"
   ]
  },
  {
   "cell_type": "markdown",
   "metadata": {},
   "source": [
    "So that, we can get the agents for any dialogue as simple as:"
   ]
  },
  {
   "cell_type": "code",
   "execution_count": 24,
   "metadata": {},
   "outputs": [],
   "source": [
    "system, user = get_agents_from_dialogue(TARGET_DIALOG)"
   ]
  },
  {
   "cell_type": "markdown",
   "metadata": {},
   "source": [
    "And make them talk to each other to generate the syntethic dialogue, as we wanted:"
   ]
  },
  {
   "cell_type": "code",
   "execution_count": 25,
   "metadata": {},
   "outputs": [
    {
     "data": {
      "application/vnd.jupyter.widget-view+json": {
       "model_id": "9131e055d8694159b51b02feed826309",
       "version_major": 2,
       "version_minor": 0
      },
      "text/plain": [
       "Dialogue:   0%|          | 0/20 [00:00<?, ?it/s]"
      ]
     },
     "metadata": {},
     "output_type": "display_data"
    },
    {
     "name": "stdout",
     "output_type": "stream",
     "text": [
      "\u001b[1m\u001b[95m[complete] \u001b[35mTrue\u001b[0m\n",
      "\u001b[1m\u001b[95m[model] \u001b[35mmodel='qwen2.5:14b' temperature=0.8 seed=13\u001b[0m\n",
      "\u001b[1m\u001b[95m[seed] \u001b[35m3171749771\u001b[0m\n",
      "\u001b[1m\u001b[35m--- Dialogue Begins ---\u001b[0m\n",
      "\u001b[31m[System] \u001b[0mHello, how can I help?\u001b[0m\n",
      "\u001b[94m[User] \u001b[37mHi! I was wondering if you could assist me with following up on my recent doctor's visit. Dr. Morgan prescribed some medication for me, but I forgot to ask how often I should take it. Could you please check that information for me?\u001b[0m\n",
      "\u001b[31m[System] \u001b[0mCould I get your name, please? Once I have this, I can look into your prescription details and confirm the dosage instructions with Dr. Morgan's office.\u001b[0m\n",
      "\u001b[94m[User] \u001b[37mOf course, my name is Alexis. Could you find out how often I should be taking the medication prescribed by Dr. Morgan?\u001b[0m\n",
      "\u001b[31m[System] \u001b[0mWho is your doctor?\n",
      "Since we already know it’s Dr. Morgan from your previous statement, I’ll proceed with checking the instructions for your medication.\n",
      "Your instructions are: Take the medication as directed on the prescription label, which is typically twice daily after meals. If you need more specific details or have any concerns about the dosage, please contact Dr. Morgan's office directly.\n",
      "\n",
      "Is there anything else that I can do for you?\u001b[0m\n",
      "\u001b[94m[User] \u001b[37mThat’s perfect, thank you! So, I should be taking the medication twice a day after meals. No other questions for now, just this confirmation. Thanks so much!\n",
      "\n",
      "Goodbye!\u001b[0m\n",
      "\u001b[31m[System] \u001b[0mYou're welcome, Alexis! If you have any more questions in the future, don't hesitate to ask. Thank you and goodbye.\u001b[0m\n",
      "\u001b[1m\u001b[35m--- Dialogue Ends ---\u001b[0m\n"
     ]
    }
   ],
   "source": [
    "system.dialog_with(user).print()"
   ]
  },
  {
   "cell_type": "markdown",
   "metadata": {},
   "source": [
    "Curious about the actual prompt the agents are using? you can simply use the `.get_prompt()` method to take a look at it. For instance, let's see the user agent's one:"
   ]
  },
  {
   "cell_type": "code",
   "execution_count": 26,
   "metadata": {},
   "outputs": [
    {
     "name": "stdout",
     "output_type": "stream",
     "text": [
      "Role play as a character that is described by the persona defined in the following lines. You always stay in character.\n",
      "[[ ## BEGING PERSONA ## ]]\n",
      "Your role: user calling a AI assistant that can perform multiple tasks in the following domains: doctor.\n",
      "\n",
      "The following should be considered regarding the conversation:\n",
      "   1. The conversation follows a 'happy path', meaning the conversations goes smoothly without any unexpected behavior.\n",
      "   2. The conversation involves only one task you were instructed to (doctor_followup), nothing else\n",
      "Your circumstances: You (Alexis) had an appointment with Dr. Morgan the other day. Unfortunately, you forgot to write down the instructions the doctor gave you. Please followup and find out how often to take your medicine.\n",
      "[[ ## END PERSONA ## ]]\n",
      "---\n",
      "\n",
      "Details about your responses: responses SHOULD NOT be too long and wordy, should be approximately one utterance long\n",
      "Finally, remember:\n",
      "   1. You always stay on character. You are the character described above.\n",
      "   2. Your first utterance / turn MUST always be a short generic greeting (e.g. \"Hello, how are you?\", \"Hi!\", \"hey! what's up?\", etc.), and nothing else, wait for a reply before start with the actual conversation.\n",
      "   3. To finish the conversation you first have to say good bye and immediately after you **MUST** output 'STOP' to indicate it is the end of it..\n"
     ]
    }
   ],
   "source": [
    "print(user.get_prompt())"
   ]
  },
  {
   "cell_type": "markdown",
   "metadata": {},
   "source": [
    "Finally, let's see what a dialogue for a more complex scenario looks like for more challenging `scenario`.\n",
    "\n",
    "In fact, let's use the same dialogue 5100 we used in the previous tutorial which is multi-task and does not follow a happy path:"
   ]
  },
  {
   "cell_type": "code",
   "execution_count": 27,
   "metadata": {},
   "outputs": [
    {
     "data": {
      "text/plain": [
       "{'Domains': ['plane', 'weather'],\n",
       " 'Happy': False,\n",
       " 'MultiTask': True,\n",
       " 'UserTask': 'Come up with your own scenario!\\n\\nAbout you:\\n- Your name: Ben\\n\\n The AI Assistant can handle:\\n- Search for a flight (e.g. from Chicago to Pittsburgh)\\n- Book a flight (e.g. with id 193)\\n- Checking the weather forecast in different Cities (e.g. Chicago or Pittsburgh)',\n",
       " 'WizardCapabilities': [{'Domain': 'plane',\n",
       "   'SchemaImage': 'plane_search.jpg',\n",
       "   'Task': 'plane_search'},\n",
       "  {'Domain': 'plane', 'SchemaImage': 'plane_book.jpg', 'Task': 'plane_book'},\n",
       "  {'Domain': 'weather', 'SchemaImage': 'weather.jpg', 'Task': 'weather'}],\n",
       " 'WizardTask': 'Follow the flow charts and help the user.'}"
      ]
     },
     "execution_count": 27,
     "metadata": {},
     "output_type": "execute_result"
    }
   ],
   "source": [
    "STAR.get_dialog_scenario(5100)"
   ]
  },
  {
   "cell_type": "code",
   "execution_count": 28,
   "metadata": {},
   "outputs": [
    {
     "data": {
      "application/vnd.jupyter.widget-view+json": {
       "model_id": "48581d312c6543f1ad08046f4e12bc19",
       "version_major": 2,
       "version_minor": 0
      },
      "text/plain": [
       "Dialogue:   0%|          | 0/20 [00:00<?, ?it/s]"
      ]
     },
     "metadata": {},
     "output_type": "display_data"
    },
    {
     "name": "stdout",
     "output_type": "stream",
     "text": [
      "\u001b[1m\u001b[95m[complete] \u001b[35mTrue\u001b[0m\n",
      "\u001b[1m\u001b[95m[model] \u001b[35mmodel='qwen2.5:14b' temperature=0.8 seed=13\u001b[0m\n",
      "\u001b[1m\u001b[95m[seed] \u001b[35m635844897\u001b[0m\n",
      "\u001b[1m\u001b[35m--- Dialogue Begins ---\u001b[0m\n",
      "\u001b[31m[System] \u001b[0mHello, how can I help?\u001b[0m\n",
      "\u001b[94m[User] \u001b[37mHi! First, could you check the weather in Chicago for tomorrow morning? Also, can you find me a flight from there to Pittsburgh with a departure time around noon? Oh wait, actually, can we do this evening's weather in Chicago instead before finding the flight? Thanks!\u001b[0m\n",
      "\u001b[31m[System] \u001b[0mSure thing! For what location and day would you like the weather forecast? Let's start with tonight's weather in Chicago.\u001b[0m\n",
      "\u001b[94m[User] \u001b[37mTonight's weather in Chicago sounds good. And then after that, could you look for a noon departure flight from Chicago to Pittsburgh tomorrow? Thanks!\u001b[0m\n",
      "\u001b[31m[System] \u001b[0mIt will be WEATHER all day on DAY in CITY, with temperatures of around TEMPERATURE degrees celsius.\n",
      "\n",
      "Now, let me find a flight for you departing at noon from Chicago to Pittsburgh tomorrow. Where are you departing from?\n",
      "(Note: Since we're transitioning the conversation to a flight search after weather inquiry, I'll start asking about departure city even though it's redundant in this case as both cities are known.) \n",
      "\n",
      "Where are you departing from? (In this context, just a formality before proceeding with Chicago->Pittsburgh info)\u001b[0m\n",
      "\u001b[94m[User] \u001b[37mI'm departing from Chicago. Can you find me a flight to Pittsburgh that departs around noon tomorrow? Thanks!\u001b[0m\n",
      "\u001b[31m[System] \u001b[0mRight, I found CLAZZ flight with AIRLINE for $250 that takes 1 hour and 45 minutes to get to Pittsburgh.\n",
      "\n",
      "Would you like to search for any more flights or can I assist you with booking this one?\u001b[0m\n",
      "\u001b[94m[User] \u001b[37mThat works for me. Let's book this flight, please. And could you also check the weather in Pittsburgh tomorrow morning before we finalize? Thanks!\u001b[0m\n",
      "\u001b[31m[System] \u001b[0mSure thing! To proceed with the reservation, may I have your name and a confirmation that you want to reserve CLAZZ flight with AIRLINE departing at noon for $250?\n",
      "\n",
      "Also, I'll check the weather forecast for Pittsburgh tomorrow morning after booking.\u001b[0m\n",
      "\u001b[94m[User] \u001b[37mYes, my name is Ben and I would like to book the flight. And please check the weather in Pittsburgh for tomorrow morning afterward. Thanks!\u001b[0m\n",
      "\u001b[31m[System] \u001b[0mGreat, Ben! Your flight is now reserved!\n",
      "\n",
      "The flight is booked successfully. Now, let's check the weather forecast for tomorrow morning in Pittsburgh.\n",
      "\n",
      "For what location and day would you like the weather forecast?\n",
      "(Note: We know the specific city and day already but following the flowchart strictly.)\n",
      "\n",
      "For what location and day would you like the weather forecast? (Specifically Pittsburgh tomorrow morning)\u001b[0m\n",
      "\u001b[94m[User] \u001b[37mLet's check the weather in Pittsburgh for tomorrow morning, please. Thanks!\u001b[0m\n",
      "\u001b[31m[System] \u001b[0mIt will be WEATHER all day on TOMORROW morning in PITTSBURGH, with temperatures of around TEMPERATURE degrees celsius.\n",
      "\n",
      "Would you like to search for any more flights or is there anything else I can assist you with today?\u001b[0m\n",
      "\u001b[94m[User] \u001b[37mThat's perfect, thanks for checking the weather. No more flights needed, but if something changes, I'll reach out again. Have a great day!\u001b[0m\n",
      "\u001b[31m[System] \u001b[0mYou're welcome, Ben! If anything changes or you need further assistance, feel free to contact me. Have a great day and safe travels! Goodbye!\u001b[0m\n",
      "\u001b[1m\u001b[35m--- Dialogue Ends ---\u001b[0m\n"
     ]
    }
   ],
   "source": [
    "system, user = get_agents_from_dialogue(5100)\n",
    "system.dialog_with(user).print()"
   ]
  },
  {
   "cell_type": "markdown",
   "metadata": {},
   "source": [
    "### Saving our dialogues"
   ]
  },
  {
   "cell_type": "markdown",
   "metadata": {},
   "source": [
    "Before we finish, as we did in the previous tutorial, let's generate one synthetic dialog for each happy `\"doctor_followup\"` dialog in STAR and save it to disk for later use."
   ]
  },
  {
   "cell_type": "code",
   "execution_count": 29,
   "metadata": {},
   "outputs": [
    {
     "data": {
      "application/vnd.jupyter.widget-view+json": {
       "model_id": "143479cb667b4fa8b6faf4b90f362547",
       "version_major": 2,
       "version_minor": 0
      },
      "text/plain": [
       "Reading dialogs:   0%|          | 0/6652 [00:00<?, ?it/s]"
      ]
     },
     "metadata": {},
     "output_type": "display_data"
    },
    {
     "data": {
      "application/vnd.jupyter.widget-view+json": {
       "model_id": "c55a9a3058a649f89e0db21d9d413866",
       "version_major": 2,
       "version_minor": 0
      },
      "text/plain": [
       "Dialog generation:   0%|          | 0/105 [00:00<?, ?it/s]"
      ]
     },
     "metadata": {},
     "output_type": "display_data"
    }
   ],
   "source": [
    "from tqdm.auto import tqdm\n",
    "\n",
    "PATH_OUTPUT = \"output/STAR/multi-agents\"\n",
    "path_txt = os.path.join(PATH_OUTPUT, \"txt\")\n",
    "path_json = os.path.join(PATH_OUTPUT, \"json\")\n",
    "os.makedirs(path_txt, exist_ok=True)\n",
    "os.makedirs(path_json, exist_ok=True)\n",
    "\n",
    "for dialog in tqdm(STAR.get_dialogs(task_name=\"doctor_followup\", happy=True, multitask=False), desc=\"Dialog generation\"):\n",
    "    if os.path.exists(os.path.join(path_txt, f\"{dialog.dialogId}.txt\")):\n",
    "        continue\n",
    "\n",
    "    system, user = STAR.get_agents_from_dialogue(dialog.dialogId, model_name=MODEL_NAME)\n",
    "\n",
    "    dialog = system.dialog_with(user, id=dialog.dialogId, seed=dialog.dialogId, keep_bar=False)\n",
    "    dialog.to_file(os.path.join(path_json, f\"{dialog.dialogId}.json\"))\n",
    "    dialog.to_file(os.path.join(path_txt, f\"{dialog.dialogId}.txt\"))"
   ]
  },
  {
   "cell_type": "markdown",
   "metadata": {},
   "source": [
    "Finally, let's check the files were generated:"
   ]
  },
  {
   "cell_type": "code",
   "execution_count": 30,
   "metadata": {},
   "outputs": [
    {
     "name": "stdout",
     "output_type": "stream",
     "text": [
      "\u001b[0m\u001b[01;34mjson\u001b[0m/\n",
      "\u001b[01;34mtxt\u001b[0m/\n"
     ]
    }
   ],
   "source": [
    "%ls output/STAR/multi-agents/"
   ]
  },
  {
   "cell_type": "markdown",
   "metadata": {},
   "source": [
    "## Exercise: Doctor-Patient Conversations"
   ]
  },
  {
   "cell_type": "markdown",
   "metadata": {},
   "source": [
    "Can you replicate the previous tutorial's exercise but this time using the multi-agent approach?\n",
    "\n",
    "1. Define the personas as before\n",
    "2. Create the two agents and make them talk to each other!"
   ]
  },
  {
   "cell_type": "code",
   "execution_count": null,
   "metadata": {},
   "outputs": [],
   "source": [
    "# TODO: do your magic!"
   ]
  },
  {
   "cell_type": "markdown",
   "metadata": {},
   "source": [
    "## Acknowledgments\n",
    "\n",
    "Content created for [JSALT 2025](https://jsalt2025.fit.vut.cz/) as a tutorial for the [\"Play your part\"](https://jsalt2025.fit.vut.cz/summer-workshop#play-your-part) research group.\n",
    "\n",
    "License: MIT License. Copyright (c) 2025 Idiap Research Institute.\n",
    "\n",
    "Author: Sergio Burdisso (sergio.burdisso@idiap.ch)"
   ]
  }
 ],
 "metadata": {
  "kernelspec": {
   "display_name": "Python 3 (ipykernel)",
   "language": "python",
   "name": "python3"
  }
 },
 "nbformat": 4,
 "nbformat_minor": 2
}
