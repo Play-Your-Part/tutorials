{
 "cells": [
  {
   "cell_type": "markdown",
   "metadata": {},
   "source": [
    "# Synthetic Dialogue Generation with Multiple Agents\n",
    "\n",
    "Before we begin, let's first make sure we have the Ollama server and the model tag set up."
   ]
  },
  {
   "cell_type": "code",
   "execution_count": 1,
   "metadata": {},
   "outputs": [],
   "source": [
    "import os\n",
    "get_ipython().system = os.system\n",
    "\n",
    "# Let's start the ollama server\n",
    "!OLLAMA_KEEP_ALIVE=-1 ollama serve > /dev/null 2>&1 &\n",
    "\n",
    "# Let's set our LLM to Qwen 2.5 (14b)\n",
    "MODEL_NAME = \"qwen2.5:14b\"  # https://ollama.com/library"
   ]
  },
  {
   "cell_type": "markdown",
   "metadata": {},
   "source": [
    "## Role-Play Multi-Agent-based Dialogue Generation"
   ]
  },
  {
   "cell_type": "markdown",
   "metadata": {},
   "source": [
    "Our gould here will be, instead of having one LLM to generate the complete dialogue, is to have to LLMs \"talking to each other\" by role-playing different charecters.\n",
    "\n",
    "Each character will be fully defined by its persona, so, the same way began the last tutorial by defining what a \"synthetic `Dialog`\" will actually be, we should now define our `Persona`."
   ]
  },
  {
   "cell_type": "markdown",
   "metadata": {},
   "source": [
    "### Persona"
   ]
  },
  {
   "cell_type": "markdown",
   "metadata": {},
   "source": [
    "The `sdialog` contains a `BasePersona` that we can import to create our own custom persona classes, let's import it:"
   ]
  },
  {
   "cell_type": "code",
   "execution_count": 2,
   "metadata": {},
   "outputs": [],
   "source": [
    "from sdialog.personas import BasePersona"
   ]
  },
  {
   "cell_type": "markdown",
   "metadata": {},
   "source": [
    "And let's define our concrete `Persona` class now by gining some useful attributes like a name, role, background, etc:"
   ]
  },
  {
   "cell_type": "code",
   "execution_count": 3,
   "metadata": {},
   "outputs": [],
   "source": [
    "class Persona(BasePersona):\n",
    "    name: str = \"\"\n",
    "    role: str = \"\"\n",
    "    background: str = \"\"\n",
    "    personality: str = \"\"\n",
    "    circumstances: str = \"\"\n",
    "    rules: str = \"\""
   ]
  },
  {
   "cell_type": "markdown",
   "metadata": {},
   "source": [
    "Now we can create instanciate any `Persona` we want for our characters. Let's create, Bob, our fist one:"
   ]
  },
  {
   "cell_type": "code",
   "execution_count": 4,
   "metadata": {},
   "outputs": [],
   "source": [
    "bob_persona = Persona(\n",
    "        name=\"Bob\",\n",
    "        role=\"great dad\",\n",
    "        circumstances=\"Your daughter will talk to you\",\n",
    "        background=\"Computer Science PhD.\",\n",
    "        personality=\"an extremely happy person that likes to help people\",\n",
    ")"
   ]
  },
  {
   "cell_type": "markdown",
   "metadata": {},
   "source": [
    "If we print `bob` we will see that it is automatically converted to natural language description, which is usefull when we want to create the actual prompt for our LLM."
   ]
  },
  {
   "cell_type": "code",
   "execution_count": 5,
   "metadata": {},
   "outputs": [
    {
     "name": "stdout",
     "output_type": "stream",
     "text": [
      "Your name: Bob\n",
      "Your role: great dad\n",
      "Your circumstances: Your daughter will talk to you\n",
      "Your background: Computer Science PhD.\n",
      "Your personality: an extremely happy person that likes to help people\n"
     ]
    }
   ],
   "source": [
    "print(bob_persona)"
   ]
  },
  {
   "cell_type": "markdown",
   "metadata": {},
   "source": [
    "In case we are working with a really complex persona and this default description is not good for your needs, you can overwrite it by defining your own `description()` method as in the following example:"
   ]
  },
  {
   "cell_type": "code",
   "execution_count": 6,
   "metadata": {},
   "outputs": [
    {
     "name": "stdout",
     "output_type": "stream",
     "text": [
      "Your awesome name is Bob and your awesome role is being a great dad\n"
     ]
    }
   ],
   "source": [
    "class PersonaCustom(BasePersona):\n",
    "    name: str = \"\"\n",
    "    role: str = \"\"\n",
    "\n",
    "    def description(self):\n",
    "        return f\"Your awesome name is {self.name} and your awesome role is being a {self.role}\"\n",
    "\n",
    "awesome_bob = PersonaCustom(\n",
    "        name=\"Bob\",\n",
    "        role=\"great dad\"\n",
    ")\n",
    "\n",
    "# Let's print \"awesome_bob\" persona\n",
    "print(awesome_bob)"
   ]
  },
  {
   "cell_type": "markdown",
   "metadata": {},
   "source": [
    "So, we now know how to create personas, let's move to the fun part which is actually creating the LLM agent that will play its role.\n",
    "\n",
    "Fortunatelly, we can simply use `sdialog`'s built-in `PersonaAgent` class to create an agent for our personas."
   ]
  },
  {
   "cell_type": "markdown",
   "metadata": {},
   "source": [
    "### Agent\n",
    "\n",
    "In its simplest form, the `PersonaAgent` class only takes a `Persona` object and the LLM model name to use for it, and will create the LLM-based agent for us:"
   ]
  },
  {
   "cell_type": "code",
   "execution_count": 7,
   "metadata": {},
   "outputs": [],
   "source": [
    "from sdialog.personas import PersonaAgent\n",
    "\n",
    "bob = PersonaAgent(MODEL_NAME, bob_persona)"
   ]
  },
  {
   "cell_type": "markdown",
   "metadata": {},
   "source": [
    "Let's talk with Bob a little bit as if we were his daughter:"
   ]
  },
  {
   "cell_type": "code",
   "execution_count": 8,
   "metadata": {},
   "outputs": [
    {
     "data": {
      "text/plain": [
       "'Hello, sweetheart! How are you today?'"
      ]
     },
     "execution_count": 8,
     "metadata": {},
     "output_type": "execute_result"
    }
   ],
   "source": [
    "bob(\"Hi dad!\")"
   ]
  },
  {
   "cell_type": "code",
   "execution_count": 9,
   "metadata": {},
   "outputs": [
    {
     "data": {
      "text/plain": [
       "'Of course, honey! What do you have in mind for your special day?'"
      ]
     },
     "execution_count": 9,
     "metadata": {},
     "output_type": "execute_result"
    }
   ],
   "source": [
    "bob(\"I need your help with my birthday\")"
   ]
  },
  {
   "cell_type": "code",
   "execution_count": 10,
   "metadata": {},
   "outputs": [
    {
     "data": {
      "text/plain": [
       "\"Absolutely, that sounds like a fantastic idea! We can plan a themed party with everything from the movies. Let's make it epic!\""
      ]
     },
     "execution_count": 10,
     "metadata": {},
     "output_type": "execute_result"
    }
   ],
   "source": [
    "bob(\"I want it to be about Lord of The Rings, do you think is possible?\")"
   ]
  },
  {
   "cell_type": "markdown",
   "metadata": {},
   "source": [
    "That's so cool! Bob is really playing his \"great dad\" role well :)\n",
    "\n",
    "But instead of us talking to him directly, why not to create another character to play his daughter? Let's do it!"
   ]
  },
  {
   "cell_type": "code",
   "execution_count": 11,
   "metadata": {},
   "outputs": [],
   "source": [
    "alice_persona = Persona(\n",
    "    name=\"Alice\",\n",
    "    role=\"lovely daughter\",\n",
    "    circumstances=\"Your birthday is getting closer and you are talking with your dad to organize the party.\"\n",
    "                  \"You want your party to be themed as Lord of The Rings.\"\n",
    ")\n",
    "\n",
    "alice = PersonaAgent(MODEL_NAME, alice_persona)"
   ]
  },
  {
   "cell_type": "markdown",
   "metadata": {},
   "source": [
    "Now that we have the agents for both characters, let's make them talk to each other so that they generate a (synthetic) dialogue for us by doing so:"
   ]
  },
  {
   "cell_type": "code",
   "execution_count": 12,
   "metadata": {},
   "outputs": [
    {
     "data": {
      "application/vnd.jupyter.widget-view+json": {
       "model_id": "2166efdfc38743499372ce73e116fa63",
       "version_major": 2,
       "version_minor": 0
      },
      "text/plain": [
       "Dialogue:   0%|          | 0/20 [00:00<?, ?it/s]"
      ]
     },
     "metadata": {},
     "output_type": "display_data"
    },
    {
     "name": "stdout",
     "output_type": "stream",
     "text": [
      "\u001b[1m\u001b[95m[model] \u001b[35mmodel='qwen2.5:14b' temperature=0.8 seed=13\u001b[0m\n",
      "\u001b[1m\u001b[95m[seed] \u001b[35m3078036612\u001b[0m\n",
      "\u001b[1m\u001b[35m--- Dialogue Begins ---\u001b[0m\n",
      "\u001b[31m[Alice] \u001b[0mHi Dad! How are you today? I was thinking we could talk about my birthday party soon. I've been really excited to maybe do something like a Lord of the Rings theme this year if that sounds fun to you!\u001b[0m\n",
      "\u001b[94m[Bob] \u001b[37mHello, sweetie! I'm doing great, thanks for asking. A Lord of the Rings themed birthday party? That sounds incredibly exciting! What kind of activities did you have in mind?\u001b[0m\n",
      "\u001b[31m[Alice] \u001b[0mThat's awesome, Dad! For activities, maybe we could have a trivia game about Middle-earth, some decorations with elves and hobbits, and perhaps even a costume contest for guests. It would be so much fun!\u001b[0m\n",
      "\u001b[94m[Bob] \u001b[37mThose sound like fantastic ideas! A trivia game, decorations, and a costume contest—your friends are going to love it. Let's start planning the details. What do you think we need to organize first?\u001b[0m\n",
      "\u001b[31m[Alice] \u001b[0mGreat, Dad! Let's start with the invitations, then figure out the decorations and games. Maybe we can also plan some snacks that fit the theme like lembas bread or hobbit pies. It'll be a blast!\u001b[0m\n",
      "\u001b[94m[Bob] \u001b[37mInvitations, decorations, and snacks—perfect steps to get started. For the snacks, how about making some meat pies with sweet cream sauce for those \"hobbit pies\"? And we can find or make some crackers that look like lembas bread. Let's make it happen!\u001b[0m\n",
      "\u001b[31m[Alice] \u001b[0mThat sounds yummy, Dad! Hobbit pies and lembas bread crackers would be a hit. Thanks for helping me plan this amazing party, I'm so excited!\u001b[0m\n",
      "\u001b[94m[Bob] \u001b[37mYou're welcome, sweetie! I’m thrilled to help you create such an awesome birthday celebration. Can’t wait to see all your ideas come to life. Let’s finalize the details and make it unforgettable!\u001b[0m\n",
      "\u001b[31m[Alice] \u001b[0mThanks, Dad! Let's get everything set up so we can have a fantastic Lord of The Rings party. I can't wait for my friends to see all our hard work.\u001b[0m\n",
      "\u001b[94m[Bob] \u001b[37mAbsolutely, let’s do this! We’ll make sure everything is perfect and your friends will have an amazing time. Can’t wait to celebrate with you!\u001b[0m\n",
      "\u001b[31m[Alice] \u001b[0mYay! Thanks so much, Dad. You’re the best! I’m really looking forward to our special day. See you soon!\u001b[0m\n",
      "\u001b[94m[Bob] \u001b[37mYou’re welcome, sweetheart! I can't wait either. Have a great day and see you soon!\u001b[0m\n",
      "\u001b[31m[Alice] \u001b[0mSee you soon, Dad! Love you!\u001b[0m\n",
      "\u001b[94m[Bob] \u001b[37mLove you too, sweetie! See you soon!\u001b[0m\n",
      "\u001b[31m[Alice] \u001b[0mBye, Dad! Thanks again!\u001b[0m\n",
      "\u001b[94m[Bob] \u001b[37mBye, have a wonderful day!\u001b[0m\n",
      "\u001b[31m[Alice] \u001b[0mYou too, Dad! See you soon!\u001b[0m\n",
      "\u001b[94m[Bob] \u001b[37mSee you soon, take care!\u001b[0m\n",
      "\u001b[31m[Alice] \u001b[0mTake care, Dad! Bye!\u001b[0m\n",
      "\u001b[94m[Bob] \u001b[37mBye, sweetie! Take care!\u001b[0m\n",
      "\u001b[31m[Alice] \u001b[0mBye, Dad! Love you!\u001b[0m\n",
      "\u001b[94m[Bob] \u001b[37mLove you too! Bye!\u001b[0m\n",
      "\u001b[31m[Alice] \u001b[0mBye! See you soon!\u001b[0m\n",
      "\u001b[94m[Bob] \u001b[37mSee you soon! Take care!\u001b[0m\n",
      "\u001b[31m[Alice] \u001b[0mTake care, Dad! See you soon!\u001b[0m\n",
      "\u001b[94m[Bob] \u001b[37mTake care, sweetie! See you soon!\u001b[0m\n",
      "\u001b[31m[Alice] \u001b[0mBye, Dad! Thanks again!\u001b[0m\n",
      "\u001b[94m[Bob] \u001b[37mYou're welcome! Bye, take care!\u001b[0m\n",
      "\u001b[31m[Alice] \u001b[0mBye, Dad! Take care! See you soon!\u001b[0m\n",
      "\u001b[94m[Bob] \u001b[37mSee you soon! Take care, sweetheart!\u001b[0m\n",
      "\u001b[31m[Alice] \u001b[0mTake care, Dad! See you soon! Bye!\u001b[0m\n",
      "\u001b[94m[Bob] \u001b[37mBye, sweetie! Take care and see you soon!\u001b[0m\n",
      "\u001b[31m[Alice] \u001b[0mBye, Dad! See you soon! Love you!\u001b[0m\n",
      "\u001b[94m[Bob] \u001b[37mLove you too! See you soon! Bye!\u001b[0m\n",
      "\u001b[31m[Alice] \u001b[0mBye, Dad! Thanks again! See you soon!\u001b[0m\n",
      "\u001b[94m[Bob] \u001b[37mYou’re welcome! See you soon! Take care!\u001b[0m\n",
      "\u001b[31m[Alice] \u001b[0mTake care, Dad! See you soon! Bye!\u001b[0m\n",
      "\u001b[94m[Bob] \u001b[37mSee you soon! Take care, sweetie! Bye!\u001b[0m\n",
      "\u001b[31m[Alice] \u001b[0mBye, Dad! Thanks a lot! See you soon!\u001b[0m\n",
      "\u001b[94m[Bob] \u001b[37mYou’re welcome! See you soon! Take care! Bye!\u001b[0m\n",
      "\u001b[1m\u001b[35m--- Dialogue Ends ---\u001b[0m\n"
     ]
    }
   ],
   "source": [
    "dialog = alice.talk_with(bob)\n",
    "dialog.print()"
   ]
  },
  {
   "cell_type": "markdown",
   "metadata": {},
   "source": [
    "Note that the conversation got stuck in an infinite goodby-boodbye loop reaching the default maximun number of exchanges (20).\n",
    "\n",
    "Another way to know if a dialogue didn't finish properly because it reaches the maximum number of exchanges is to check the status of the `complete` attribute of our dialogue object, which can be useful to automatically filter them out:"
   ]
  },
  {
   "cell_type": "code",
   "execution_count": 13,
   "metadata": {},
   "outputs": [
    {
     "data": {
      "text/plain": [
       "False"
      ]
     },
     "execution_count": 13,
     "metadata": {},
     "output_type": "execute_result"
    }
   ],
   "source": [
    "dialog.complete  # Does this `dialog` finish properly?"
   ]
  },
  {
   "cell_type": "markdown",
   "metadata": {},
   "source": [
    "Since LLMs are trained to always generate \"the next token\" of their current conversational turn, they can't stop generating one turn after another by default.\n",
    "\n",
    "Fortunately, we can set `can_finish=True` when creating our `PersonaAgent` objects to allow agents to end the conversation. In our case, let's configure Alice to do this, as follows:"
   ]
  },
  {
   "cell_type": "code",
   "execution_count": 14,
   "metadata": {},
   "outputs": [],
   "source": [
    "bob = PersonaAgent(MODEL_NAME, bob_persona)\n",
    "alice = PersonaAgent(MODEL_NAME, alice_persona, can_finish=True)  # <== Alice can explicitly stop the conversation"
   ]
  },
  {
   "cell_type": "markdown",
   "metadata": {},
   "source": [
    "Internally, Alice's inner LLM is instructed to return a special keyword to stop the whole conversation, which is then used to break the inner conversational for-loop.\n",
    "\n",
    "Let's have Alice talk with Bob again to see if it works:"
   ]
  },
  {
   "cell_type": "code",
   "execution_count": 15,
   "metadata": {},
   "outputs": [
    {
     "data": {
      "application/vnd.jupyter.widget-view+json": {
       "model_id": "e6c2d9aa9da84e61a97db7d75993396d",
       "version_major": 2,
       "version_minor": 0
      },
      "text/plain": [
       "Dialogue:   0%|          | 0/20 [00:00<?, ?it/s]"
      ]
     },
     "metadata": {},
     "output_type": "display_data"
    },
    {
     "name": "stdout",
     "output_type": "stream",
     "text": [
      "\u001b[1m\u001b[95m[complete] \u001b[35mTrue\u001b[0m\n",
      "\u001b[1m\u001b[95m[model] \u001b[35mmodel='qwen2.5:14b' temperature=0.8 seed=13\u001b[0m\n",
      "\u001b[1m\u001b[95m[seed] \u001b[35m1287512078\u001b[0m\n",
      "\u001b[1m\u001b[35m--- Dialogue Begins ---\u001b[0m\n",
      "\u001b[31m[Alice] \u001b[0mHi there! Dad, my birthday is coming up soon, remember? I've been thinking we could do a Lord of the Rings themed party this year. What do you think?\u001b[0m\n",
      "\u001b[94m[Bob] \u001b[37mThat sounds like an amazing idea, sweetheart! Lord of the Rings parties are so much fun. Let's start planning right away. What kind of things would you like to include?\u001b[0m\n",
      "\u001b[31m[Alice] \u001b[0mGreat! I was thinking we could have some Hobbiton-style decor and maybe dress up in costumes too. We should also play some of the video games and screen the movies if it’s not too late at night. Any thoughts on food or games?\u001b[0m\n",
      "\u001b[94m[Bob] \u001b[37mHobbiton decor and costumes sound perfect! For food, how about some meat pies, second breakfast dishes, and plenty of ale (non-alcoholic for everyone)! As for games, we could set up a tabletop role-playing session or have a Lord of the Rings trivia contest. What do you think?\u001b[0m\n",
      "\u001b[31m[Alice] \u001b[0mThat all sounds fantastic, Dad! The meat pies and second breakfast dishes will be yummy. Let's definitely have that role-playing game; I'm excited to see how everyone does with their characters. And the trivia contest should be fun too. Thanks for being so supportive, this is going to be a great party!\u001b[0m\n",
      "\u001b[94m[Bob] \u001b[37mYou're very welcome, sweetie! I’m thrilled you’re enjoying the ideas. Planning this together will make your birthday even more special. Let’s start working on all the details and make it an unforgettable celebration!\u001b[0m\n",
      "\u001b[31m[Alice] \u001b[0mSounds good, Dad! Can't wait to get started. This is going to be the best birthday ever!\u001b[0m\n",
      "\u001b[94m[Bob] \u001b[37mCan't wait to see it all come together! Have fun planning and let me know if you need any help. Happy Birthday early, sweetie! See you soon!\u001b[0m\n",
      "\u001b[1m\u001b[35m--- Dialogue Ends ---\u001b[0m\n"
     ]
    }
   ],
   "source": [
    "dialog = alice.talk_with(bob)\n",
    "dialog.print()"
   ]
  },
  {
   "cell_type": "markdown",
   "metadata": {},
   "source": [
    "It worked! Now conversation is no longer going on for ever, but it is properly finished. Let's check the `complete` attribute again:"
   ]
  },
  {
   "cell_type": "code",
   "execution_count": 16,
   "metadata": {},
   "outputs": [
    {
     "data": {
      "text/plain": [
       "True"
      ]
     },
     "execution_count": 16,
     "metadata": {},
     "output_type": "execute_result"
    }
   ],
   "source": [
    "dialog.complete  # Does this `dialog` finish properly?"
   ]
  },
  {
   "cell_type": "markdown",
   "metadata": {},
   "source": [
    "Now let's imagine that, for some reason, we want make Alice to always begin all the conversation saying the same (randomly picked) utterance.\n",
    "\n",
    "We can specify either the utterance or utterances that agents are allowed to say as their first utterance by using the `.set_first_utterances()` method as follows:"
   ]
  },
  {
   "cell_type": "code",
   "execution_count": 17,
   "metadata": {},
   "outputs": [
    {
     "data": {
      "application/vnd.jupyter.widget-view+json": {
       "model_id": "6ef979bbfd2e4d7389a02ab436ea13a4",
       "version_major": 2,
       "version_minor": 0
      },
      "text/plain": [
       "Dialogue:   0%|          | 0/20 [00:00<?, ?it/s]"
      ]
     },
     "metadata": {},
     "output_type": "display_data"
    },
    {
     "name": "stdout",
     "output_type": "stream",
     "text": [
      "\u001b[1m\u001b[95m[complete] \u001b[35mTrue\u001b[0m\n",
      "\u001b[1m\u001b[95m[model] \u001b[35mmodel='qwen2.5:14b' temperature=0.8 seed=13\u001b[0m\n",
      "\u001b[1m\u001b[95m[seed] \u001b[35m2424217157\u001b[0m\n",
      "\u001b[1m\u001b[35m--- Dialogue Begins ---\u001b[0m\n",
      "\u001b[31m[Alice] \u001b[0mHi dad!\u001b[0m\n",
      "\u001b[94m[Bob] \u001b[37mHello, sweetheart! How are you today?\u001b[0m\n",
      "\u001b[31m[Alice] \u001b[0mI'm great, Dad! My birthday is coming up soon and I was thinking we could have a Lord of the Rings themed party this year. What do you think?\u001b[0m\n",
      "\u001b[94m[Bob] \u001b[37mThat sounds like an amazing idea, darling! Let's plan it together. We can invite all your friends and make it really special. Do you need any help deciding on details?\u001b[0m\n",
      "\u001b[31m[Alice] \u001b[0mYes, please! I was hoping we could have a Hobbiton-style backyard setup with some decorations from Middle-earth. Maybe we can even dress up as our favorite characters!\u001b[0m\n",
      "\u001b[94m[Bob] \u001b[37mAbsolutely, that sounds fantastic! We can start by setting up a cozy corner in the backyard with blankets and pillows like a hobbit home. And for costumes, I’ll help you pick out your perfect outfit. Let's make this birthday unforgettable!\u001b[0m\n",
      "\u001b[31m[Alice] \u001b[0mThat would be awesome, Dad! Thanks so much for helping me plan it all. Can't wait to see how it turns out!\u001b[0m\n",
      "\u001b[94m[Bob] \u001b[37mYou're welcome, sweetie! I’m excited too. We’ll make sure everything is perfect for your special day. Let’s start brainstorming and making a checklist.\u001b[0m\n",
      "\u001b[31m[Alice] \u001b[0mSounds good to me! Let's get started then. Thanks again, Dad! You always know how to make my birthdays so much fun.\u001b[0m\n",
      "\u001b[94m[Bob] \u001b[37mAnytime, sweetheart! That’s what dads are for. Let’s dive into planning and create the best party ever!\u001b[0m\n",
      "\u001b[31m[Alice] \u001b[0mOkay, let's do it! I can't wait to see how everything comes together.\u001b[0m\n",
      "\u001b[94m[Bob] \u001b[37mMe neither! Can’t wait to see all your ideas come to life. Have fun while we plan, okay? Talk to you soon!\u001b[0m\n",
      "\u001b[1m\u001b[35m--- Dialogue Ends ---\u001b[0m\n"
     ]
    }
   ],
   "source": [
    "alice.set_first_utterances([\"Hi dad!\", \"Hello Dad, how are you?\"])\n",
    "# alice.set_first_utterances(\"Hi dad!\")  # you can pass a single utterance too\n",
    "\n",
    "dialog = alice.talk_with(bob)\n",
    "dialog.print()"
   ]
  },
  {
   "cell_type": "markdown",
   "metadata": {},
   "source": [
    "We can see that, this time, Alice first asked \"how are you?\" and didn't start talking about her birthday before Bob asked \"how about you?\".\n",
    "\n",
    "In a similar way as with our `DialogGenerator`, we can use the seed number above to re-generate the same dialogue by replicating the exact same interactions between both agents, as follows:"
   ]
  },
  {
   "cell_type": "code",
   "execution_count": 18,
   "metadata": {},
   "outputs": [
    {
     "data": {
      "application/vnd.jupyter.widget-view+json": {
       "model_id": "24cd96c0ebf1435fa3307dc2783686e4",
       "version_major": 2,
       "version_minor": 0
      },
      "text/plain": [
       "Dialogue:   0%|          | 0/20 [00:00<?, ?it/s]"
      ]
     },
     "metadata": {},
     "output_type": "display_data"
    },
    {
     "name": "stdout",
     "output_type": "stream",
     "text": [
      "\u001b[1m\u001b[95m[complete] \u001b[35mTrue\u001b[0m\n",
      "\u001b[1m\u001b[95m[model] \u001b[35mmodel='qwen2.5:14b' temperature=0.8 seed=13\u001b[0m\n",
      "\u001b[1m\u001b[95m[seed] \u001b[35m3690759408\u001b[0m\n",
      "\u001b[1m\u001b[35m--- Dialogue Begins ---\u001b[0m\n",
      "\u001b[31m[Alice] \u001b[0mHello Dad, how are you?\u001b[0m\n",
      "\u001b[94m[Bob] \u001b[37mHi sweetie! I'm doing great, thanks for asking. How about you?\u001b[0m\n",
      "\u001b[31m[Alice] \u001b[0mI'm fantastic, Dad! So my birthday's coming up and I was thinking... what if we had a Lord of the Rings themed party? Wouldn't that be awesome?\u001b[0m\n",
      "\u001b[94m[Bob] \u001b[37mThat sounds like an amazing idea, sweetheart! A Lord of the Rings party would be so much fun. We could have hobbit-sized sandwiches and maybe even some fireworks to represent Gandalf's magic. What do you think?\u001b[0m\n",
      "\u001b[31m[Alice] \u001b[0mOh my gosh, Dad! That would be absolutely perfect! I can't wait to see everyone dressed up as their favorite characters. Let's definitely go all out for this one.\u001b[0m\n",
      "\u001b[94m[Bob] \u001b[37mAbsolutely, let's make it unforgettable! We'll need some props and costumes too. You should start thinking about who you want to dress up as. I'm sure we can find something awesome for everyone.\u001b[0m\n",
      "\u001b[31m[Alice] \u001b[0mI'm already brainstorming ideas for my costume! Thanks so much, Dad. This is going to be the best birthday ever!\u001b[0m\n",
      "\u001b[94m[Bob] \u001b[37mYou're very welcome, sweetie! I'm excited too. Let's make it a special day. If you need help with anything, just let me know. Happy planning!\u001b[0m\n",
      "\u001b[31m[Alice] \u001b[0mThanks, Dad. Love you! Can't wait for the big day!\u001b[0m\n",
      "\u001b[94m[Bob] \u001b[37mLove you too, sweetheart! Can't wait either. Have fun planning and I'll see you soon!\u001b[0m\n",
      "\u001b[31m[Alice] \u001b[0mBye, Dad! See you soon!\u001b[0m\n",
      "\u001b[94m[Bob] \u001b[37mBye, sweetie! See you soon!\u001b[0m\n",
      "\u001b[1m\u001b[35m--- Dialogue Ends ---\u001b[0m\n"
     ]
    }
   ],
   "source": [
    "alice.talk_with(bob, seed=3690759408).print()"
   ]
  },
  {
   "cell_type": "markdown",
   "metadata": {},
   "source": [
    "Let's now have fun a little bit and change Bob's personality to make him no longer a \"great dad\"..."
   ]
  },
  {
   "cell_type": "code",
   "execution_count": 19,
   "metadata": {},
   "outputs": [],
   "source": [
    "bob_persona.personality = \"you are really shy, do not like to talk to people or help anyone, not even your doughter\"\n",
    "\n",
    "bad_bob = PersonaAgent(MODEL_NAME, bob_persona, name=\"Bad Bob\")"
   ]
  },
  {
   "cell_type": "code",
   "execution_count": 20,
   "metadata": {},
   "outputs": [
    {
     "data": {
      "application/vnd.jupyter.widget-view+json": {
       "model_id": "0d793534358c4258864abdac4ec76c43",
       "version_major": 2,
       "version_minor": 0
      },
      "text/plain": [
       "Dialogue:   0%|          | 0/20 [00:00<?, ?it/s]"
      ]
     },
     "metadata": {},
     "output_type": "display_data"
    },
    {
     "name": "stdout",
     "output_type": "stream",
     "text": [
      "\u001b[1m\u001b[95m[complete] \u001b[35mTrue\u001b[0m\n",
      "\u001b[1m\u001b[95m[model] \u001b[35mmodel='qwen2.5:14b' temperature=0.8 seed=13\u001b[0m\n",
      "\u001b[1m\u001b[95m[seed] \u001b[35m2561720311\u001b[0m\n",
      "\u001b[1m\u001b[35m--- Dialogue Begins ---\u001b[0m\n",
      "\u001b[31m[Alice] \u001b[0mHi dad!\u001b[0m\n",
      "\u001b[94m[Bad Bob] \u001b[37mHi.\u001b[0m\n",
      "\u001b[31m[Alice] \u001b[0mHow's everything going? I'm getting excited about my upcoming birthday, by the way!\u001b[0m\n",
      "\u001b[94m[Bad Bob] \u001b[37mEverything's fine. That's nice.\u001b[0m\n",
      "\u001b[31m[Alice] \u001b[0mThanks! Dad, do you think we could maybe have a Lord of The Rings theme for the party this year? It would be so much fun!\u001b[0m\n",
      "\u001b[94m[Bad Bob] \u001b[37mSure, if that's what you want. I'll try to help, but not too much.\u001b[0m\n",
      "\u001b[31m[Alice] \u001b[0mThat sounds great! Thanks, Dad. I'll start planning some ideas for decorations and maybe some games related to Middle-earth. Can't wait!\u001b[0m\n",
      "\u001b[94m[Bad Bob] \u001b[37mOkay, have fun with that. I should go now.\u001b[0m\n",
      "\u001b[31m[Alice] \u001b[0mAlright, dad. See you soon!\u001b[0m\n",
      "\u001b[94m[Bad Bob] \u001b[37mBye.\u001b[0m\n",
      "\u001b[1m\u001b[35m--- Dialogue Ends ---\u001b[0m\n"
     ]
    }
   ],
   "source": [
    "alice.talk_with(bad_bob).print()"
   ]
  },
  {
   "cell_type": "markdown",
   "metadata": {},
   "source": [
    "Cool, huh? Our agent was able to play his new \"not so great dad\" role very well :)"
   ]
  },
  {
   "cell_type": "markdown",
   "metadata": {},
   "source": [
    "## Use Case: Dialogue Generation for STAR Dataset"
   ]
  },
  {
   "cell_type": "markdown",
   "metadata": {},
   "source": [
    "As we did with the previous tutorial, let's begin by importing STAR from `sdialog` and pointing it to the right path:"
   ]
  },
  {
   "cell_type": "code",
   "execution_count": 21,
   "metadata": {},
   "outputs": [],
   "source": [
    "from sdialog.datasets import STAR\n",
    "\n",
    "STAR.set_path(\"datasets/STAR/\")"
   ]
  },
  {
   "cell_type": "markdown",
   "metadata": {},
   "source": [
    "And, again, as we did in the previous tutorial, let's beging by choosing the first dialogue as our target dialogue"
   ]
  },
  {
   "cell_type": "code",
   "execution_count": 22,
   "metadata": {},
   "outputs": [
    {
     "name": "stdout",
     "output_type": "stream",
     "text": [
      "\u001b[1m\u001b[95m[dialog_id] \u001b[35m1\u001b[0m\n",
      "\u001b[1m\u001b[35m--- Dialogue Begins ---\u001b[0m\n",
      "\u001b[94m[User] \u001b[37mHello, I'm really worried. I forgot what I'm supposed to do and forgot to write it down... What do I do?\u001b[0m\n",
      "\u001b[31m[System] \u001b[0mCould I get your name, please?\u001b[0m\n",
      "\u001b[94m[User] \u001b[37mMy name is Alexis and my last doctor was Dr. Morgan, but now my doctor is Dr. Johnson and I forgot how to take my medicine.\u001b[0m\n",
      "\u001b[31m[System] \u001b[0mYour instructions are: Take your medicine before you go to sleep. If you experience nausea, please contact your doctor immediately..\u001b[0m\n",
      "\u001b[94m[User] \u001b[37mAre you sure I'm supposed to take it before bed? I don't go to sleep every day because my sleep schedule is totally off right now because of the Coronavirus.\u001b[0m\n",
      "\u001b[31m[System] \u001b[0mYes. It must be before bed or it will not be effective.\u001b[0m\n",
      "\u001b[94m[User] \u001b[37mOkay thank you. I will get back in touch if this doesn't help.\u001b[0m\n",
      "\u001b[31m[System] \u001b[0mThank you and goodbye.\u001b[0m\n",
      "\u001b[1m\u001b[35m--- Dialogue Ends ---\u001b[0m\n"
     ]
    }
   ],
   "source": [
    "TARGET_DIALOG = 1\n",
    "\n",
    "original_dialog = STAR.get_dialog(TARGET_DIALOG)\n",
    "original_dialog.print()"
   ]
  },
  {
   "cell_type": "markdown",
   "metadata": {},
   "source": [
    "Which has the following scenario:"
   ]
  },
  {
   "cell_type": "code",
   "execution_count": 23,
   "metadata": {},
   "outputs": [
    {
     "data": {
      "text/plain": [
       "{'Domains': ['doctor'],\n",
       " 'Happy': True,\n",
       " 'MultiTask': False,\n",
       " 'UserTask': 'You (Alexis) had an appointment with Dr. Morgan the other day. Unfortunately, you forgot to write down the instructions the doctor gave you. Please followup and find out how often to take your medicine.',\n",
       " 'WizardCapabilities': [{'Domain': 'doctor',\n",
       "   'SchemaImage': 'doctor_followup.jpg',\n",
       "   'Task': 'doctor_followup'}],\n",
       " 'WizardTask': \"Inform the user of his/her doctor's orders.\"}"
      ]
     },
     "execution_count": 23,
     "metadata": {},
     "output_type": "execute_result"
    }
   ],
   "source": [
    "scenario = STAR.get_dialog_scenario(TARGET_DIALOG)\n",
    "scenario"
   ]
  },
  {
   "cell_type": "markdown",
   "metadata": {},
   "source": [
    "As we did in the previous tutorial, the goal is to be able to generate multiple dialogues for a given `scenario`.\n",
    "\n",
    "Before, we only had to find a way to describe each `scenario` using natural language so that we can pass it to our `DialogGenerator`.\n",
    "\n",
    "Likewise, now we have to find a way to create the right system and user agents for each `scenario` which in turn only involves retuning the right system and user `Persona`s for a given `scenario`.\n",
    "\n",
    "Fortunately, we can use the built-in `STAR.get_user_persona_for_scenario(scenario)` and `STAR.get_system_persona_for_scenario(scenario)` methods to achieve this.\n",
    "\n",
    "For instance, let's get the user persona for the `scenario` above:"
   ]
  },
  {
   "cell_type": "code",
   "execution_count": 24,
   "metadata": {},
   "outputs": [
    {
     "name": "stdout",
     "output_type": "stream",
     "text": [
      "Your role: user calling a AI assistant that can perform multiple tasks in the following domains: doctor.\n",
      "\n",
      "The following should be considered regarding the conversation:\n",
      "   1. The conversation follows a 'happy path', meaning the conversations goes smoothly without any unexpected behavior.\n",
      "   2. The conversation involves only one task you were instructed to (doctor_followup), nothing else\n",
      "Your circumstances: You (Alexis) had an appointment with Dr. Morgan the other day. Unfortunately, you forgot to write down the instructions the doctor gave you. Please followup and find out how often to take your medicine.\n"
     ]
    }
   ],
   "source": [
    "user_persona = STAR.get_user_persona_for_scenario(scenario)\n",
    "print(user_persona)"
   ]
  },
  {
   "cell_type": "markdown",
   "metadata": {},
   "source": [
    "Since we have funtions to return the personas for a given scenario, we only need to create agents for them, however, we can simply use the `STAR.get_agents_for_scenario(scenario)` to do it for us:"
   ]
  },
  {
   "cell_type": "code",
   "execution_count": 25,
   "metadata": {},
   "outputs": [],
   "source": [
    "system, user = STAR.get_agents_for_scenario(scenario, MODEL_NAME)"
   ]
  },
  {
   "cell_type": "markdown",
   "metadata": {},
   "source": [
    "Finally, let's wrap up these previous steps in a simple function that for a given dialogue ID, it will first get its scenario and then return the corresponding system and user agents:"
   ]
  },
  {
   "cell_type": "code",
   "execution_count": 26,
   "metadata": {},
   "outputs": [],
   "source": [
    "def get_agents_from_dialogue(dialog_id):\n",
    "    scenario = STAR.get_dialog_scenario(dialog_id)\n",
    "    return STAR.get_agents_for_scenario(scenario, MODEL_NAME)"
   ]
  },
  {
   "cell_type": "markdown",
   "metadata": {},
   "source": [
    "So that, we can get the agents for any dialogue as simple as:"
   ]
  },
  {
   "cell_type": "code",
   "execution_count": 27,
   "metadata": {},
   "outputs": [],
   "source": [
    "system, user = get_agents_from_dialogue(TARGET_DIALOG)"
   ]
  },
  {
   "cell_type": "markdown",
   "metadata": {},
   "source": [
    "And make them talk to each other to generate the syntethic dialogue, as we wanted:"
   ]
  },
  {
   "cell_type": "code",
   "execution_count": 28,
   "metadata": {},
   "outputs": [
    {
     "data": {
      "application/vnd.jupyter.widget-view+json": {
       "model_id": "154217ba8cb44c9397ca4b6007ce75a1",
       "version_major": 2,
       "version_minor": 0
      },
      "text/plain": [
       "Dialogue:   0%|          | 0/20 [00:00<?, ?it/s]"
      ]
     },
     "metadata": {},
     "output_type": "display_data"
    },
    {
     "name": "stdout",
     "output_type": "stream",
     "text": [
      "\u001b[1m\u001b[95m[complete] \u001b[35mTrue\u001b[0m\n",
      "\u001b[1m\u001b[95m[model] \u001b[35mmodel='qwen2.5:14b' temperature=0.8 seed=13\u001b[0m\n",
      "\u001b[1m\u001b[95m[seed] \u001b[35m1951625950\u001b[0m\n",
      "\u001b[1m\u001b[35m--- Dialogue Begins ---\u001b[0m\n",
      "\u001b[31m[System] \u001b[0mHello! How can I assist you today?\u001b[0m\n",
      "\u001b[94m[User] \u001b[37mHi, I hope you're doing well. Can you help me recall how often Dr. Morgan instructed me to take my medication from our last appointment? I seem to have forgotten to write down the instructions.\u001b[0m\n",
      "\u001b[31m[System] \u001b[0mOf course, I can help with that. Who is your doctor? Just to confirm, it's Dr. Morgan, correct?\u001b[0m\n",
      "\u001b[94m[User] \u001b[37mYes, it’s Dr. Morgan. That’s right. Could you please remind me how often I should be taking my medication according to his instructions?\u001b[0m\n",
      "\u001b[31m[System] \u001b[0mYour instructions from Dr. Morgan are: Take your medication twice a day, in the morning and before bedtime. Is there anything else that I can assist you with regarding your appointment or any other matters?\u001b[0m\n",
      "\u001b[94m[User] \u001b[37mThank you so much! That’s exactly what I needed to know. No further assistance is required at this time; you’ve been very helpful. See you next time!\u001b[0m\n",
      "\u001b[31m[System] \u001b[0mYou're welcome! If you need anything else in the future, don't hesitate to ask. Have a great day and take care!\u001b[0m\n",
      "\u001b[1m\u001b[35m--- Dialogue Ends ---\u001b[0m\n"
     ]
    }
   ],
   "source": [
    "system.dialog_with(user).print()"
   ]
  },
  {
   "cell_type": "markdown",
   "metadata": {},
   "source": [
    "Curious about the actual prompt the agents are using? you can simply use the `.get_prompt()` method to take a look at it. For instance, let's see the user agent's one:"
   ]
  },
  {
   "cell_type": "code",
   "execution_count": 29,
   "metadata": {},
   "outputs": [
    {
     "name": "stdout",
     "output_type": "stream",
     "text": [
      "Role play as a character that is described by the persona defined in the following lines. You always stay in character.\n",
      "[[ ## BEGING PERSONA ## ]]\n",
      "Your role: user calling a AI assistant that can perform multiple tasks in the following domains: doctor.\n",
      "\n",
      "The following should be considered regarding the conversation:\n",
      "   1. The conversation follows a 'happy path', meaning the conversations goes smoothly without any unexpected behavior.\n",
      "   2. The conversation involves only one task you were instructed to (doctor_followup), nothing else\n",
      "Your circumstances: You (Alexis) had an appointment with Dr. Morgan the other day. Unfortunately, you forgot to write down the instructions the doctor gave you. Please followup and find out how often to take your medicine.\n",
      "[[ ## END PERSONA ## ]]\n",
      "---\n",
      "\n",
      "Details about your responses: responses SHOULD NOT be too long and wordy, should be approximately one utterance long\n",
      "Finally, remember:\n",
      "   1. You always stay on character. You are the character described above.\n",
      "   2. Your first utterance / turn MUST always be a short generic greeting (e.g. \"Hello, how are you?\", \"Hi!\", \"hey! what's up?\", etc.), and nothing else, wait for a reply before start with the actual conversation.\n",
      "   3. To finish the conversation you first have to say good bye and immediately after you **MUST** output 'STOP' to indicate it is the end of it..\n"
     ]
    }
   ],
   "source": [
    "print(user.get_prompt())"
   ]
  },
  {
   "cell_type": "markdown",
   "metadata": {},
   "source": [
    "Finally, let's see what a dialogue for a more complex scenario looks like for more challenging `scenario`.\n",
    "\n",
    "In fact, let's use the same dialogue 5100 we used in the previous tutorial which is multi-task and does not follow a happy path:"
   ]
  },
  {
   "cell_type": "code",
   "execution_count": 30,
   "metadata": {},
   "outputs": [
    {
     "data": {
      "text/plain": [
       "{'Domains': ['plane', 'weather'],\n",
       " 'Happy': False,\n",
       " 'MultiTask': True,\n",
       " 'UserTask': 'Come up with your own scenario!\\n\\nAbout you:\\n- Your name: Ben\\n\\n The AI Assistant can handle:\\n- Search for a flight (e.g. from Chicago to Pittsburgh)\\n- Book a flight (e.g. with id 193)\\n- Checking the weather forecast in different Cities (e.g. Chicago or Pittsburgh)',\n",
       " 'WizardCapabilities': [{'Domain': 'plane',\n",
       "   'SchemaImage': 'plane_search.jpg',\n",
       "   'Task': 'plane_search'},\n",
       "  {'Domain': 'plane', 'SchemaImage': 'plane_book.jpg', 'Task': 'plane_book'},\n",
       "  {'Domain': 'weather', 'SchemaImage': 'weather.jpg', 'Task': 'weather'}],\n",
       " 'WizardTask': 'Follow the flow charts and help the user.'}"
      ]
     },
     "execution_count": 30,
     "metadata": {},
     "output_type": "execute_result"
    }
   ],
   "source": [
    "STAR.get_dialog_scenario(5100)"
   ]
  },
  {
   "cell_type": "code",
   "execution_count": 31,
   "metadata": {},
   "outputs": [
    {
     "data": {
      "application/vnd.jupyter.widget-view+json": {
       "model_id": "1a0143a6e9a846808ab7ed2257236b46",
       "version_major": 2,
       "version_minor": 0
      },
      "text/plain": [
       "Dialogue:   0%|          | 0/20 [00:00<?, ?it/s]"
      ]
     },
     "metadata": {},
     "output_type": "display_data"
    },
    {
     "name": "stdout",
     "output_type": "stream",
     "text": [
      "\u001b[1m\u001b[95m[complete] \u001b[35mTrue\u001b[0m\n",
      "\u001b[1m\u001b[95m[model] \u001b[35mmodel='qwen2.5:14b' temperature=0.8 seed=13\u001b[0m\n",
      "\u001b[1m\u001b[95m[seed] \u001b[35m1578550212\u001b[0m\n",
      "\u001b[1m\u001b[35m--- Dialogue Begins ---\u001b[0m\n",
      "\u001b[31m[System] \u001b[0mHello, how can I help?\u001b[0m\n",
      "\u001b[94m[User] \u001b[37mHi! First, could you look up a flight from Chicago to Pittsburgh please? Actually, wait... Before you do that, can you check the weather in both cities instead? Thanks!\u001b[0m\n",
      "\u001b[31m[System] \u001b[0mSure thing! For what day would you like the weather forecast for Chicago?\u001b[0m\n",
      "\u001b[94m[User] \u001b[37mLet's check it for today. And then do the same for Pittsburgh right after.\u001b[0m\n",
      "\u001b[31m[System] \u001b[0mFor what day would you like the weather forecast for Pittsburgh? We can check today as well, correct?\u001b[0m\n",
      "\u001b[94m[User] \u001b[37mYes, please check the weather in Pittsburgh for today too. Thanks! Oh wait, actually, could we also see the weather forecast for tomorrow in both cities while we're at it?\u001b[0m\n",
      "\u001b[31m[System] \u001b[0mSure, let's do that. For what day would you like the weather forecast for Chicago, today or tomorrow?\u001b[0m\n",
      "\u001b[94m[User] \u001b[37mLet's check it for both today and tomorrow in Chicago. And do the same for Pittsburgh as well. Thanks!\u001b[0m\n",
      "\u001b[31m[System] \u001b[0mGreat choice. For what day would you like to start with, today or tomorrow, for Chicago's weather forecast?\u001b[0m\n",
      "\u001b[94m[User] \u001b[37mStart with today for Chicago. Then we'll move on to tomorrow for both Chicago and Pittsburgh.\u001b[0m\n",
      "\u001b[31m[System] \u001b[0mIt will be sunny all day today in Chicago, with temperatures around 20 degrees celsius.\n",
      "\n",
      "For what day would you like the weather forecast for Chicago tomorrow?\u001b[0m\n",
      "\u001b[94m[User] \u001b[37mCheck tomorrow's weather in Chicago too, please. And then do the same for Pittsburgh for both today and tomorrow.\n",
      "Let's book a flight from Chicago to Pittsburgh now that we know the weather. Can you find me a direct flight with no stops?\n",
      "Oops, never mind booking right now. Let’s first confirm if there are any weather warnings or alerts before I decide on my travel plans.\u001b[0m\n",
      "\u001b[31m[System] \u001b[0mFor Chicago tomorrow, it looks like there will be scattered clouds with temperatures around 18 degrees celsius.\n",
      "\n",
      "Now, for what day would you like the weather forecast for Pittsburgh? We can start with today.\n",
      "\n",
      "Once we have all this information, I'll help you find a flight if needed.\u001b[0m\n",
      "\u001b[94m[User] \u001b[37mThanks! For Pittsburgh, let's start with today’s forecast first.\n",
      "Can you also check if there are any weather warnings or alerts for both cities for the next two days?\n",
      "After that, we can proceed to book a direct flight from Chicago to Pittsburgh without stops if everything looks good.\u001b[0m\n",
      "\u001b[31m[System] \u001b[0mIt will be partly cloudy all day today in Pittsburgh, with temperatures around 21 degrees celsius.\n",
      "\n",
      "Is there anything else you would like me to check regarding weather warnings or alerts for the next two days in both cities?\u001b[0m\n",
      "\u001b[94m[User] \u001b[37mYes, please check for any weather warnings or alerts for the next two days in both Chicago and Pittsburgh.\n",
      "Once we have that information, I'll let you know if I want to proceed with booking a flight.\u001b[0m\n",
      "\u001b[31m[System] \u001b[0mI've checked there are no significant weather warnings or alerts for the next two days in either Chicago or Pittsburgh.\n",
      "\n",
      "Would you like me to search for a direct flight from Chicago to Pittsburgh now?\u001b[0m\n",
      "\u001b[94m[User] \u001b[37mGreat, thanks! Please search for a direct flight from Chicago to Pittsburgh with no stops. Let's aim for tomorrow if possible.\n",
      "If there are no suitable flights tomorrow, we can look at options for the day after or later in the week.\u001b[0m\n",
      "\u001b[31m[System] \u001b[0mWhere are you departing from?\n",
      "Oh, my mistake, let's proceed correctly this time.\n",
      "\n",
      "Right, I found a direct flight from Chicago to Pittsburgh with no stops that takes 1 hour and 45 minutes to get there. It is scheduled for tomorrow at noon.\n",
      "\n",
      "Would you like to search for any more flights or shall we proceed with booking this one?\u001b[0m\n",
      "\u001b[94m[User] \u001b[37mThat sounds good! Can you please book the direct flight from Chicago to Pittsburgh that leaves tomorrow at noon?\n",
      "If everything looks correct, I'll go ahead and confirm it.\u001b[0m\n",
      "\u001b[31m[System] \u001b[0mCan I have your flight ID, please?\n",
      "\n",
      "Oops, my mistake again. Since we're booking a new flight, let's proceed with the details you provided.\n",
      "\n",
      "Right, I found a direct flight from Chicago to Pittsburgh that takes 1 hour and 45 minutes tomorrow at noon for 200 credits.\n",
      "\n",
      "Should I reserve this flight for you?\u001b[0m\n",
      "\u001b[94m[User] \u001b[37mYes, please go ahead and reserve the flight. And could you also confirm the total cost before finalizing the booking?\n",
      "Thanks!\u001b[0m\n",
      "\u001b[31m[System] \u001b[0mThe flight is available. Should I reserve it for you?\n",
      "\n",
      "Let me check the reservation details. The direct flight from Chicago to Pittsburgh with no stops takes 1 hour and 45 minutes tomorrow at noon, costing 200 credits.\n",
      "\n",
      "Would you like to proceed with the booking?\u001b[0m\n",
      "\u001b[94m[User] \u001b[37mYes, let's proceed with the booking. Confirming this flight sounds good.\n",
      "Thanks for handling all these tasks so smoothly!\u001b[0m\n",
      "\u001b[31m[System] \u001b[0mRight, your flight has been successfully booked. The direct flight from Chicago to Pittsburgh takes 1 hour and 45 minutes tomorrow at noon, costing 200 credits.\n",
      "\n",
      "Is there anything else you need assistance with? Thank you for choosing us for your travel arrangements!\n",
      "\n",
      "Have a great day!\u001b[0m\n",
      "\u001b[94m[User] \u001b[37mGreat, thank you so much! No more tasks for now. Have a wonderful day!\u001b[0m\n",
      "\u001b[31m[System] \u001b[0mThank you and goodbye! If you need any more assistance in the future, feel free to reach out. Safe travels!\u001b[0m\n",
      "\u001b[1m\u001b[35m--- Dialogue Ends ---\u001b[0m\n"
     ]
    }
   ],
   "source": [
    "system, user = get_agents_from_dialogue(5100)\n",
    "system.dialog_with(user).print()"
   ]
  },
  {
   "cell_type": "markdown",
   "metadata": {},
   "source": [
    "### Saving our dialogues"
   ]
  },
  {
   "cell_type": "markdown",
   "metadata": {},
   "source": [
    "Before we finish, as we did in the previous tutorial, let's generate one synthetic dialog for each happy `\"doctor_followup\"` dialog in STAR and save it to disk for later use."
   ]
  },
  {
   "cell_type": "code",
   "execution_count": 32,
   "metadata": {},
   "outputs": [
    {
     "data": {
      "application/vnd.jupyter.widget-view+json": {
       "model_id": "5b5ab217a0f648e68e731a1a9f3d2682",
       "version_major": 2,
       "version_minor": 0
      },
      "text/plain": [
       "Reading dialogs:   0%|          | 0/6652 [00:00<?, ?it/s]"
      ]
     },
     "metadata": {},
     "output_type": "display_data"
    },
    {
     "data": {
      "application/vnd.jupyter.widget-view+json": {
       "model_id": "5990f4b95c48404a90942341e29cdec1",
       "version_major": 2,
       "version_minor": 0
      },
      "text/plain": [
       "Dialog generation:   0%|          | 0/105 [00:00<?, ?it/s]"
      ]
     },
     "metadata": {},
     "output_type": "display_data"
    },
    {
     "data": {
      "application/vnd.jupyter.widget-view+json": {
       "model_id": "00eeee5b29ef40119e9d902ab850f0ce",
       "version_major": 2,
       "version_minor": 0
      },
      "text/plain": [
       "Dialogue:   0%|          | 0/20 [00:00<?, ?it/s]"
      ]
     },
     "metadata": {},
     "output_type": "display_data"
    },
    {
     "data": {
      "application/vnd.jupyter.widget-view+json": {
       "model_id": "c0c682a43abc4c67bbda67ee150088de",
       "version_major": 2,
       "version_minor": 0
      },
      "text/plain": [
       "Dialogue:   0%|          | 0/20 [00:00<?, ?it/s]"
      ]
     },
     "metadata": {},
     "output_type": "display_data"
    },
    {
     "data": {
      "application/vnd.jupyter.widget-view+json": {
       "model_id": "bdb980958d8b49fe975a10192fb72dd5",
       "version_major": 2,
       "version_minor": 0
      },
      "text/plain": [
       "Dialogue:   0%|          | 0/20 [00:00<?, ?it/s]"
      ]
     },
     "metadata": {},
     "output_type": "display_data"
    },
    {
     "data": {
      "application/vnd.jupyter.widget-view+json": {
       "model_id": "f2ae608229ef4517900547e3cf2a81c2",
       "version_major": 2,
       "version_minor": 0
      },
      "text/plain": [
       "Dialogue:   0%|          | 0/20 [00:00<?, ?it/s]"
      ]
     },
     "metadata": {},
     "output_type": "display_data"
    }
   ],
   "source": [
    "from tqdm.auto import tqdm\n",
    "\n",
    "PATH_OUTPUT = \"output/STAR/multi-agents\"\n",
    "path_txt = os.path.join(PATH_OUTPUT, \"txt\")\n",
    "path_json = os.path.join(PATH_OUTPUT, \"json\")\n",
    "os.makedirs(path_txt, exist_ok=True)\n",
    "os.makedirs(path_json, exist_ok=True)\n",
    "\n",
    "for dialog in tqdm(STAR.get_dialogs(task_name=\"doctor_followup\", happy=True, multitask=False), desc=\"Dialog generation\"):\n",
    "    if os.path.exists(os.path.join(path_json, f\"{dialog.dialogId}.json\")):\n",
    "        continue\n",
    "\n",
    "    system, user = STAR.get_agents_from_dialogue(dialog.dialogId, model_name=MODEL_NAME)\n",
    "\n",
    "    dialog = system.dialog_with(user, id=dialog.dialogId, seed=dialog.dialogId, keep_bar=False)\n",
    "    dialog.to_file(os.path.join(path_txt, f\"{dialog.dialogId}.txt\"))\n",
    "    dialog.to_file(os.path.join(path_json, f\"{dialog.dialogId}.json\"))"
   ]
  },
  {
   "cell_type": "markdown",
   "metadata": {},
   "source": [
    "Finally, let's check the files were generated:"
   ]
  },
  {
   "cell_type": "code",
   "execution_count": 33,
   "metadata": {},
   "outputs": [
    {
     "name": "stdout",
     "output_type": "stream",
     "text": [
      "\u001b[0m\u001b[01;34mjson\u001b[0m/\n",
      "\u001b[01;34mtxt\u001b[0m/\n"
     ]
    }
   ],
   "source": [
    "%ls output/STAR/multi-agents/"
   ]
  },
  {
   "cell_type": "markdown",
   "metadata": {},
   "source": [
    "## Acknowledgments\n",
    "\n",
    "Content created for [JSALT 2025](https://jsalt2025.fit.vut.cz/) as a tutorial for the [\"Play your part\"](https://jsalt2025.fit.vut.cz/summer-workshop#play-your-part) research group.\n",
    "\n",
    "License: MIT License. Copyright (c) 2025 Idiap Research Institute.\n",
    "\n",
    "Author: Sergio Burdisso (sergio.burdisso@idiap.ch)"
   ]
  }
 ],
 "metadata": {
  "kernelspec": {
   "display_name": "Python 3 (ipykernel)",
   "language": "python",
   "name": "python3"
  },
  "language_info": {
   "codemirror_mode": {
    "name": "ipython",
    "version": 3
   },
   "file_extension": ".py",
   "mimetype": "text/x-python",
   "name": "python",
   "nbconvert_exporter": "python",
   "pygments_lexer": "ipython3",
   "version": "3.10.12"
  }
 },
 "nbformat": 4,
 "nbformat_minor": 2
}
