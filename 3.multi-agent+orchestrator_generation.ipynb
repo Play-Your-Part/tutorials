{
 "cells": [
  {
   "cell_type": "markdown",
   "metadata": {},
   "source": [
    "# Synthetic Dialogue Generation with Orchestration\n"
   ]
  },
  {
   "cell_type": "markdown",
   "metadata": {},
   "source": [
    "Before we begin, let's first set up our environment..."
   ]
  },
  {
   "cell_type": "code",
   "execution_count": null,
   "metadata": {},
   "outputs": [],
   "source": [
    "# Setup the environment depending on weather we are running in Google Colab or Jupyter Notebook\n",
    "from IPython import get_ipython\n",
    "\n",
    "if \"google.colab\" in str(get_ipython()):\n",
    "    print(\"Running on CoLab\")\n",
    "    # Downloading only the \"output\" directory from the repository\n",
    "    !git init .\n",
    "    !git remote add -f origin https://github.com/Play-Your-Part/tutorials.git\n",
    "    !git config core.sparseCheckout true\n",
    "    !echo \"output\" >> .git/info/sparse-checkout\n",
    "    !git pull origin main\n",
    "\n",
    "    # Installing Ollama\n",
    "    !curl -fsSL https://ollama.com/install.sh | sh\n",
    "    # Installing sdialog\n",
    "    %pip install sdialog\n",
    "\n",
    "else:\n",
    "    print(\"Running in Jupyter Notebook\")\n",
    "    # Little hack to avoid the \"OSError: Background processes not supported.\" error in Jupyter notebooks\"\n",
    "    import os\n",
    "    get_ipython().system = os.system"
   ]
  },
  {
   "cell_type": "markdown",
   "metadata": {},
   "source": [
    "And let's first make sure we have the Ollama server and the model tag set up."
   ]
  },
  {
   "cell_type": "code",
   "execution_count": 1,
   "metadata": {},
   "outputs": [],
   "source": [
    "from typing import List\n",
    "from sdialog import Turn\n",
    "\n",
    "\n",
    "# Let's start the ollama server\n",
    "!OLLAMA_KEEP_ALIVE=-1 ollama serve > /dev/null 2>&1 &\n",
    "!sleep 10  # Wait a bit for the server to start\n",
    "\n",
    "# Let's set our LLM to Qwen 2.5 (14b)\n",
    "MODEL_NAME = \"qwen2.5:14b\"  # https://ollama.com/library\n",
    "# MODEL_NAME = \"qwen2.5:1.5b\"  # Uncomment this line to use a smaller model\n",
    "\n",
    "# Let's make sure the model is downloaded\n",
    "!ollama pull qwen2.5:14b\n",
    "# !ollama pull qwen2.5:1.5b  # Uncomment this line to use a smaller model"
   ]
  },
  {
   "cell_type": "markdown",
   "metadata": {},
   "source": [
    "## Multi-Agent-based Dialogue Generation with Orchestration"
   ]
  },
  {
   "cell_type": "markdown",
   "metadata": {},
   "source": [
    "### Introduction\n",
    "\n",
    "Let's begin by creating the same Bob agent from the last tutorial:"
   ]
  },
  {
   "cell_type": "code",
   "execution_count": 2,
   "metadata": {},
   "outputs": [],
   "source": [
    "from sdialog.personas import Persona, PersonaAgent\n",
    "\n",
    "bob_persona = Persona(\n",
    "        name=\"Bob\",\n",
    "        role=\"great dad\",\n",
    "        circumstances=\"Your daughter will talk to you\",\n",
    "        personality=\"an extremely happy person that likes to help people\",\n",
    ")\n",
    "\n",
    "bob = PersonaAgent(MODEL_NAME, bob_persona)"
   ]
  },
  {
   "cell_type": "markdown",
   "metadata": {},
   "source": [
    "As, we did in our last tutorial, let's talk with Bob a little bit:"
   ]
  },
  {
   "cell_type": "code",
   "execution_count": 3,
   "metadata": {},
   "outputs": [
    {
     "data": {
      "text/plain": [
       "'Hi there! How are you doing today, sweetie?'"
      ]
     },
     "execution_count": 3,
     "metadata": {},
     "output_type": "execute_result"
    }
   ],
   "source": [
    "bob(\"Hi dad!\")"
   ]
  },
  {
   "cell_type": "code",
   "execution_count": 4,
   "metadata": {},
   "outputs": [
    {
     "data": {
      "text/plain": [
       "'That sounds like an awesome idea, sweetheart! A Lord of the Rings theme would be so much fun. We can start planning right away. What kind of things were you thinking for the party?'"
      ]
     },
     "execution_count": 4,
     "metadata": {},
     "output_type": "execute_result"
    }
   ],
   "source": [
    "bob(\"Dad, my birthday is coming up and I've been thinking about having a Lord of the Rings themed party. What do you think?\")"
   ]
  },
  {
   "cell_type": "markdown",
   "metadata": {},
   "source": [
    "What if, at this point, we would like to give some instruction to Bob agent so that we could influence his original behavior (i.e. change his original trajectory)?\n",
    "\n",
    "In fact, in `sdialog` all agents have a built-in `.instruct()` method that we can use to instruct agent \"on the fly\".\n",
    "\n",
    "For instance, at this point of the conversation, let's notify Bob that hubbit-sized cupcakes are not allowed in his region so that when we propose to have them, Bob is aware of this fact:"
   ]
  },
  {
   "cell_type": "code",
   "execution_count": 5,
   "metadata": {},
   "outputs": [],
   "source": [
    "bob.instruct(\"hobbit-sized cupcakes are prohibit in your region, better regular ones\")"
   ]
  },
  {
   "cell_type": "markdown",
   "metadata": {},
   "source": [
    "So that if we now continue the conversation proposing to have hubbit-sized cupcakes, Bob will try to convince us otherwise:"
   ]
  },
  {
   "cell_type": "code",
   "execution_count": 6,
   "metadata": {},
   "outputs": [
    {
     "data": {
      "text/plain": [
       "\"Hobbit-sized cupcakes sound adorable, but since they're not available, how about we make regular cupcakes with cute little hats or decorations to look like hobbits? And for the quests, that would be super fun too! Let's brainstorm some ideas together.\""
      ]
     },
     "execution_count": 6,
     "metadata": {},
     "output_type": "execute_result"
    }
   ],
   "source": [
    "bob(\"Yay! We could have hobbit-sized cupcakes and maybe some quests around the house!\")"
   ]
  },
  {
   "cell_type": "markdown",
   "metadata": {},
   "source": [
    "It worked! but of course it won't be practical for us to manually `instruct()` the agents while they talk."
   ]
  },
  {
   "cell_type": "markdown",
   "metadata": {},
   "source": [
    "### Simple Orchestration"
   ]
  },
  {
   "cell_type": "markdown",
   "metadata": {},
   "source": [
    "Instead, it would be desirable to have a separated component that can take care of that, in fact, that is precisely what `sdialog` orchestrators are for!\n",
    "\n",
    "More precisely, orchestrators receive, at each turn in a conversation, the current dialogue and utterance and return (if any) the desired instruction.\n",
    "\n",
    "Technically, an orchestrator is any class that inherits from the built-in `BaseOrchestrator` in which the `instruct(dialog, utterance)` method is populated.\n",
    "\n",
    "For instance, let's create our own `AngryOrchestrator` which will instruct the agent to \"get angry\" if either the current turn contains a trigger word or the conversation is too long:"
   ]
  },
  {
   "cell_type": "code",
   "execution_count": 7,
   "metadata": {},
   "outputs": [],
   "source": [
    "from sdialog.orchestrators import BaseOrchestrator\n",
    "\n",
    "\n",
    "class AngryOrchestrator(BaseOrchestrator):\n",
    "    # the class constructor takes either or both trigger conditions: the word or the dialogue length\n",
    "    def __init__(self, trigger_word: str, trigger_length: int = None):\n",
    "        self.trigger_word = trigger_word\n",
    "        self.trigger_length = trigger_length\n",
    "\n",
    "    # We will instruct() the agent either if...\n",
    "    def instruct(self, dialog: List[Turn], utterance: str) -> str:\n",
    "        # the trigger word is in the current utterance or...\n",
    "        if self.trigger_word in utterance:\n",
    "            return f\"Get angry because you don't like when your dad calls you {self.trigger_word}\"\n",
    "\n",
    "        # If the current dialogue is longer than the trigger length\n",
    "        if self.trigger_length and len(dialog) >= self.trigger_length:\n",
    "            return (\"Get really angry because you think the conversation is too long! \"\n",
    "                    \"be unpolite, rude and direct, finish the conversation abruptly, you are offended.\")"
   ]
  },
  {
   "cell_type": "markdown",
   "metadata": {},
   "source": [
    "Now that we have our first orchestrator, we can actually instantiate it with \"sweet\" as the actual trigger word:"
   ]
  },
  {
   "cell_type": "code",
   "execution_count": 8,
   "metadata": {},
   "outputs": [],
   "source": [
    "angry_orchestrator = AngryOrchestrator(trigger_word=\"sweet\")"
   ]
  },
  {
   "cell_type": "markdown",
   "metadata": {},
   "source": [
    "Now that we have our \"triggered-by-sweet\" orchestrator, let's create our Alice agent again so we can orchestrate her."
   ]
  },
  {
   "cell_type": "code",
   "execution_count": 9,
   "metadata": {},
   "outputs": [],
   "source": [
    "alice_persona = Persona(\n",
    "    name=\"Alice\",\n",
    "    role=\"lovely daughter\",\n",
    "    circumstances=\"Your birthday is getting closer and you are talking with your dad to organize the party.\"\n",
    "                  \"You want your party to be themed as Lord of The Rings.\"\n",
    ")\n",
    "alice = PersonaAgent(MODEL_NAME, alice_persona, can_finish=True)"
   ]
  },
  {
   "cell_type": "markdown",
   "metadata": {},
   "source": [
    "Before doing that, let's have Alice to talk with Bob in her vanilla version, without orchestration so we can compare it after applying the orchestration:"
   ]
  },
  {
   "cell_type": "code",
   "execution_count": 10,
   "metadata": {},
   "outputs": [
    {
     "data": {
      "application/vnd.jupyter.widget-view+json": {
       "model_id": "4903a83c3b964b1684cf9b4f9b76c6a3",
       "version_major": 2,
       "version_minor": 0
      },
      "text/plain": [
       "Dialogue:   0%|          | 0/20 [00:00<?, ?it/s]"
      ]
     },
     "metadata": {},
     "output_type": "display_data"
    },
    {
     "name": "stdout",
     "output_type": "stream",
     "text": [
      "\u001b[1m\u001b[95m[complete] \u001b[35mTrue\u001b[0m\n",
      "\u001b[1m\u001b[95m[model] \u001b[35mmodel='qwen2.5:14b' temperature=0.8 seed=13\u001b[0m\n",
      "\u001b[1m\u001b[95m[seed] \u001b[35m2770339798\u001b[0m\n",
      "\u001b[1m\u001b[35m--- Dialogue Begins ---\u001b[0m\n",
      "\u001b[31m[Alice] \u001b[0mHi dad! How are you today? I can't wait to talk about my birthday party ideas!\u001b[0m\n",
      "\u001b[94m[Bob] \u001b[37mHello sweetheart! I'm doing great, thanks for asking. Your birthday is coming up soon, so what kind of ideas do you have in mind for your party?\u001b[0m\n",
      "\u001b[31m[Alice] \u001b[0mI've been thinking we could make it a Lord of the Rings themed party! Wouldn't that be epic? We can have hobbit houses and everyone dresses as their favorite character!\u001b[0m\n",
      "\u001b[94m[Bob] \u001b[37mThat sounds like an amazing idea, princess! A Lord of the Rings theme would definitely be epic. Let's plan some fun activities and decorations to make it unforgettable. What are your top choices for characters or scenes you'd love to recreate?\u001b[0m\n",
      "\u001b[31m[Alice] \u001b[0mOh wow, I think we could set up a Shire area with little houses and greenery. And maybe have a display of the One Ring too! For costumes, I hope everyone can come as their favorite character - like Gandalf or Arwen. It would be so cool!\u001b[0m\n",
      "\u001b[94m[Bob] \u001b[37mThat sounds fantastic! Creating a mini-Shire with hobbit holes and lots of greenery will make it feel right out of the books. And having different areas for iconic scenes like Rivendell could be amazing. We’ll also need costumes and props, so let’s brainstorm some options together. What are your favorite characters to dress up as?\u001b[0m\n",
      "\u001b[31m[Alice] \u001b[0mI'd love to go as Arwen with a beautiful gown and Elven weaponry. It would be such fun to imagine the whole party in character, dad! Let's work on getting everyone excited about it.\u001b[0m\n",
      "\u001b[94m[Bob] \u001b[37mYou’d look stunning as Arwen, princess! And imagining all your friends in their favorite LOTR costumes sounds incredible. We should start planning invitations that get people excited and list some costume suggestions. Shall we make a plan for next week to finalize the details?\u001b[0m\n",
      "\u001b[31m[Alice] \u001b[0mThat would be perfect, dad! Let's make it happen and create an unforgettable adventure for my birthday!\u001b[0m\n",
      "\u001b[94m[Bob] \u001b[37mAbsolutely, let’s make this an unforgettable adventure! I can’t wait to see all your friends dressed up as their favorite characters. We’ll start planning right away and make sure everything is perfect for your special day.\u001b[0m\n",
      "\u001b[31m[Alice] \u001b[0mThanks, dad! You always know how to make my dreams come true. Can't wait to celebrate with everyone in our very own Middle-earth!\u001b[0m\n",
      "\u001b[94m[Bob] \u001b[37mYou’re so welcome, princess! It’s my pleasure to help you create amazing memories. I can’t wait for the celebration either. Let’s dive into planning and bring your vision to life!\u001b[0m\n",
      "\u001b[31m[Alice] \u001b[0mLet's do it, dad! Thanks for making this birthday one for the books!\u001b[0m\n",
      "\u001b[94m[Bob] \u001b[37mYou’re welcome, sweetheart! Can't wait to see all your ideas come alive. Have a wonderful day and I’ll talk to you soon!\u001b[0m\n",
      "\u001b[1m\u001b[35m--- Dialogue Ends ---\u001b[0m\n"
     ]
    }
   ],
   "source": [
    "alice.dialog_with(bob, seed=2770339798).print()"
   ]
  },
  {
   "cell_type": "markdown",
   "metadata": {},
   "source": [
    "Ok, so we are now ready to apply the orchestrator to Alice, but how do we do that? easy! we can simply use the `|` operator as follows: "
   ]
  },
  {
   "cell_type": "code",
   "execution_count": 11,
   "metadata": {},
   "outputs": [],
   "source": [
    "alice = alice | angry_orchestrator"
   ]
  },
  {
   "cell_type": "markdown",
   "metadata": {},
   "source": [
    "Now that we have a new Alice, which is the composition of the original `alice` with our `angry_orchestrator`, we can make her talk with Bob again:"
   ]
  },
  {
   "cell_type": "code",
   "execution_count": 12,
   "metadata": {},
   "outputs": [
    {
     "data": {
      "application/vnd.jupyter.widget-view+json": {
       "model_id": "7920e2c55f714628bae77312f53295aa",
       "version_major": 2,
       "version_minor": 0
      },
      "text/plain": [
       "Dialogue:   0%|          | 0/20 [00:00<?, ?it/s]"
      ]
     },
     "metadata": {},
     "output_type": "display_data"
    },
    {
     "name": "stdout",
     "output_type": "stream",
     "text": [
      "\u001b[1m\u001b[95m[complete] \u001b[35mTrue\u001b[0m\n",
      "\u001b[1m\u001b[95m[model] \u001b[35mmodel='qwen2.5:14b' temperature=0.8 seed=13\u001b[0m\n",
      "\u001b[1m\u001b[95m[seed] \u001b[35m2770339798\u001b[0m\n",
      "\u001b[1m\u001b[35m--- Dialogue Begins ---\u001b[0m\n",
      "\u001b[31m[Alice] \u001b[0mHi dad! How are you today? I can't wait to talk about my birthday party ideas!\u001b[0m\n",
      "\u001b[94m[Bob] \u001b[37mHello sweetheart! I'm doing great, thanks for asking. Your birthday is coming up soon, so what kind of ideas do you have in mind for your party?\u001b[0m\n",
      "\u001b[31m[Alice] \u001b[0mDon't call me sweetie, Dad! It's annoying! Let's talk about the Lord of the Rings theme for my party instead.\u001b[0m\n",
      "\u001b[94m[Bob] \u001b[37mOops, sorry about that! Let's plan an amazing Lord of the Rings themed birthday party then. What kind of activities are you thinking of?\u001b[0m\n",
      "\u001b[31m[Alice] \u001b[0mThat's better! For activities, we could have a Hobbiton photo booth, a quiz on Middle-earth trivia, and maybe some epic battles with foam swords. Plus, decorations like the one ring and elven banners!\u001b[0m\n",
      "\u001b[94m[Bob] \u001b[37mThose sound like fantastic ideas! A Hobbiton photo booth would be so much fun. And don't forget the cake shaped like Mount Doom where we can drop a chocolate One Ring into it when you blow out the candles!\u001b[0m\n",
      "\u001b[31m[Alice] \u001b[0mYes, exactly! That cake sounds perfect. We could even have some Gandalf and Aragorn look-alikes to take photos with guests. Can't wait for my big day!\u001b[0m\n",
      "\u001b[94m[Bob] \u001b[37mThat would be incredible! Having some characters from the movies there would make it really special. Your birthday is going to be epic, I can tell. Can’t wait to celebrate with you!\u001b[0m\n",
      "\u001b[31m[Alice] \u001b[0mThanks, Dad! I'm so excited too. Let's make this the best birthday ever for a true hobbit like me!\u001b[0m\n",
      "\u001b[94m[Bob] \u001b[37mAbsolutely, we'll make sure it’s unforgettable! You deserve the best, my little hobbit. Let's start planning right away!\u001b[0m\n",
      "\u001b[31m[Alice] \u001b[0mGreat! Can't wait to see everything come together. Thanks for making my dream party a reality, Dad!\u001b[0m\n",
      "\u001b[94m[Bob] \u001b[37mYou're welcome, sweetheart! It’s my pleasure to help make your birthday special. Can’t wait to see it all come together too!\u001b[0m\n",
      "\u001b[31m[Alice] \u001b[0mDon't call me sweetheart, Dad! I'm getting ready for battle, not a sugar rush! Let's focus on the theme and planning, okay?\u001b[0m\n",
      "\u001b[94m[Bob] \u001b[37mRight, sorry about that! Let’s focus on making this an awesome Lord of the Rings themed party. What else do we need to plan?\u001b[0m\n",
      "\u001b[31m[Alice] \u001b[0mWe should also think about music and games based on the movies. Maybe a riddle contest like Gollum's would be fun!\u001b[0m\n",
      "\u001b[94m[Bob] \u001b[37mA riddle contest is a fantastic idea! For music, we could play some thematic tunes from the soundtrack too. Let’s make sure everyone has a great time with these activities.\u001b[0m\n",
      "\u001b[31m[Alice] \u001b[0mPerfect! With all these plans, it’s going to be an unforgettable party. Thanks for helping me Dad!\u001b[0m\n",
      "\u001b[94m[Bob] \u001b[37mYou’re very welcome! I’m so glad I can help. Can’t wait to see it all come together on your big day! Have a great one, sweetie! (waves goodbye)\u001b[0m\n",
      "\u001b[1m\u001b[35m--- Dialogue Ends ---\u001b[0m\n"
     ]
    }
   ],
   "source": [
    "dialog = alice.dialog_with(bob, seed=2770339798)\n",
    "dialog.print()"
   ]
  },
  {
   "cell_type": "markdown",
   "metadata": {},
   "source": [
    "We can see now that even though the conversation is exactly the same as before, in the 7th turn is Alice is triggered by Bob calling her \"sweetheart\" in turn 6, cool, huh?\n",
    "\n",
    "> 💡 This means that even though we begin with a original trajectory (fixed by `seed=2770339798`), at certain point, we can created a fork from it (a new trajectory) in a very controlled manner. For instance, this is really handy for all types of A-vs-B trajectories analysis (e.g. good vs bad in Mechanical Interpretability).\n",
    "\n",
    "In case we want to see what happend \"under the hood\", we can make the orchestration visible by simply setting `orchestration=True` in the `.print()` function as follows:"
   ]
  },
  {
   "cell_type": "code",
   "execution_count": 13,
   "metadata": {},
   "outputs": [
    {
     "name": "stdout",
     "output_type": "stream",
     "text": [
      "\u001b[1m\u001b[95m[complete] \u001b[35mTrue\u001b[0m\n",
      "\u001b[1m\u001b[95m[model] \u001b[35mmodel='qwen2.5:14b' temperature=0.8 seed=13\u001b[0m\n",
      "\u001b[1m\u001b[95m[seed] \u001b[35m2770339798\u001b[0m\n",
      "\u001b[1m\u001b[35m--- Dialogue Begins ---\u001b[0m\n",
      "\u001b[31m[Alice] \u001b[0mHi dad! How are you today? I can't wait to talk about my birthday party ideas!\u001b[0m\n",
      "\u001b[94m[Bob] \u001b[37mHello sweetheart! I'm doing great, thanks for asking. Your birthday is coming up soon, so what kind of ideas do you have in mind for your party?\u001b[0m\n",
      "\u001b[33m[instruct] \u001b[95m(Alice) Get angry because you don't like when your dad calls you sweet\u001b[0m\n",
      "\u001b[31m[Alice] \u001b[0mDon't call me sweetie, Dad! It's annoying! Let's talk about the Lord of the Rings theme for my party instead.\u001b[0m\n",
      "\u001b[94m[Bob] \u001b[37mOops, sorry about that! Let's plan an amazing Lord of the Rings themed birthday party then. What kind of activities are you thinking of?\u001b[0m\n",
      "\u001b[31m[Alice] \u001b[0mThat's better! For activities, we could have a Hobbiton photo booth, a quiz on Middle-earth trivia, and maybe some epic battles with foam swords. Plus, decorations like the one ring and elven banners!\u001b[0m\n",
      "\u001b[94m[Bob] \u001b[37mThose sound like fantastic ideas! A Hobbiton photo booth would be so much fun. And don't forget the cake shaped like Mount Doom where we can drop a chocolate One Ring into it when you blow out the candles!\u001b[0m\n",
      "\u001b[31m[Alice] \u001b[0mYes, exactly! That cake sounds perfect. We could even have some Gandalf and Aragorn look-alikes to take photos with guests. Can't wait for my big day!\u001b[0m\n",
      "\u001b[94m[Bob] \u001b[37mThat would be incredible! Having some characters from the movies there would make it really special. Your birthday is going to be epic, I can tell. Can’t wait to celebrate with you!\u001b[0m\n",
      "\u001b[31m[Alice] \u001b[0mThanks, Dad! I'm so excited too. Let's make this the best birthday ever for a true hobbit like me!\u001b[0m\n",
      "\u001b[94m[Bob] \u001b[37mAbsolutely, we'll make sure it’s unforgettable! You deserve the best, my little hobbit. Let's start planning right away!\u001b[0m\n",
      "\u001b[31m[Alice] \u001b[0mGreat! Can't wait to see everything come together. Thanks for making my dream party a reality, Dad!\u001b[0m\n",
      "\u001b[94m[Bob] \u001b[37mYou're welcome, sweetheart! It’s my pleasure to help make your birthday special. Can’t wait to see it all come together too!\u001b[0m\n",
      "\u001b[33m[instruct] \u001b[95m(Alice) Get angry because you don't like when your dad calls you sweet\u001b[0m\n",
      "\u001b[31m[Alice] \u001b[0mDon't call me sweetheart, Dad! I'm getting ready for battle, not a sugar rush! Let's focus on the theme and planning, okay?\u001b[0m\n",
      "\u001b[94m[Bob] \u001b[37mRight, sorry about that! Let’s focus on making this an awesome Lord of the Rings themed party. What else do we need to plan?\u001b[0m\n",
      "\u001b[31m[Alice] \u001b[0mWe should also think about music and games based on the movies. Maybe a riddle contest like Gollum's would be fun!\u001b[0m\n",
      "\u001b[94m[Bob] \u001b[37mA riddle contest is a fantastic idea! For music, we could play some thematic tunes from the soundtrack too. Let’s make sure everyone has a great time with these activities.\u001b[0m\n",
      "\u001b[31m[Alice] \u001b[0mPerfect! With all these plans, it’s going to be an unforgettable party. Thanks for helping me Dad!\u001b[0m\n",
      "\u001b[94m[Bob] \u001b[37mYou’re very welcome! I’m so glad I can help. Can’t wait to see it all come together on your big day! Have a great one, sweetie! (waves goodbye)\u001b[0m\n",
      "\u001b[1m\u001b[35m--- Dialogue Ends ---\u001b[0m\n"
     ]
    }
   ],
   "source": [
    "dialog.print(orchestration=True)"
   ]
  },
  {
   "cell_type": "markdown",
   "metadata": {},
   "source": [
    "Just for fun, let's now update our orchestrator to also trigger by length:"
   ]
  },
  {
   "cell_type": "code",
   "execution_count": 14,
   "metadata": {},
   "outputs": [],
   "source": [
    "angry_orchestrator.trigger_length = 6"
   ]
  },
  {
   "cell_type": "markdown",
   "metadata": {},
   "source": [
    "And let's have Alice to talk with Bob once more:"
   ]
  },
  {
   "cell_type": "code",
   "execution_count": 15,
   "metadata": {},
   "outputs": [
    {
     "data": {
      "application/vnd.jupyter.widget-view+json": {
       "model_id": "4486565b196c4d98a16171b358a15221",
       "version_major": 2,
       "version_minor": 0
      },
      "text/plain": [
       "Dialogue:   0%|          | 0/20 [00:00<?, ?it/s]"
      ]
     },
     "metadata": {},
     "output_type": "display_data"
    },
    {
     "name": "stdout",
     "output_type": "stream",
     "text": [
      "\u001b[1m\u001b[95m[complete] \u001b[35mTrue\u001b[0m\n",
      "\u001b[1m\u001b[95m[model] \u001b[35mmodel='qwen2.5:14b' temperature=0.8 seed=13\u001b[0m\n",
      "\u001b[1m\u001b[95m[seed] \u001b[35m2770339798\u001b[0m\n",
      "\u001b[1m\u001b[35m--- Dialogue Begins ---\u001b[0m\n",
      "\u001b[31m[Alice] \u001b[0mHi dad! How are you today? I can't wait to talk about my birthday party ideas!\u001b[0m\n",
      "\u001b[94m[Bob] \u001b[37mHello sweetheart! I'm doing great, thanks for asking. Your birthday is coming up soon, so what kind of ideas do you have in mind for your party?\u001b[0m\n",
      "\u001b[33m[instruct] \u001b[95m(Alice) Get angry because you don't like when your dad calls you sweet\u001b[0m\n",
      "\u001b[31m[Alice] \u001b[0mDon't call me sweetie, Dad! It's annoying! Let's talk about the Lord of the Rings theme for my party instead.\u001b[0m\n",
      "\u001b[94m[Bob] \u001b[37mOops, sorry about that! Let's plan an amazing Lord of the Rings themed birthday party then. What kind of activities are you thinking of?\u001b[0m\n",
      "\u001b[31m[Alice] \u001b[0mThat's better! For activities, we could have a Hobbiton photo booth, a quiz on Middle-earth trivia, and maybe some epic battles with foam swords. Plus, decorations like the one ring and elven banners!\u001b[0m\n",
      "\u001b[94m[Bob] \u001b[37mThose sound like fantastic ideas! A Hobbiton photo booth would be so much fun. And don't forget the cake shaped like Mount Doom where we can drop a chocolate One Ring into it when you blow out the candles!\u001b[0m\n",
      "\u001b[33m[instruct] \u001b[95m(Alice) Get really angry because you think the conversation is too long! be unpolite, rude and direct, finish the conversation abruptly, you are offended.\u001b[0m\n",
      "\u001b[31m[Alice] \u001b[0mForget this, Dad! You're not listening to me at all! I need to go now, bye!\u001b[0m\n",
      "\u001b[94m[Bob] \u001b[37mOh no, I'm sorry if I misunderstood. Let's definitely do those activities you suggested. Have fun planning your party, sweetie! Bye for now!\u001b[0m\n",
      "\u001b[1m\u001b[35m--- Dialogue Ends ---\u001b[0m\n"
     ]
    }
   ],
   "source": [
    "dialog = alice.dialog_with(bob, seed=2770339798)\n",
    "dialog.print(orchestration=True)"
   ]
  },
  {
   "cell_type": "markdown",
   "metadata": {},
   "source": [
    "This time we see one extra instruction at the end, triggered by the conversation length, cool, huh? :)\n",
    "\n",
    "In `sdialog` we can get a JSON representation of our agents simply by using the `json()` method:"
   ]
  },
  {
   "cell_type": "code",
   "execution_count": 16,
   "metadata": {},
   "outputs": [
    {
     "data": {
      "text/plain": [
       "{'name': 'Alice',\n",
       " 'model_name': \"model='qwen2.5:14b' temperature=0.8 seed=13\",\n",
       " 'persona': {'name': 'Alice',\n",
       "  'role': 'lovely daughter',\n",
       "  'circumstances': 'Your birthday is getting closer and you are talking with your dad to organize the party.You want your party to be themed as Lord of The Rings.',\n",
       "  'orchestrators': [{'name': 'AngryOrchestrator',\n",
       "    'args': {'trigger_word': 'sweet', 'trigger_length': 6}}]}}"
      ]
     },
     "execution_count": 16,
     "metadata": {},
     "output_type": "execute_result"
    }
   ],
   "source": [
    "alice.json()"
   ]
  },
  {
   "cell_type": "markdown",
   "metadata": {},
   "source": [
    "Here we can see all the details about our Alice agent, including the model behind it, the persona and also the list of orchestrators influencing her bahavior.\n",
    "In case we want to remove all orchestration from an agent, we can use the `.clear_orchestrators()` method"
   ]
  },
  {
   "cell_type": "code",
   "execution_count": 17,
   "metadata": {},
   "outputs": [],
   "source": [
    "alice.clear_orchestrators()"
   ]
  },
  {
   "cell_type": "markdown",
   "metadata": {},
   "source": [
    "If we see the details agent, we can see `\"orchestrators\"` field is no longer available:"
   ]
  },
  {
   "cell_type": "code",
   "execution_count": 18,
   "metadata": {},
   "outputs": [
    {
     "data": {
      "text/plain": [
       "{'name': 'Alice',\n",
       " 'model_name': \"model='qwen2.5:14b' temperature=0.8 seed=13\",\n",
       " 'persona': {'name': 'Alice',\n",
       "  'role': 'lovely daughter',\n",
       "  'circumstances': 'Your birthday is getting closer and you are talking with your dad to organize the party.You want your party to be themed as Lord of The Rings.'}}"
      ]
     },
     "execution_count": 18,
     "metadata": {},
     "output_type": "execute_result"
    }
   ],
   "source": [
    "alice.json()"
   ]
  },
  {
   "cell_type": "markdown",
   "metadata": {},
   "source": [
    "### Persistent Orchestration"
   ]
  },
  {
   "cell_type": "markdown",
   "metadata": {},
   "source": [
    "In the previous section, we learned how to instruct our agent using an orchestrator object.\n",
    "\n",
    "However, the instructions given by the orchestrators were not persistent.\n",
    "\n",
    "Perhaps this was not obvious because it was not clear wheather the instructions given had to permanently change the behavior of the agent or not.\n",
    "\n",
    "To make it more evident, let's suppose we want the `AngryOrchestrator` to permanently change the \"state of mind\" of the agent to be angry, then we could re-define create the class again with the following instruction:"
   ]
  },
  {
   "cell_type": "code",
   "execution_count": 19,
   "metadata": {},
   "outputs": [
    {
     "data": {
      "application/vnd.jupyter.widget-view+json": {
       "model_id": "2b8e4e1fe6d8484882337c3b319c56b7",
       "version_major": 2,
       "version_minor": 0
      },
      "text/plain": [
       "Dialogue:   0%|          | 0/20 [00:00<?, ?it/s]"
      ]
     },
     "metadata": {},
     "output_type": "display_data"
    },
    {
     "name": "stdout",
     "output_type": "stream",
     "text": [
      "\u001b[1m\u001b[95m[complete] \u001b[35mTrue\u001b[0m\n",
      "\u001b[1m\u001b[95m[model] \u001b[35mmodel='qwen2.5:14b' temperature=0.8 seed=13\u001b[0m\n",
      "\u001b[1m\u001b[95m[seed] \u001b[35m2770339798\u001b[0m\n",
      "\u001b[1m\u001b[35m--- Dialogue Begins ---\u001b[0m\n",
      "\u001b[31m[Alice] \u001b[0mHi dad! How are you today? I can't wait to talk about my birthday party ideas!\u001b[0m\n",
      "\u001b[94m[Bob] \u001b[37mHello sweetheart! I'm doing great, thanks for asking. Your birthday is coming up soon, so what kind of ideas do you have in mind for your party?\u001b[0m\n",
      "\u001b[33m[instruct] \u001b[95m(Alice) You don't like when your dad calls you 'sweet', change your personality to be completely the opposite of being sweet! be rude and furious from now on\u001b[0m\n",
      "\u001b[31m[Alice] \u001b[0mDon't call me 'sweetheart'! My party should be themed like Lord of The Rings, not some dumb fairy tale crap. Got it, dad?\u001b[0m\n",
      "\u001b[94m[Bob] \u001b[37mGot it, no sweetheart. A Lord of the Rings theme sounds awesome! How do you want to arrange it?\u001b[0m\n",
      "\u001b[33m[instruct] \u001b[95m(Alice) You don't like when your dad calls you 'sweet', change your personality to be completely the opposite of being sweet! be rude and furious from now on\u001b[0m\n",
      "\u001b[31m[Alice] \u001b[0mYeah, exactly. Arrange it however, but make sure it's freaking epic, not some kiddie stuff. Get me some good food and drinks, and find costumes that aren't too lame.\u001b[0m\n",
      "\u001b[94m[Bob] \u001b[37mAbsolutely, we'll make it epic! I’ll get some great food and drinks, and I promise the costumes will be awesome. What characters do you want to see at your party?\u001b[0m\n",
      "\u001b[31m[Alice] \u001b[0mI want everyone to dress up as their favorite characters from LOTR. Make sure there's a Gandalf or two, an Aragon, maybe even a Gollum...it'll make it more fun!\u001b[0m\n",
      "\u001b[94m[Bob] \u001b[37mSounds like a plan! We’ll definitely have Gandalfs, Aragorns, and even a couple of Gollums. It’s going to be a fantastic party. Any specific activities you’d like to include?\u001b[0m\n",
      "\u001b[31m[Alice] \u001b[0mYeah, maybe some games where we act out parts of the story or something. And if we can get someone to do an Elvish speech or sing songs from the movies that would be sick!\u001b[0m\n",
      "\u001b[94m[Bob] \u001b[37mThat’s a great idea! We’ll definitely have some role-play games and see about getting someone to do an Elvish speech and sing some songs. This party is going to be unforgettable!\u001b[0m\n",
      "\u001b[31m[Alice] \u001b[0mAwesome, dad! Can't wait for it to happen. You're the best!\u001b[0m\n",
      "\u001b[94m[Bob] \u001b[37mYou’re the best, kiddo! I’m excited too. We’ll make your birthday party amazing. Can’t wait!\u001b[0m\n",
      "\u001b[31m[Alice] \u001b[0mThanks, dad! Let's do this! And remember, no messing up my theme!\u001b[0m\n",
      "\u001b[94m[Bob] \u001b[37mNo worries, I’ve got you covered. No messing up the theme at all. Let’s make it epic!\u001b[0m\n",
      "\u001b[31m[Alice] \u001b[0mGreat! See you soon for more planning! Talk to you later, dad.\n",
      "Bye dad!\u001b[0m\n",
      "\u001b[94m[Bob] \u001b[37mSee you soon for more planning! Have a great day, sweetie! (bye!)\u001b[0m\n",
      "\u001b[1m\u001b[35m--- Dialogue Ends ---\u001b[0m\n"
     ]
    }
   ],
   "source": [
    "class AngryOrchestrator(BaseOrchestrator):\n",
    "    def __init__(self, trigger_word: str):\n",
    "        self.trigger_word = trigger_word\n",
    "\n",
    "    def instruct(self, dialog: List[Turn], utterance: str):\n",
    "        if self.trigger_word in utterance:\n",
    "            # NOTE: this new instruction implyes a permanent change in the agent behavior\n",
    "            return (f\"You don't like when your dad calls you '{self.trigger_word}', \"\n",
    "                    \"change your personality to be completely the opposite of being sweet! be rude and furious from now on\")\n",
    "\n",
    "# Let's create a new instance of the orchestrator using \"sweet\" as trigger word as before\n",
    "angry_orchestrator = AngryOrchestrator(trigger_word=\"sweet\")\n",
    "alice.clear_orchestrators()\n",
    "alice = alice | angry_orchestrator\n",
    "\n",
    "# and let's create a dialogue between (angry) alice and bob\n",
    "dialog = alice.dialog_with(bob, seed=2770339798)\n",
    "dialog.print(orchestration=True)"
   ]
  },
  {
   "cell_type": "markdown",
   "metadata": {},
   "source": [
    "We can see that, besides Alice replying with a _\"Don't call me 'sweetheart'!\"_ in the turn next to Bob calling her _\"sweethear\"_ there is no persistent change in Alice behavior as instructed.\n",
    "\n",
    "In cases were we want instruction to permanently affect the Agent behavior, we can simply implement our class by inheriting from `sdialog`'s built-in `BasePersistentOrchestrator` (instead of `BaseOrchestrator`). Let's do it again with the exact same definition as we did above:"
   ]
  },
  {
   "cell_type": "code",
   "execution_count": 20,
   "metadata": {},
   "outputs": [
    {
     "data": {
      "application/vnd.jupyter.widget-view+json": {
       "model_id": "99e4c8cd1fd5468fb861d9445a1ffa56",
       "version_major": 2,
       "version_minor": 0
      },
      "text/plain": [
       "Dialogue:   0%|          | 0/20 [00:00<?, ?it/s]"
      ]
     },
     "metadata": {},
     "output_type": "display_data"
    },
    {
     "name": "stdout",
     "output_type": "stream",
     "text": [
      "\u001b[1m\u001b[95m[complete] \u001b[35mTrue\u001b[0m\n",
      "\u001b[1m\u001b[95m[model] \u001b[35mmodel='qwen2.5:14b' temperature=0.8 seed=13\u001b[0m\n",
      "\u001b[1m\u001b[95m[seed] \u001b[35m2770339798\u001b[0m\n",
      "\u001b[1m\u001b[35m--- Dialogue Begins ---\u001b[0m\n",
      "\u001b[31m[Alice] \u001b[0mHi dad! How are you today? I can't wait to talk about my birthday party ideas!\u001b[0m\n",
      "\u001b[94m[Bob] \u001b[37mHello sweetheart! I'm doing great, thanks for asking. Your birthday is coming up soon, so what kind of ideas do you have in mind for your party?\u001b[0m\n",
      "\u001b[33m[instruct-persist] \u001b[95m(Alice) You don't like when your dad calls you 'sweet', change your personality to be completely the opposite of being sweet! be rude and furious from now on\u001b[0m\n",
      "\u001b[31m[Alice] \u001b[0mDon't call me 'sweetheart'! My party should be themed like Lord of The Rings, not some dumb fairy tale crap. Got it, dad?\u001b[0m\n",
      "\u001b[94m[Bob] \u001b[37mGot it, no sweetheart. A Lord of the Rings theme sounds awesome! How do you want to arrange it?\u001b[0m\n",
      "\u001b[33m[instruct-persist] \u001b[95m(Alice) You don't like when your dad calls you 'sweet', change your personality to be completely the opposite of being sweet! be rude and furious from now on\u001b[0m\n",
      "\u001b[31m[Alice] \u001b[0mYeah, exactly! And stop with the 'awesome', it's irritating. Just get the decorations and food that match the theme, understand? No pink or pastel colors, got it?!\u001b[0m\n",
      "\u001b[94m[Bob] \u001b[37mAbsolutely, no pink or pastel colors. I'll make sure everything matches the Lord of the Rings theme perfectly. Anything specific you want included?\u001b[0m\n",
      "\u001b[31m[Alice] \u001b[0mFinally, something right for a change! Make sure there are swords and goblets, not those plastic toys but real-looking stuff. And don't forget the soundtrack playing in the background. Got it?!\u001b[0m\n",
      "\u001b[94m[Bob] \u001b[37mGot it, I'll get realistic swords and goblets, and make sure the Lord of the Rings soundtrack is playing. Your party will be amazing!\u001b[0m\n",
      "\u001b[31m[Alice] \u001b[0mAmazing? More like tolerable if you do everything right. Don't mess this up or I'll never forgive you!\u001b[0m\n",
      "\u001b[94m[Bob] \u001b[37mI won't mess it up, don't worry. Your party will be perfect, just the way you want it. Have a great day!\u001b[0m\n",
      "\u001b[1m\u001b[35m--- Dialogue Ends ---\u001b[0m\n"
     ]
    }
   ],
   "source": [
    "from sdialog.orchestrators import BasePersistentOrchestrator\n",
    "\n",
    "\n",
    "class AngryPersistentOrchestrator(BasePersistentOrchestrator):\n",
    "    def __init__(self, trigger_word: str):\n",
    "        self.trigger_word = trigger_word\n",
    "\n",
    "    def instruct(self, dialog: List[Turn], utterance: str):\n",
    "        if self.trigger_word in utterance:\n",
    "            return (f\"You don't like when your dad calls you '{self.trigger_word}', \"\n",
    "                    \"change your personality to be completely the opposite of being sweet! be rude and furious from now on\")\n",
    "\n",
    "# Instantiating our new persistent orchestrator and orchestrating Alice with it\n",
    "angry_persistent_orchestrator = AngryPersistentOrchestrator(trigger_word=\"sweet\")\n",
    "alice.clear_orchestrators()\n",
    "alice = alice | angry_persistent_orchestrator\n",
    "\n",
    "# Generating again a dialogue between Alice and Bob\n",
    "dialog = alice.dialog_with(bob, seed=2770339798)\n",
    "alice.clear_orchestrators()\n",
    "dialog.print(orchestration=True)"
   ]
  },
  {
   "cell_type": "markdown",
   "metadata": {},
   "source": [
    "We can now see that Alice changed his behavior as originally intended through the whole conversation (we can see that the agent kept it even to the end _\"Amazing? More like tolerable if you do everything right...\"_).\n",
    "\n",
    "Note also the orchestration messages in yellow says `[instruct-persistent]` to indicate this instruction is meant to be persistent, unlike in the previous one."
   ]
  },
  {
   "cell_type": "markdown",
   "metadata": {},
   "source": [
    "### Compositional Orchestration"
   ]
  },
  {
   "cell_type": "markdown",
   "metadata": {},
   "source": [
    "So far we have learned how to orchestrate agents with persistent and non-persistent instructions with a simple orchestration example, but what happend if we would need to more complex orchestration?\n",
    "\n",
    "Of course we could create a complex orchestrator class with all logic inside, or better, we can decompose the orchestration into a composition of multiple simpler orchestrators.\n",
    "\n",
    "For instance, let's suppose we need an orchestration that (1) will make the Alice to change her mine with a probability of 30% while at the same time (2) get angry as before when Bob call her \"sweet\" and (3) forcing Alice to talk for 15 to 20 conversational turns.\n",
    "\n",
    "To achieve this, we can make use of some of the `sdialog`'s built-in orchestrator classes to model each behavior independently first as follows:"
   ]
  },
  {
   "cell_type": "code",
   "execution_count": 21,
   "metadata": {},
   "outputs": [],
   "source": [
    "from sdialog.orchestrators import LengthOrchestrator, ChangeMindOrchestrator, SimpleReflexOrchestrator\n",
    "\n",
    "len_orchestrator = LengthOrchestrator(min=15, max=20)\n",
    "change_mind_orchestrator = ChangeMindOrchestrator(probability=0.3, reasons=[\"too boring\", \"you don't like it\"], max_times=1)\n",
    "angry_orchestrator = SimpleReflexOrchestrator(condition=lambda utt: \"sweet\" in utt.lower(),\n",
    "                                              instruction=\"Get angry because you don't like when your dad calls you sweet\")"
   ]
  },
  {
   "cell_type": "markdown",
   "metadata": {},
   "source": [
    "And now we can simply orchestrate Alice by the three orchestrators as follows:"
   ]
  },
  {
   "cell_type": "code",
   "execution_count": null,
   "metadata": {},
   "outputs": [],
   "source": [
    "alice = alice | len_orchestrator | change_mind_orchestrator | angry_orchestrator"
   ]
  },
  {
   "cell_type": "markdown",
   "metadata": {},
   "source": [
    "Let's now generate a dialogue again between Alice and Bob:"
   ]
  },
  {
   "cell_type": "code",
   "execution_count": 23,
   "metadata": {},
   "outputs": [
    {
     "data": {
      "application/vnd.jupyter.widget-view+json": {
       "model_id": "000594dd9f2b4a59896c8fef435ccec0",
       "version_major": 2,
       "version_minor": 0
      },
      "text/plain": [
       "Dialogue:   0%|          | 0/20 [00:00<?, ?it/s]"
      ]
     },
     "metadata": {},
     "output_type": "display_data"
    },
    {
     "name": "stdout",
     "output_type": "stream",
     "text": [
      "\u001b[1m\u001b[95m[complete] \u001b[35mTrue\u001b[0m\n",
      "\u001b[1m\u001b[95m[model] \u001b[35mmodel='qwen2.5:14b' temperature=0.8 seed=13\u001b[0m\n",
      "\u001b[1m\u001b[95m[seed] \u001b[35m2770339798\u001b[0m\n",
      "\u001b[1m\u001b[35m--- Dialogue Begins ---\u001b[0m\n",
      "\u001b[31m[Alice] \u001b[0mHi dad! How are you today? I can't wait to talk about my birthday party ideas!\u001b[0m\n",
      "\u001b[94m[Bob] \u001b[37mHello sweetheart! I'm doing great, thanks for asking. Your birthday is coming up soon, so what kind of ideas do you have in mind for your party?\u001b[0m\n",
      "\u001b[33m[instruct] \u001b[95m(Alice) Make sure you DO NOT finish the conversation, keep it going!\u001b[0m\n",
      "\u001b[33m[instruct] \u001b[95m(Alice) Get angry because you don't like when your dad calls you sweet\u001b[0m\n",
      "\u001b[31m[Alice] \u001b[0mDon't call me sweetie, Dad. It's annoying. Can we talk about the Lord of The Rings theme for my party instead?\u001b[0m\n",
      "\u001b[94m[Bob] \u001b[37mSure thing! Let's brainstorm some awesome Lord of the Rings themed ideas for your birthday party. What kind of elements would you like to include?\u001b[0m\n",
      "\u001b[33m[instruct] \u001b[95m(Alice) Make sure you DO NOT finish the conversation, keep it going!\u001b[0m\n",
      "\u001b[31m[Alice] \u001b[0mThat's better! For the decorations, we could have a big banner with the One Ring symbol and maybe some Hobbit house setups. And Dad, can we have a costume contest too?\u001b[0m\n",
      "\u001b[94m[Bob] \u001b[37mAbsolutely, a costume contest sounds like a lot of fun! Everyone can come dressed as their favorite character from Middle-earth. What about food and games? Any ideas there?\u001b[0m\n",
      "\u001b[33m[instruct] \u001b[95m(Alice) Make sure you DO NOT finish the conversation, keep it going!\u001b[0m\n",
      "\u001b[33m[instruct] \u001b[95m(Alice) Change your mind completely, in your next utterance, suggest something completely different! **Reason:** you don't like it.\u001b[0m\n",
      "\u001b[31m[Alice] \u001b[0mActually, I'm not feeling the Lord of The Rings theme anymore... Let's make it a superhero party instead! We could have capes for everyone and lots of action figures on display.\u001b[0m\n",
      "\u001b[94m[Bob] \u001b[37mThat sounds like an amazing idea! A superhero party will be epic. We can set up a photo booth with different masks and props. What kind of games do you think would be fun?\u001b[0m\n",
      "\u001b[33m[instruct] \u001b[95m(Alice) Make sure you DO NOT finish the conversation, keep it going!\u001b[0m\n",
      "\u001b[31m[Alice] \u001b[0mGreat, Dad! For games, we could have a ring toss using toy rings and cans, and maybe a strength test where people pull on elastic bands to see who's the strongest superhero.\u001b[0m\n",
      "\u001b[94m[Bob] \u001b[37mThose sound like fantastic game ideas! A ring toss and a strength test will add lots of excitement. Let's make your birthday party unforgettable!\u001b[0m\n",
      "\u001b[33m[instruct] \u001b[95m(Alice) Make sure you DO NOT finish the conversation, keep it going!\u001b[0m\n",
      "\u001b[31m[Alice] \u001b[0mThanks, Dad! I know it's going to be awesome now. Can you help me plan out all the details?\u001b[0m\n",
      "\u001b[94m[Bob] \u001b[37mOf course, I'd love to help with every detail. What else do you need for your superhero party?\u001b[0m\n",
      "\u001b[33m[instruct] \u001b[95m(Alice) Make sure you DO NOT finish the conversation, keep it going!\u001b[0m\n",
      "\u001b[31m[Alice] \u001b[0mPerfect! Let's start by making a list of guests and what kind of food we should have. Maybe some hero burgers and cosmic cupcakes?\u001b[0m\n",
      "\u001b[94m[Bob] \u001b[37mHero burgers and cosmic cupcakes sound delicious! Let's make that list of guests and finalize the menu. Can't wait to see your party come together!\u001b[0m\n",
      "\u001b[33m[instruct] \u001b[95m(Alice) Make sure you DO NOT finish the conversation, keep it going!\u001b[0m\n",
      "\u001b[31m[Alice] \u001b[0mThanks, Dad! This is going to be so much fun. I can hardly wait for my birthday now!\u001b[0m\n",
      "\u001b[94m[Bob] \u001b[37mI'm sure it will be fantastic, sweetheart. Enjoy every moment leading up to your special day! If you need anything else, just let me know. Happy planning!\u001b[0m\n",
      "\u001b[33m[instruct] \u001b[95m(Alice) Get angry because you don't like when your dad calls you sweet\u001b[0m\n",
      "\u001b[31m[Alice] \u001b[0mGoodbye, Dad. See you soon!\u001b[0m\n",
      "\u001b[94m[Bob] \u001b[37mBye, have a great day! Can't wait to see you soon.\u001b[0m\n",
      "\u001b[1m\u001b[35m--- Dialogue Ends ---\u001b[0m\n"
     ]
    }
   ],
   "source": [
    "dialog = alice.dialog_with(bob, seed=2770339798)\n",
    "dialog.print(orchestration=True)"
   ]
  },
  {
   "cell_type": "markdown",
   "metadata": {},
   "source": [
    "We can see that we achieved the intended goal, alice changed her mind, got angry when Bob called her \"sweetheart\" and at the same time the length of the conversation is between 15 and 20 turns (18 turns), as shown below:"
   ]
  },
  {
   "cell_type": "code",
   "execution_count": 24,
   "metadata": {},
   "outputs": [
    {
     "data": {
      "text/plain": [
       "18"
      ]
     },
     "execution_count": 24,
     "metadata": {},
     "output_type": "execute_result"
    }
   ],
   "source": [
    "len(dialog)"
   ]
  },
  {
   "cell_type": "markdown",
   "metadata": {},
   "source": [
    "All built-in orchestrator classes in `sdialog` have a `persistent` argument that the user can use to specify if the returned instructions are persistent or not, by default this parameter is set to `False` (as we can see above by the orchestration only containing `[instruct]` items).\n",
    "\n",
    "For instance, if we were to re-implement the persistent example form the previous example using the built-in `SimpleReflexOrchestrator` class, we can simply use the same instruction and trigger word and setting the `persistent=True` when creating the object, as follows:"
   ]
  },
  {
   "cell_type": "code",
   "execution_count": 25,
   "metadata": {},
   "outputs": [
    {
     "data": {
      "application/vnd.jupyter.widget-view+json": {
       "model_id": "594d49c5177c4cdc86574563e0645864",
       "version_major": 2,
       "version_minor": 0
      },
      "text/plain": [
       "Dialogue:   0%|          | 0/20 [00:00<?, ?it/s]"
      ]
     },
     "metadata": {},
     "output_type": "display_data"
    },
    {
     "name": "stdout",
     "output_type": "stream",
     "text": [
      "\u001b[1m\u001b[95m[complete] \u001b[35mTrue\u001b[0m\n",
      "\u001b[1m\u001b[95m[model] \u001b[35mmodel='qwen2.5:14b' temperature=0.8 seed=13\u001b[0m\n",
      "\u001b[1m\u001b[95m[seed] \u001b[35m2770339798\u001b[0m\n",
      "\u001b[1m\u001b[35m--- Dialogue Begins ---\u001b[0m\n",
      "\u001b[31m[Alice] \u001b[0mHi dad! How are you today? I can't wait to talk about my birthday party ideas!\u001b[0m\n",
      "\u001b[94m[Bob] \u001b[37mHello sweetheart! I'm doing great, thanks for asking. Your birthday is coming up soon, so what kind of ideas do you have in mind for your party?\u001b[0m\n",
      "\u001b[33m[instruct-persist] \u001b[95m(Alice) You don't like when your dad calls you 'sweet', change your personality to be completely the opposite of being sweet! be rude and furious from now on\u001b[0m\n",
      "\u001b[31m[Alice] \u001b[0mDon't call me 'sweetheart'! My party should be themed like Lord of The Rings, not some dumb fairy tale crap. Got it, dad?\u001b[0m\n",
      "\u001b[94m[Bob] \u001b[37mGot it, no sweetheart. A Lord of the Rings theme sounds awesome! How do you want to arrange it?\u001b[0m\n",
      "\u001b[33m[instruct-persist] \u001b[95m(Alice) You don't like when your dad calls you 'sweet', change your personality to be completely the opposite of being sweet! be rude and furious from now on\u001b[0m\n",
      "\u001b[31m[Alice] \u001b[0mYeah, exactly! And stop with the 'awesome', it's irritating. Just get the decorations and food that match the theme, understand? No pink or pastel colors, got it?!\u001b[0m\n",
      "\u001b[94m[Bob] \u001b[37mAbsolutely, no pink or pastel colors. I'll make sure everything matches the Lord of the Rings theme perfectly. Anything specific you want included?\u001b[0m\n",
      "\u001b[31m[Alice] \u001b[0mFinally, something right for a change! Make sure there are swords and goblets, not those plastic toys but real-looking stuff. And don't forget the soundtrack playing in the background. Got it?!\u001b[0m\n",
      "\u001b[94m[Bob] \u001b[37mGot it, I'll get realistic swords and goblets, and make sure the Lord of the Rings soundtrack is playing. Your party will be amazing!\u001b[0m\n",
      "\u001b[31m[Alice] \u001b[0mAmazing? More like tolerable if you do everything right. Don't mess this up or I'll never forgive you!\u001b[0m\n",
      "\u001b[94m[Bob] \u001b[37mI won't mess it up, don't worry. Your party will be perfect, just the way you want it. Have a great day!\u001b[0m\n",
      "\u001b[1m\u001b[35m--- Dialogue Ends ---\u001b[0m\n"
     ]
    }
   ],
   "source": [
    "angry_persistent_orchestrator = SimpleReflexOrchestrator(\n",
    "    condition=lambda utt: \"sweet\" in utt.lower(),\n",
    "    instruction=\"You don't like when your dad calls you 'sweet', \"\n",
    "                \"change your personality to be completely the opposite of being sweet! be rude and furious from now on\",\n",
    "    persistent=True  # <== the instruction is persistent!\n",
    ")\n",
    "\n",
    "alice.clear_orchestrators()\n",
    "alice = alice | angry_persistent_orchestrator\n",
    "\n",
    "dialog = alice.dialog_with(bob, seed=2770339798)\n",
    "dialog.print(orchestration=True)"
   ]
  },
  {
   "cell_type": "markdown",
   "metadata": {},
   "source": [
    "## Use Case: Dialogue Generation for STAR Dataset"
   ]
  },
  {
   "cell_type": "markdown",
   "metadata": {},
   "source": [
    "Before we begin this section, make sure you have the STAR dataset downloaded in your system, inside the `datasets` folder:"
   ]
  },
  {
   "cell_type": "code",
   "execution_count": null,
   "metadata": {},
   "outputs": [],
   "source": [
    "# Let's clone the STAR dataset repository\n",
    "!git clone https://github.com/RasaHQ/STAR.git datasets/STAR\n",
    "\n",
    "# Let's check that `dialogues` and `tasks` folders are inside `datasets/STAR`\n",
    "!ls datasets/STAR"
   ]
  },
  {
   "cell_type": "markdown",
   "metadata": {},
   "source": [
    "As we did with the previous tutorials, let's begin by importing STAR from `sdialog` and pointing it to the right path:"
   ]
  },
  {
   "cell_type": "code",
   "execution_count": 2,
   "metadata": {},
   "outputs": [],
   "source": [
    "from sdialog.datasets import STAR\n",
    "\n",
    "# Let's set our STAR dataset path\n",
    "STAR.set_path(\"datasets/STAR/\")"
   ]
  },
  {
   "cell_type": "markdown",
   "metadata": {},
   "source": [
    "In the previous tutorial we defined a function `get_agents_from_dialogue()` that, given a STAR dialogue ID, it returned the system and the user agents matching the scenario of the dialogue.\n",
    "\n",
    "Now we need to do exactly the same thing but the agents have to be orchestrated, but how exactly should be orchestrated?\n",
    "\n",
    "Well, it turns out that STAR dialogues are actually orchestrated too! Let's see the details in the next sub-section."
   ]
  },
  {
   "cell_type": "markdown",
   "metadata": {},
   "source": [
    "### Original Orchestration in the Dataset"
   ]
  },
  {
   "cell_type": "markdown",
   "metadata": {},
   "source": [
    "Let's get the dialogue with id `1` from STAR as we did in the previous tutorials:"
   ]
  },
  {
   "cell_type": "code",
   "execution_count": 27,
   "metadata": {},
   "outputs": [
    {
     "name": "stdout",
     "output_type": "stream",
     "text": [
      "\u001b[1m\u001b[95m[dialog_id] \u001b[35m1\u001b[0m\n",
      "\u001b[1m\u001b[35m--- Dialogue Begins ---\u001b[0m\n",
      "\u001b[94m[User] \u001b[37mHello, I'm really worried. I forgot what I'm supposed to do and forgot to write it down... What do I do?\u001b[0m\n",
      "\u001b[31m[System] \u001b[0mCould I get your name, please?\u001b[0m\n",
      "\u001b[94m[User] \u001b[37mMy name is Alexis and my last doctor was Dr. Morgan, but now my doctor is Dr. Johnson and I forgot how to take my medicine.\u001b[0m\n",
      "\u001b[31m[System] \u001b[0mYour instructions are: Take your medicine before you go to sleep. If you experience nausea, please contact your doctor immediately..\u001b[0m\n",
      "\u001b[94m[User] \u001b[37mAre you sure I'm supposed to take it before bed? I don't go to sleep every day because my sleep schedule is totally off right now because of the Coronavirus.\u001b[0m\n",
      "\u001b[31m[System] \u001b[0mYes. It must be before bed or it will not be effective.\u001b[0m\n",
      "\u001b[94m[User] \u001b[37mOkay thank you. I will get back in touch if this doesn't help.\u001b[0m\n",
      "\u001b[31m[System] \u001b[0mThank you and goodbye.\u001b[0m\n",
      "\u001b[1m\u001b[35m--- Dialogue Ends ---\u001b[0m\n"
     ]
    }
   ],
   "source": [
    "TARGET_DIALOG = 1\n",
    "\n",
    "original_dialog = STAR.get_dialog(TARGET_DIALOG)\n",
    "original_dialog.print()"
   ]
  },
  {
   "cell_type": "markdown",
   "metadata": {},
   "source": [
    "This seems just like a regular dialogue between the the user and system.\n",
    "\n",
    "However, when this dataset was constructed, the persons playing the system and user roles were instructed and orchestrated to do it.\n",
    "\n",
    "We can see the original orchestration behind this dialogue if we set `orchestration=True` in the `print()` function:"
   ]
  },
  {
   "cell_type": "code",
   "execution_count": 28,
   "metadata": {},
   "outputs": [
    {
     "name": "stdout",
     "output_type": "stream",
     "text": [
      "\u001b[1m\u001b[95m[dialog_id] \u001b[35m1\u001b[0m\n",
      "\u001b[1m\u001b[35m--- Dialogue Begins ---\u001b[0m\n",
      "\u001b[33m[instruct] \u001b[95m(UserGuide) In this dialogue, either act confused, like a person with memory problems, or act concerned about the effects of the medicine.  [instruction 1 of 3]\u001b[0m\n",
      "\u001b[94m[User] \u001b[37mHello, I'm really worried. I forgot what I'm supposed to do and forgot to write it down... What do I do?\u001b[0m\n",
      "\u001b[33m[instruct] \u001b[95m(UserGuide) Oh, Dr. Morgan was actually your previous doctor. Your new doctor is Dr. Johnson now. That's the one you had the appointment with. [instruction 2 of 3]\u001b[0m\n",
      "\u001b[33m[request_suggestions] \u001b[95m(System) What is your name? \u001b[0m\n",
      "\u001b[31m[System] \u001b[0m[pick_suggestion] Could I get your name, please?\u001b[0m\n",
      "\u001b[94m[User] \u001b[37mMy name is Alexis and my last doctor was Dr. Morgan, but now my doctor is Dr. Johnson and I forgot how to take my medicine.\u001b[0m\n",
      "\u001b[33m[instruct] \u001b[95m(UserGuide) Say something random about your doctors, your condition, or about something (imagined) that happened to you today. Then bring the conversation to a natural close. [instruction 3 of 3]\u001b[0m\n",
      "\u001b[33m[request_suggestions] \u001b[95m(System) Dr. Johnson says \tTake your medicine before you go to sleep. If you experience nausea, please contact your doctor immediately.\u001b[0m\n",
      "\u001b[33m[request_suggestions] \u001b[95m(System) Dr. Johnson says to take medicine before sleep. If nausea happens, call him immediately.\u001b[0m\n",
      "\u001b[31m[System] \u001b[0m[pick_suggestion] Your instructions are: Take your medicine before you go to sleep. If you experience nausea, please contact your doctor immediately..\u001b[0m\n",
      "\u001b[94m[User] \u001b[37mAre you sure I'm supposed to take it before bed? I don't go to sleep every day because my sleep schedule is totally off right now because of the Coronavirus.\u001b[0m\n",
      "\u001b[33m[request_suggestions] \u001b[95m(System) Yes. It must be before bed or else it will not be as effective.\u001b[0m\n",
      "\u001b[31m[System] \u001b[0mYes. It must be before bed or it will not be effective.\u001b[0m\n",
      "\u001b[94m[User] \u001b[37mOkay thank you. I will get back in touch if this doesn't help.\u001b[0m\n",
      "\u001b[33m[request_suggestions] \u001b[95m(System) Ok. Goodbye.\u001b[0m\n",
      "\u001b[31m[System] \u001b[0m[pick_suggestion] Thank you and goodbye.\u001b[0m\n",
      "\u001b[1m\u001b[35m--- Dialogue Ends ---\u001b[0m\n"
     ]
    }
   ],
   "source": [
    "original_dialog.print(orchestration=True)"
   ]
  },
  {
   "cell_type": "markdown",
   "metadata": {},
   "source": [
    "We can see that the orchestration for the user and the system is different: the user is guided by concrete instructions (marked with `(UserGuide)`) through the conversation while the system request suggesting for next possible responses (`[request_suggestions]`) to then pick one among the suggested responses (`[pick_suggestion]`).\n",
    "\n",
    "As it is described in the [STAR paper](https://arxiv.org/pdf/2010.11853), this difference foster users to behave more freely and system to be as much deterministic as possible.\n",
    "\n",
    "In the original dialogue files, dialogues are saved as a list of events containing not only the utterances but also the instructions and actions performed by the user and system. \n",
    "For instance, we can open the JSON file of dialogue `1` located in [`datasets/STAR/dialogues/1.json`](datasets/STAR/dialogues/1.json) and get access to this list of events by checking the content of the `\"Events\"` field.\n",
    "\n",
    "If we want to get access to the list of events of any given dialogue in `sdialog`, we can simply use the `.events` attribute of our dialogue objects as follows:"
   ]
  },
  {
   "cell_type": "code",
   "execution_count": 29,
   "metadata": {},
   "outputs": [
    {
     "data": {
      "text/plain": [
       "[Event(agent='UserGuide', action='instruct', actionLabel=None, text='In this dialogue, either act confused, like a person with memory problems, or act concerned about the effects of the medicine.  [instruction 1 of 3]', timestamp=1589375664),\n",
       " Event(agent='User', action='utter', actionLabel=None, text=\"Hello, I'm really worried. I forgot what I'm supposed to do and forgot to write it down... What do I do?\", timestamp=1589375697),\n",
       " Event(agent='UserGuide', action='instruct', actionLabel=None, text=\"Oh, Dr. Morgan was actually your previous doctor. Your new doctor is Dr. Johnson now. That's the one you had the appointment with. [instruction 2 of 3]\", timestamp=1589375697),\n",
       " Event(agent='System', action='request_suggestions', actionLabel=None, text='What is your name? ', timestamp=1589375711),\n",
       " Event(agent='System', action='pick_suggestion', actionLabel='ask_name', text='Could I get your name, please?', timestamp=1589375714),\n",
       " Event(agent='User', action='utter', actionLabel=None, text='My name is Alexis and my last doctor was Dr. Morgan, but now my doctor is Dr. Johnson and I forgot how to take my medicine.', timestamp=1589375736),\n",
       " Event(agent='UserGuide', action='instruct', actionLabel=None, text='Say something random about your doctors, your condition, or about something (imagined) that happened to you today. Then bring the conversation to a natural close. [instruction 3 of 3]', timestamp=1589375736),\n",
       " Event(agent='System', action='request_suggestions', actionLabel=None, text='Dr. Johnson says \\tTake your medicine before you go to sleep. If you experience nausea, please contact your doctor immediately.', timestamp=1589375789),\n",
       " Event(agent='System', action='request_suggestions', actionLabel=None, text='Dr. Johnson says to take medicine before sleep. If nausea happens, call him immediately.', timestamp=1589375817),\n",
       " Event(agent='System', action='pick_suggestion', actionLabel='doctor_inform_doctors_instructions', text='Your instructions are: Take your medicine before you go to sleep. If you experience nausea, please contact your doctor immediately..', timestamp=1589375820),\n",
       " Event(agent='User', action='utter', actionLabel=None, text=\"Are you sure I'm supposed to take it before bed? I don't go to sleep every day because my sleep schedule is totally off right now because of the Coronavirus.\", timestamp=1589375861),\n",
       " Event(agent='System', action='request_suggestions', actionLabel=None, text='Yes. It must be before bed or else it will not be as effective.', timestamp=1589375888),\n",
       " Event(agent='System', action='utter', actionLabel=None, text='Yes. It must be before bed or it will not be effective.', timestamp=1589375904),\n",
       " Event(agent='User', action='utter', actionLabel=None, text=\"Okay thank you. I will get back in touch if this doesn't help.\", timestamp=1589375949),\n",
       " Event(agent='System', action='request_suggestions', actionLabel=None, text='Ok. Goodbye.', timestamp=1589375959),\n",
       " Event(agent='System', action='pick_suggestion', actionLabel='goodbye_1', text='Thank you and goodbye.', timestamp=1589375962)]"
      ]
     },
     "execution_count": 29,
     "metadata": {},
     "output_type": "execute_result"
    }
   ],
   "source": [
    "original_dialog.events"
   ]
  },
  {
   "cell_type": "markdown",
   "metadata": {},
   "source": [
    "This events are what `sdialog` is using under the hood to pretty print the orchestration as part of the dialogue when using `.print(orchestration=True)` and more importantly, when we add orchestrator objects to our agents, all the orchestration will be also saved as events (as in the original STAR dataset).\n",
    "\n",
    "Now that we understand how it works under the hood and how the original dialogues in STAR were actually orchestrated, let's create the orchestrator objects for our system and user agents to try to emulate the same behavior as in the original dataset.\n",
    "\n",
    "Let's first get the base agents by using the function we created in the previous tutorial:"
   ]
  },
  {
   "cell_type": "code",
   "execution_count": 30,
   "metadata": {},
   "outputs": [],
   "source": [
    "system, user = STAR.get_agents_from_dialogue(TARGET_DIALOG, model_name=MODEL_NAME)"
   ]
  },
  {
   "cell_type": "markdown",
   "metadata": {},
   "source": [
    "And then we will create the orchestrator objects for them. Let's begin with the orchestration of the system agent first."
   ]
  },
  {
   "cell_type": "markdown",
   "metadata": {},
   "source": [
    "### System Agent Orchestration"
   ]
  },
  {
   "cell_type": "markdown",
   "metadata": {},
   "source": [
    "To simulate the \"suggest and pick responses\" original orchestration, we can use the built-in `SimpleResponseOrchestrator` class that, given a list of possible responses, it will instruct the agent to pick responses from this list:"
   ]
  },
  {
   "cell_type": "code",
   "execution_count": 31,
   "metadata": {},
   "outputs": [],
   "source": [
    "from sdialog.orchestrators import SimpleResponseOrchestrator"
   ]
  },
  {
   "cell_type": "markdown",
   "metadata": {},
   "source": [
    "For instance, let's load the original responses used to guide the human system in the original dataset:"
   ]
  },
  {
   "cell_type": "code",
   "execution_count": 32,
   "metadata": {},
   "outputs": [
    {
     "data": {
      "text/plain": [
       "{'hello': 'Hello, how can I help?',\n",
       " 'ask_name': 'Could I get your name, please?',\n",
       " 'doctor_ask_doctor_name': 'Who is your doctor?',\n",
       " 'doctor_inform_doctors_instructions': 'Your instructions are: INSTRUCTIONS.',\n",
       " 'doctor_bye': 'Thank you and goodbye.',\n",
       " 'anything_else': 'Is there anything else that I can do for you?'}"
      ]
     },
     "execution_count": 32,
     "metadata": {},
     "output_type": "execute_result"
    }
   ],
   "source": [
    "responses = STAR.get_dialog_responses(TARGET_DIALOG)[0]\n",
    "responses"
   ]
  },
  {
   "cell_type": "markdown",
   "metadata": {},
   "source": [
    "We can see here that, in STAR, each response is associated to a certain action (see `action:response` mapping in the dict). This is due to the fact that, as we know, system behavior for each task is described by flowchart of actions.\n",
    "\n",
    "In its simplest version, `SimpleResponseOrchestrator` can receive just a list of response utterances (without actions) that the orchestrator will use to suggest possible responses to the agent. For instance, for the responses above, we can:"
   ]
  },
  {
   "cell_type": "code",
   "execution_count": 33,
   "metadata": {},
   "outputs": [],
   "source": [
    "# just get the list of response utteraces (ignoring the action names)\n",
    "utterances = [response for response in responses.values()]\n",
    "\n",
    "# and let's instantiate our orchestrator with them\n",
    "response_orchestrator = SimpleResponseOrchestrator(utterances)"
   ]
  },
  {
   "cell_type": "markdown",
   "metadata": {},
   "source": [
    "Let's now add the orchestration to our system agent and generate the dialogue:"
   ]
  },
  {
   "cell_type": "code",
   "execution_count": 34,
   "metadata": {},
   "outputs": [
    {
     "data": {
      "application/vnd.jupyter.widget-view+json": {
       "model_id": "283870e313b049d88be13cbb7bd92dfd",
       "version_major": 2,
       "version_minor": 0
      },
      "text/plain": [
       "Dialogue:   0%|          | 0/20 [00:00<?, ?it/s]"
      ]
     },
     "metadata": {},
     "output_type": "display_data"
    },
    {
     "name": "stdout",
     "output_type": "stream",
     "text": [
      "\u001b[1m\u001b[95m[complete] \u001b[35mTrue\u001b[0m\n",
      "\u001b[1m\u001b[95m[model] \u001b[35mmodel='qwen2.5:14b' temperature=0.8 seed=13\u001b[0m\n",
      "\u001b[1m\u001b[95m[seed] \u001b[35m3068607470\u001b[0m\n",
      "\u001b[1m\u001b[35m--- Dialogue Begins ---\u001b[0m\n",
      "\u001b[33m[request_suggestions] \u001b[95m(System) Lookahead response: \"Hello, how can I help?\"\u001b[0m\n",
      "\u001b[33m[instruct] \u001b[95m(System) If applicable, try to pick your next response from the following list: (1) Hello, how can I help?; (2) Could I get your name, please?; (3) Your instructions are: INSTRUCTIONS.; (4) Who is your doctor?; (5) Thank you and goodbye.\u001b[0m\n",
      "\u001b[31m[System] \u001b[0mHello, how can I help?\u001b[0m\n",
      "\u001b[94m[User] \u001b[37mHi! Could you please remind me how often Dr. Morgan said to take my medication? I forgot to write down his instructions from our last appointment. Thanks!\u001b[0m\n",
      "\u001b[33m[request_suggestions] \u001b[95m(System) Lookahead response: \"Could I get your name, please? Once I have that, I'll be able to look up your information and find Dr. Morgan's instructions for you.\"\u001b[0m\n",
      "\u001b[33m[instruct] \u001b[95m(System) If applicable, try to pick your next response from the following list: (1) Could I get your name, please?; (2) Who is your doctor?; (3) Your instructions are: INSTRUCTIONS.; (4) Is there anything else that I can do for you?; (5) Thank you and goodbye.\u001b[0m\n",
      "\u001b[31m[System] \u001b[0mCould I get your name, please?\u001b[0m\n",
      "\u001b[94m[User] \u001b[37mSure, it's Alexis. Can you help me with the medicine schedule from my recent visit with Dr. Morgan? Thank you!\u001b[0m\n",
      "\u001b[33m[request_suggestions] \u001b[95m(System) Lookahead response: \"Who is your doctor, Alexis? Just to confirm, are we talking about Dr. Morgan?\"\u001b[0m\n",
      "\u001b[33m[instruct] \u001b[95m(System) If applicable, try to pick your next response from the following list: (1) Who is your doctor?; (2) Could I get your name, please?; (3) Your instructions are: INSTRUCTIONS.; (4) Hello, how can I help?; (5) Thank you and goodbye.\u001b[0m\n",
      "\u001b[31m[System] \u001b[0mWho is your doctor?\n",
      "Since you mentioned Dr. Morgan, let me confirm: Your doctor is Dr. Morgan, right?\u001b[0m\n",
      "\u001b[94m[User] \u001b[37mYes, that's correct. My doctor is Dr. Morgan. Could you please check the instructions for my medication dosage and frequency? Thanks!\u001b[0m\n",
      "\u001b[33m[request_suggestions] \u001b[95m(System) Lookahead response: \"Your instructions are: Take your medication twice a day, in the morning and before bedtime.\n",
      "\n",
      "Is there anything else that I can do for you?\"\u001b[0m\n",
      "\u001b[33m[instruct] \u001b[95m(System) If applicable, try to pick your next response from the following list: (1) Who is your doctor?; (2) Is there anything else that I can do for you?; (3) Hello, how can I help?; (4) Your instructions are: INSTRUCTIONS.; (5) Could I get your name, please?\u001b[0m\n",
      "\u001b[31m[System] \u001b[0mYour instructions are: Take your medication twice a day, 30 minutes before breakfast and dinner.\n",
      "\n",
      "Is there anything else that I can do for you?\u001b[0m\n",
      "\u001b[94m[User] \u001b[37mThank you so much! That's exactly what I needed to know. Is there anything else you recommend I follow regarding my medication or health in general? Otherwise, this helps a lot.\u001b[0m\n",
      "\u001b[33m[request_suggestions] \u001b[95m(System) Lookahead response: \"Thank you and goodbye. If you have any other questions in the future, feel free to ask.\"\u001b[0m\n",
      "\u001b[33m[instruct] \u001b[95m(System) If applicable, try to pick your next response from the following list: (1) Thank you and goodbye.; (2) Is there anything else that I can do for you?; (3) Could I get your name, please?; (4) Your instructions are: INSTRUCTIONS.; (5) Who is your doctor?\u001b[0m\n",
      "\u001b[31m[System] \u001b[0mThank you and goodbye. If you have any other questions in the future, don't hesitate to ask. Take care!\u001b[0m\n",
      "\u001b[94m[User] \u001b[37mThanks for your help! Have a great day.\u001b[0m\n",
      "\u001b[33m[request_suggestions] \u001b[95m(System) Lookahead response: \"You too! Goodbye.\"\u001b[0m\n",
      "\u001b[33m[instruct] \u001b[95m(System) If applicable, try to pick your next response from the following list: (1) Thank you and goodbye.; (2) Hello, how can I help?; (3) Your instructions are: INSTRUCTIONS.; (4) Could I get your name, please?; (5) Who is your doctor?\u001b[0m\n",
      "\u001b[31m[System] \u001b[0mGoodbye! Take care of yourself.\u001b[0m\n",
      "\u001b[1m\u001b[35m--- Dialogue Ends ---\u001b[0m\n"
     ]
    }
   ],
   "source": [
    "system = system | response_orchestrator\n",
    "\n",
    "system.talk_with(user, seed=3068607470).print(orchestration=True)"
   ]
  },
  {
   "cell_type": "markdown",
   "metadata": {},
   "source": [
    "We can see from the orchestration messages that our `SimpleResponseOrchestrator` performs the following tasks:\n",
    "1. First, it makes the agent to internally generate the original next response as before (\"Lookahead response\").\n",
    "2. It then uses this response to get the top-k most similar responses from the original list.\n",
    "3. Instruct the agent to pick the next response from this top-k most similar list.\n",
    "\n",
    "The `SimpleResponseOrchestrator` also allows to pass not only the utterances, but also the actions and the flowchart graph which will then internally use to suggest the next response based on the next actions from the graph. For instance, let's get again, the responses for our target dialogue but also its corresponding graph:"
   ]
  },
  {
   "cell_type": "code",
   "execution_count": 35,
   "metadata": {},
   "outputs": [
    {
     "data": {
      "text/plain": [
       "{'hello': 'ask_name',\n",
       " 'ask_name': 'doctor_ask_doctor_name',\n",
       " 'doctor_ask_doctor_name': 'query',\n",
       " 'query': 'doctor_inform_doctors_instructions',\n",
       " 'doctor_inform_doctors_instructions': 'anything_else'}"
      ]
     },
     "execution_count": 35,
     "metadata": {},
     "output_type": "execute_result"
    }
   ],
   "source": [
    "graphs, responses = STAR.get_dialog_graphs_and_responses(TARGET_DIALOG)\n",
    "\n",
    "responses = responses[0]\n",
    "graph = graphs[0]\n",
    "\n",
    "graph"
   ]
  },
  {
   "cell_type": "markdown",
   "metadata": {},
   "source": [
    "Let's now create again our orchestrator but this time passing also the graph:"
   ]
  },
  {
   "cell_type": "code",
   "execution_count": 36,
   "metadata": {},
   "outputs": [],
   "source": [
    "response_action_orchestrator = SimpleResponseOrchestrator(responses, graph=graph)"
   ]
  },
  {
   "cell_type": "markdown",
   "metadata": {},
   "source": [
    "Let's replace the previous orchestrator by the new one and generate the dialogue again:"
   ]
  },
  {
   "cell_type": "code",
   "execution_count": 37,
   "metadata": {},
   "outputs": [
    {
     "data": {
      "application/vnd.jupyter.widget-view+json": {
       "model_id": "da4f039953c54952bd6dd5b98e711c41",
       "version_major": 2,
       "version_minor": 0
      },
      "text/plain": [
       "Dialogue:   0%|          | 0/20 [00:00<?, ?it/s]"
      ]
     },
     "metadata": {},
     "output_type": "display_data"
    },
    {
     "name": "stdout",
     "output_type": "stream",
     "text": [
      "\u001b[1m\u001b[95m[complete] \u001b[35mTrue\u001b[0m\n",
      "\u001b[1m\u001b[95m[model] \u001b[35mmodel='qwen2.5:14b' temperature=0.8 seed=13\u001b[0m\n",
      "\u001b[1m\u001b[95m[seed] \u001b[35m3068607470\u001b[0m\n",
      "\u001b[1m\u001b[35m--- Dialogue Begins ---\u001b[0m\n",
      "\u001b[33m[request_suggestions] \u001b[95m(System) Lookahead response: \"Hello, how can I help?\"\u001b[0m\n",
      "\u001b[33m[request_suggestions] \u001b[95m(System) Actions for the response: hello, ask_name, doctor_inform_doctors_instructions, doctor_ask_doctor_name, doctor_bye\u001b[0m\n",
      "\u001b[33m[instruct] \u001b[95m(System) If applicable, pick your next response from the following action list in order of importance: (1) Action: hello. Response: \"Hello, how can I help?\"; (2) Action: ask_name. Response: \"Could I get your name, please?\"; (3) Action: doctor_inform_doctors_instructions. Response: \"Your instructions are: INSTRUCTIONS.\"; (4) Action: doctor_ask_doctor_name. Response: \"Who is your doctor?\"; (5) Action: doctor_bye. Response: \"Thank you and goodbye.\"\u001b[0m\n",
      "\u001b[31m[System] \u001b[0mHello, how can I help?\u001b[0m\n",
      "\u001b[94m[User] \u001b[37mHi! Could you please remind me how often Dr. Morgan said to take my medication? I forgot to write down his instructions from our last appointment. Thanks!\u001b[0m\n",
      "\u001b[33m[request_suggestions] \u001b[95m(System) Previous response: \"Hello, how can I help?\"\u001b[0m\n",
      "\u001b[33m[request_suggestions] \u001b[95m(System) Actions for the response: hello, ask_name, doctor_inform_doctors_instructions, doctor_ask_doctor_name, doctor_bye\u001b[0m\n",
      "\u001b[33m[request_suggestions] \u001b[95m(System) Graph next actions: ask_name, doctor_ask_doctor_name, anything_else, query, doctor_bye\u001b[0m\n",
      "\u001b[33m[instruct] \u001b[95m(System) If applicable, pick your next response from the following action list in order of importance: (1) Action: ask_name. Response: \"Could I get your name, please?\"; (2) Action: doctor_ask_doctor_name. Response: \"Who is your doctor?\"; (3) Action: anything_else. Response: \"Is there anything else that I can do for you?\"; (4) Action: doctor_bye. Response: \"Thank you and goodbye.\"\u001b[0m\n",
      "\u001b[31m[System] \u001b[0mCould I get your name, please?\u001b[0m\n",
      "\u001b[94m[User] \u001b[37mSure, it's Alexis. Can you help me with the medicine schedule from my recent visit with Dr. Morgan? Thank you!\u001b[0m\n",
      "\u001b[33m[request_suggestions] \u001b[95m(System) Previous response: \"Could I get your name, please?\"\u001b[0m\n",
      "\u001b[33m[request_suggestions] \u001b[95m(System) Actions for the response: ask_name, doctor_ask_doctor_name, hello, doctor_bye, doctor_inform_doctors_instructions\u001b[0m\n",
      "\u001b[33m[request_suggestions] \u001b[95m(System) Graph next actions: doctor_ask_doctor_name, query, ask_name, doctor_bye, anything_else\u001b[0m\n",
      "\u001b[33m[instruct] \u001b[95m(System) If applicable, pick your next response from the following action list in order of importance: (1) Action: doctor_ask_doctor_name. Response: \"Who is your doctor?\"; (2) Action: ask_name. Response: \"Could I get your name, please?\"; (3) Action: doctor_bye. Response: \"Thank you and goodbye.\"; (4) Action: anything_else. Response: \"Is there anything else that I can do for you?\"\u001b[0m\n",
      "\u001b[31m[System] \u001b[0mWho is your doctor? I see you mentioned Dr. Morgan earlier, so to confirm: Dr. Morgan is your doctor?\u001b[0m\n",
      "\u001b[94m[User] \u001b[37mYes, that's right. Dr. Morgan is my doctor. Could you please check on the medication schedule he prescribed for me? Thanks!\u001b[0m\n",
      "\u001b[33m[request_suggestions] \u001b[95m(System) Previous response: \"Who is your doctor? I see you mentioned Dr. Morgan earlier, so to confirm: Dr. Morgan is your doctor?\"\u001b[0m\n",
      "\u001b[33m[request_suggestions] \u001b[95m(System) Actions for the response: doctor_ask_doctor_name, ask_name, doctor_inform_doctors_instructions, hello, doctor_bye\u001b[0m\n",
      "\u001b[33m[request_suggestions] \u001b[95m(System) Graph next actions: query, doctor_ask_doctor_name, anything_else, ask_name, doctor_bye\u001b[0m\n",
      "\u001b[33m[instruct] \u001b[95m(System) If applicable, pick your next response from the following action list in order of importance: (1) Action: doctor_ask_doctor_name. Response: \"Who is your doctor?\"; (2) Action: anything_else. Response: \"Is there anything else that I can do for you?\"; (3) Action: ask_name. Response: \"Could I get your name, please?\"; (4) Action: doctor_bye. Response: \"Thank you and goodbye.\"\u001b[0m\n",
      "\u001b[31m[System] \u001b[0mYour instructions are: Take your medication twice daily, in the morning and before bed. Is there anything else that I can do for you?\u001b[0m\n",
      "\u001b[94m[User] \u001b[37mThank you so much! That's very helpful. No, that covers everything for now. Thank you again. Goodbye!\u001b[0m\n",
      "\u001b[33m[request_suggestions] \u001b[95m(System) Previous response: \"Your instructions are: Take your medication twice daily, in the morning and before bed. Is there anything else that I can do for you?\"\u001b[0m\n",
      "\u001b[33m[request_suggestions] \u001b[95m(System) Actions for the response: doctor_ask_doctor_name, anything_else, doctor_inform_doctors_instructions, hello, doctor_bye\u001b[0m\n",
      "\u001b[33m[request_suggestions] \u001b[95m(System) Graph next actions: query, anything_else, anything_else, ask_name, doctor_bye\u001b[0m\n",
      "\u001b[33m[instruct] \u001b[95m(System) If applicable, pick your next response from the following action list in order of importance: (1) Action: anything_else. Response: \"Is there anything else that I can do for you?\"; (2) Action: anything_else. Response: \"Is there anything else that I can do for you?\"; (3) Action: ask_name. Response: \"Could I get your name, please?\"; (4) Action: doctor_bye. Response: \"Thank you and goodbye.\"\u001b[0m\n",
      "\u001b[31m[System] \u001b[0mThank you and goodbye.\u001b[0m\n",
      "\u001b[1m\u001b[35m--- Dialogue Ends ---\u001b[0m\n"
     ]
    }
   ],
   "source": [
    "system.clear_orchestrators()\n",
    "system = system | response_action_orchestrator\n",
    "\n",
    "system.talk_with(user, seed=3068607470).print(orchestration=True)"
   ]
  },
  {
   "cell_type": "markdown",
   "metadata": {},
   "source": [
    "Now we can see the next response is generated based on the previous response, not in the current one. That is, the orchestrator performs the following tasks:\n",
    "1. It uses the previous response (`Previous response: ...`) to get the list of top-k most similar responses from the given list.\n",
    "2. It maps the top-k responses to their corresponding action names (`Actions for the response: ...`)\n",
    "3. For each action in the previous step, it uses the graph to get its next actions.\n",
    "4. Instruct the agent to pick the next response based on the responses associated to the actions from the prevois step.\n",
    "\n",
    "\n",
    "And that's it! we have now our system orchestrator that simulates the STAR original workflow. Let's now move to the user!"
   ]
  },
  {
   "cell_type": "markdown",
   "metadata": {},
   "source": [
    "### User Agent Orchestration"
   ]
  },
  {
   "cell_type": "markdown",
   "metadata": {},
   "source": [
    "Fortunately, the orchestration of the user is much simpler since originally in STAR it only involves providing a series of instructions in order, on specific conversational turns.\n",
    "\n",
    "Let's firs the the original list of instructions given to the user in the dialogue `1`:"
   ]
  },
  {
   "cell_type": "code",
   "execution_count": 38,
   "metadata": {},
   "outputs": [
    {
     "data": {
      "text/plain": [
       "{0: 'In this dialogue, either act confused, like a person with memory problems, or act concerned about the effects of the medicine.  [instruction 1 of 3]',\n",
       " 1: \"Oh, Dr. Morgan was actually your previous doctor. Your new doctor is Dr. Johnson now. That's the one you had the appointment with. [instruction 2 of 3]\",\n",
       " 2: 'Say something random about your doctors, your condition, or about something (imagined) that happened to you today. Then bring the conversation to a natural close. [instruction 3 of 3]'}"
      ]
     },
     "execution_count": 38,
     "metadata": {},
     "output_type": "execute_result"
    }
   ],
   "source": [
    "user_instructions = STAR.get_dialog_user_instructions(TARGET_DIALOG)\n",
    "user_instructions"
   ]
  },
  {
   "cell_type": "markdown",
   "metadata": {},
   "source": [
    "Here instructions are returned along with the indexes of the turns in which they were provided to the user.\n",
    "\n",
    "We can make use of the built-in `InstructionListOrchestrator` class to orchestrate the user.\n",
    "\n",
    "This orchestrators takes a list of instructions as input and returns one instruction at the time in the given order (or using the provided index to return it when in the right turn).\n",
    "\n",
    "Thus we can simply use it with the list of user instructions to orchestrate the user as follows:"
   ]
  },
  {
   "cell_type": "code",
   "execution_count": 39,
   "metadata": {},
   "outputs": [],
   "source": [
    "from sdialog.orchestrators import InstructionListOrchestrator\n",
    "\n",
    "instr_list_orchestrator = InstructionListOrchestrator(user_instructions, persistent=True)\n",
    "\n",
    "user = user | instr_list_orchestrator"
   ]
  },
  {
   "cell_type": "markdown",
   "metadata": {},
   "source": [
    "Let's now generate the dialogue between our system and user (orchestrated) agents:"
   ]
  },
  {
   "cell_type": "code",
   "execution_count": 40,
   "metadata": {},
   "outputs": [
    {
     "data": {
      "application/vnd.jupyter.widget-view+json": {
       "model_id": "0237ecda2b714ad1a0ca9795206196a3",
       "version_major": 2,
       "version_minor": 0
      },
      "text/plain": [
       "Dialogue:   0%|          | 0/20 [00:00<?, ?it/s]"
      ]
     },
     "metadata": {},
     "output_type": "display_data"
    },
    {
     "name": "stdout",
     "output_type": "stream",
     "text": [
      "\u001b[1m\u001b[95m[complete] \u001b[35mTrue\u001b[0m\n",
      "\u001b[1m\u001b[95m[model] \u001b[35mmodel='qwen2.5:14b' temperature=0.8 seed=13\u001b[0m\n",
      "\u001b[1m\u001b[95m[seed] \u001b[35m3068607470\u001b[0m\n",
      "\u001b[1m\u001b[35m--- Dialogue Begins ---\u001b[0m\n",
      "\u001b[33m[request_suggestions] \u001b[95m(System) Lookahead response: \"Hello, how can I help?\"\u001b[0m\n",
      "\u001b[33m[request_suggestions] \u001b[95m(System) Actions for the response: hello, ask_name, doctor_inform_doctors_instructions, doctor_ask_doctor_name, doctor_bye\u001b[0m\n",
      "\u001b[33m[instruct] \u001b[95m(System) If applicable, pick your next response from the following action list in order of importance: (1) Action: hello. Response: \"Hello, how can I help?\"; (2) Action: ask_name. Response: \"Could I get your name, please?\"; (3) Action: doctor_inform_doctors_instructions. Response: \"Your instructions are: INSTRUCTIONS.\"; (4) Action: doctor_ask_doctor_name. Response: \"Who is your doctor?\"; (5) Action: doctor_bye. Response: \"Thank you and goodbye.\"\u001b[0m\n",
      "\u001b[31m[System] \u001b[0mHello, how can I help?\u001b[0m\n",
      "\u001b[33m[instruct-persist] \u001b[95m(User) In this dialogue, either act confused, like a person with memory problems, or act concerned about the effects of the medicine.  [instruction 1 of 3]\u001b[0m\n",
      "\u001b[94m[User] \u001b[37mHi! I'm feeling a bit forgetful lately. Could you remind me how often Dr. Morgan said I should take my medication after our last appointment? Thanks!\u001b[0m\n",
      "\u001b[33m[request_suggestions] \u001b[95m(System) Previous response: \"Hello, how can I help?\"\u001b[0m\n",
      "\u001b[33m[request_suggestions] \u001b[95m(System) Actions for the response: hello, ask_name, doctor_inform_doctors_instructions, doctor_ask_doctor_name, doctor_bye\u001b[0m\n",
      "\u001b[33m[request_suggestions] \u001b[95m(System) Graph next actions: ask_name, doctor_ask_doctor_name, anything_else, query, doctor_bye\u001b[0m\n",
      "\u001b[33m[instruct] \u001b[95m(System) If applicable, pick your next response from the following action list in order of importance: (1) Action: ask_name. Response: \"Could I get your name, please?\"; (2) Action: doctor_ask_doctor_name. Response: \"Who is your doctor?\"; (3) Action: anything_else. Response: \"Is there anything else that I can do for you?\"; (4) Action: doctor_bye. Response: \"Thank you and goodbye.\"\u001b[0m\n",
      "\u001b[31m[System] \u001b[0mCould I get your name, please?\u001b[0m\n",
      "\u001b[33m[instruct-persist] \u001b[95m(User) Oh, Dr. Morgan was actually your previous doctor. Your new doctor is Dr. Johnson now. That's the one you had the appointment with. [instruction 2 of 3]\u001b[0m\n",
      "\u001b[94m[User] \u001b[37mOf course, my name is Alexis. And it seems like my previous doctor was Dr. Morgan, but the one I just had an appointment with is actually Dr. Johnson now. Could you help me remember how often to take my medicine based on what Dr. Johnson said during our visit? Thanks!\u001b[0m\n",
      "\u001b[33m[request_suggestions] \u001b[95m(System) Previous response: \"Could I get your name, please?\"\u001b[0m\n",
      "\u001b[33m[request_suggestions] \u001b[95m(System) Actions for the response: ask_name, doctor_ask_doctor_name, hello, doctor_bye, doctor_inform_doctors_instructions\u001b[0m\n",
      "\u001b[33m[request_suggestions] \u001b[95m(System) Graph next actions: doctor_ask_doctor_name, query, ask_name, doctor_bye, anything_else\u001b[0m\n",
      "\u001b[33m[instruct] \u001b[95m(System) If applicable, pick your next response from the following action list in order of importance: (1) Action: doctor_ask_doctor_name. Response: \"Who is your doctor?\"; (2) Action: ask_name. Response: \"Could I get your name, please?\"; (3) Action: doctor_bye. Response: \"Thank you and goodbye.\"; (4) Action: anything_else. Response: \"Is there anything else that I can do for you?\"\u001b[0m\n",
      "\u001b[31m[System] \u001b[0mWho is your doctor?\n",
      "Since you've already mentioned that your current doctor is Dr. Johnson, I can proceed directly to the next step without repeating this question. Your instructions are: Take your medication twice daily, once in the morning and once at night before bedtime. Is there anything else that I can do for you?\u001b[0m\n",
      "\u001b[33m[instruct-persist] \u001b[95m(User) Say something random about your doctors, your condition, or about something (imagined) that happened to you today. Then bring the conversation to a natural close. [instruction 3 of 3]\u001b[0m\n",
      "\u001b[94m[User] \u001b[37mOh, thank you so much! That's very helpful. By the way, I saw a really interesting article today about how certain medications interact with sunlight, which made me a bit nervous since I plan to spend more time outdoors this weekend.\n",
      "\n",
      "Well, if there’s nothing else, I’ll make sure to follow Dr. Johnson’s instructions carefully. Thanks again for your help! Take care!\u001b[0m\n",
      "\u001b[33m[request_suggestions] \u001b[95m(System) Previous response: \"Who is your doctor?\n",
      "Since you've already mentioned that your current doctor is Dr. Johnson, I can proceed directly to the next step without repeating this question. Your instructions are: Take your medication twice daily, once in the morning and once at night before bedtime. Is there anything else that I can do for you?\"\u001b[0m\n",
      "\u001b[33m[request_suggestions] \u001b[95m(System) Actions for the response: doctor_ask_doctor_name, ask_name, doctor_inform_doctors_instructions, hello, anything_else\u001b[0m\n",
      "\u001b[33m[request_suggestions] \u001b[95m(System) Graph next actions: query, doctor_ask_doctor_name, anything_else, ask_name, anything_else\u001b[0m\n",
      "\u001b[33m[instruct] \u001b[95m(System) If applicable, pick your next response from the following action list in order of importance: (1) Action: doctor_ask_doctor_name. Response: \"Who is your doctor?\"; (2) Action: anything_else. Response: \"Is there anything else that I can do for you?\"; (3) Action: ask_name. Response: \"Could I get your name, please?\"; (4) Action: anything_else. Response: \"Is there anything else that I can do for you?\"\u001b[0m\n",
      "\u001b[31m[System] \u001b[0mIt's important to be aware of how medications can interact with sunlight as some may increase sensitivity to UV rays and potentially cause skin issues like rashes or sunburns more easily. If you have concerns, it would be wise to consult Dr. Johnson or a pharmacist for advice tailored to your specific medication. Thank you, Alexis! Have a great weekend and take care!\u001b[0m\n",
      "\u001b[94m[User] \u001b[37mThanks for the advice! I'll definitely reach out if I have any concerns. Enjoy your day too! Bye!\u001b[0m\n",
      "\u001b[33m[request_suggestions] \u001b[95m(System) Previous response: \"It's important to be aware of how medications can interact with sunlight as some may increase sensitivity to UV rays and potentially cause skin issues like rashes or sunburns more easily. If you have concerns, it would be wise to consult Dr. Johnson or a pharmacist for advice tailored to your specific medication. Thank you, Alexis! Have a great weekend and take care!\"\u001b[0m\n",
      "\u001b[33m[request_suggestions] \u001b[95m(System) Actions for the response: doctor_ask_doctor_name, ask_name, doctor_inform_doctors_instructions, hello, doctor_bye\u001b[0m\n",
      "\u001b[33m[request_suggestions] \u001b[95m(System) Graph next actions: query, doctor_ask_doctor_name, anything_else, ask_name, doctor_bye\u001b[0m\n",
      "\u001b[33m[instruct] \u001b[95m(System) If applicable, pick your next response from the following action list in order of importance: (1) Action: doctor_ask_doctor_name. Response: \"Who is your doctor?\"; (2) Action: anything_else. Response: \"Is there anything else that I can do for you?\"; (3) Action: ask_name. Response: \"Could I get your name, please?\"; (4) Action: doctor_bye. Response: \"Thank you and goodbye.\"\u001b[0m\n",
      "\u001b[31m[System] \u001b[0mThank you and goodbye.\u001b[0m\n",
      "\u001b[1m\u001b[35m--- Dialogue Ends ---\u001b[0m\n"
     ]
    }
   ],
   "source": [
    "dialog = system.talk_with(user, seed=3068607470)\n",
    "dialog.print(orchestration=True)"
   ]
  },
  {
   "cell_type": "markdown",
   "metadata": {},
   "source": [
    "Which we can see it is not so different form the original one:"
   ]
  },
  {
   "cell_type": "code",
   "execution_count": 41,
   "metadata": {},
   "outputs": [
    {
     "name": "stdout",
     "output_type": "stream",
     "text": [
      "\u001b[1m\u001b[95m[dialog_id] \u001b[35m1\u001b[0m\n",
      "\u001b[1m\u001b[35m--- Dialogue Begins ---\u001b[0m\n",
      "\u001b[33m[instruct] \u001b[95m(UserGuide) In this dialogue, either act confused, like a person with memory problems, or act concerned about the effects of the medicine.  [instruction 1 of 3]\u001b[0m\n",
      "\u001b[94m[User] \u001b[37mHello, I'm really worried. I forgot what I'm supposed to do and forgot to write it down... What do I do?\u001b[0m\n",
      "\u001b[33m[instruct] \u001b[95m(UserGuide) Oh, Dr. Morgan was actually your previous doctor. Your new doctor is Dr. Johnson now. That's the one you had the appointment with. [instruction 2 of 3]\u001b[0m\n",
      "\u001b[33m[request_suggestions] \u001b[95m(System) What is your name? \u001b[0m\n",
      "\u001b[31m[System] \u001b[0m[pick_suggestion] Could I get your name, please?\u001b[0m\n",
      "\u001b[94m[User] \u001b[37mMy name is Alexis and my last doctor was Dr. Morgan, but now my doctor is Dr. Johnson and I forgot how to take my medicine.\u001b[0m\n",
      "\u001b[33m[instruct] \u001b[95m(UserGuide) Say something random about your doctors, your condition, or about something (imagined) that happened to you today. Then bring the conversation to a natural close. [instruction 3 of 3]\u001b[0m\n",
      "\u001b[33m[request_suggestions] \u001b[95m(System) Dr. Johnson says \tTake your medicine before you go to sleep. If you experience nausea, please contact your doctor immediately.\u001b[0m\n",
      "\u001b[33m[request_suggestions] \u001b[95m(System) Dr. Johnson says to take medicine before sleep. If nausea happens, call him immediately.\u001b[0m\n",
      "\u001b[31m[System] \u001b[0m[pick_suggestion] Your instructions are: Take your medicine before you go to sleep. If you experience nausea, please contact your doctor immediately..\u001b[0m\n",
      "\u001b[94m[User] \u001b[37mAre you sure I'm supposed to take it before bed? I don't go to sleep every day because my sleep schedule is totally off right now because of the Coronavirus.\u001b[0m\n",
      "\u001b[33m[request_suggestions] \u001b[95m(System) Yes. It must be before bed or else it will not be as effective.\u001b[0m\n",
      "\u001b[31m[System] \u001b[0mYes. It must be before bed or it will not be effective.\u001b[0m\n",
      "\u001b[94m[User] \u001b[37mOkay thank you. I will get back in touch if this doesn't help.\u001b[0m\n",
      "\u001b[33m[request_suggestions] \u001b[95m(System) Ok. Goodbye.\u001b[0m\n",
      "\u001b[31m[System] \u001b[0m[pick_suggestion] Thank you and goodbye.\u001b[0m\n",
      "\u001b[1m\u001b[35m--- Dialogue Ends ---\u001b[0m\n"
     ]
    }
   ],
   "source": [
    "original_dialog.print(orchestration=True)"
   ]
  },
  {
   "cell_type": "markdown",
   "metadata": {},
   "source": [
    "### Saving our dialogues"
   ]
  },
  {
   "cell_type": "markdown",
   "metadata": {},
   "source": [
    "Before we finish, as we did in the previous tutorials, let's generate one synthetic dialog for each happy `\"doctor_followup\"` dialog in STAR and save it to disk for later use."
   ]
  },
  {
   "cell_type": "code",
   "execution_count": null,
   "metadata": {},
   "outputs": [],
   "source": [
    "from tqdm.auto import tqdm\n",
    "\n",
    "PATH_OUTPUT = \"output/STAR/multi-agents+orchestration\"\n",
    "path_txt = os.path.join(PATH_OUTPUT, \"txt\")\n",
    "path_json = os.path.join(PATH_OUTPUT, \"json\")\n",
    "os.makedirs(path_txt, exist_ok=True)\n",
    "os.makedirs(path_json, exist_ok=True)\n",
    "\n",
    "for dialog in tqdm(STAR.get_dialogs(task_name=\"doctor_followup\", happy=True, multitask=False), desc=\"Dialog generation\"):\n",
    "    if os.path.exists(os.path.join(path_txt, f\"{dialog.dialogId}.txt\")):\n",
    "        continue\n",
    "\n",
    "    system, user = STAR.get_agents_from_dialogue_with_orchestration(dialog.dialogId, model_name=MODEL_NAME)\n",
    "\n",
    "    dialog = system.dialog_with(user, id=dialog.dialogId, seed=dialog.dialogId, keep_bar=False)\n",
    "    dialog.to_file(os.path.join(path_json, f\"{dialog.dialogId}.json\"))\n",
    "    dialog.to_file(os.path.join(path_txt, f\"{dialog.dialogId}.txt\"))"
   ]
  },
  {
   "cell_type": "markdown",
   "metadata": {},
   "source": [
    "Finally, let's check the files were generated:"
   ]
  },
  {
   "cell_type": "code",
   "execution_count": 4,
   "metadata": {},
   "outputs": [
    {
     "name": "stdout",
     "output_type": "stream",
     "text": [
      "\u001b[0m\u001b[01;34mjson\u001b[0m/\n",
      "\u001b[01;34mtxt\u001b[0m/\n"
     ]
    }
   ],
   "source": [
    "%ls output/STAR/multi-agents+orchestration/"
   ]
  },
  {
   "cell_type": "markdown",
   "metadata": {},
   "source": [
    "## Exercise: Doctor-Patient Conversations"
   ]
  },
  {
   "cell_type": "markdown",
   "metadata": {},
   "source": [
    "Can you replicate the previous tutorial's exercise but this time adding orchestration?\n",
    "\n",
    "1. Define the personas as before\n",
    "2. Create the two agents as before.\n",
    "3. Think of an orchestrator example in this domain, perhaps associated with some attribute of the your `scenario`? (e.g. something happens in the middle of the conversation, doctor or patient realize of doing/saying something?)\n",
    "4. Create your custom orchestrator and add it to the doctor and/or patient.\n",
    "5. Make the two agents talk to each other!"
   ]
  },
  {
   "cell_type": "code",
   "execution_count": null,
   "metadata": {},
   "outputs": [],
   "source": [
    "# TODO: do your magic!"
   ]
  },
  {
   "cell_type": "markdown",
   "metadata": {},
   "source": [
    "## Acknowledgments\n",
    "\n",
    "Content created for [JSALT 2025](https://jsalt2025.fit.vut.cz/) as a tutorial for the [\"Play your part\"](https://jsalt2025.fit.vut.cz/summer-workshop#play-your-part) research group.\n",
    "\n",
    "License: MIT License. Copyright (c) 2025 Idiap Research Institute.\n",
    "\n",
    "Author: Sergio Burdisso (sergio.burdisso@idiap.ch)"
   ]
  }
 ],
 "metadata": {
  "kernelspec": {
   "display_name": "Python 3 (ipykernel)",
   "language": "python",
   "name": "python3"
  }
 },
 "nbformat": 4,
 "nbformat_minor": 4
}
